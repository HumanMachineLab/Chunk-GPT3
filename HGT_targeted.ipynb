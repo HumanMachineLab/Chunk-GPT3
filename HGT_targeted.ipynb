{
  "cells": [
    {
      "cell_type": "markdown",
      "metadata": {
        "id": "view-in-github",
        "colab_type": "text"
      },
      "source": [
        "<a href=\"https://colab.research.google.com/github/fangyiyu/Honeyword_GPT3/blob/main/HGT_targeted.ipynb\" target=\"_parent\"><img src=\"https://colab.research.google.com/assets/colab-badge.svg\" alt=\"Open In Colab\"/></a>"
      ]
    },
    {
      "cell_type": "markdown",
      "source": [
        "## Importing and Installing"
      ],
      "metadata": {
        "id": "KG3AkddrJASK"
      },
      "id": "KG3AkddrJASK"
    },
    {
      "cell_type": "code",
      "source": [
        "!pip install openai\n",
        "!pip install ckl-psm\n",
        "!pip install fasttext\n",
        "!pip install zxcvbn-python\n",
        "!pip install -U sentence-transformers\n",
        "from sentence_transformers import SentenceTransformer, util"
      ],
      "metadata": {
        "id": "LmngxIoAJCQu"
      },
      "id": "LmngxIoAJCQu",
      "execution_count": null,
      "outputs": []
    },
    {
      "cell_type": "code",
      "execution_count": 8,
      "metadata": {
        "id": "083fd987"
      },
      "outputs": [],
      "source": [
        "import os\n",
        "import torch\n",
        "import openai\n",
        "import random \n",
        "import fasttext\n",
        "import numpy as np\n",
        "import pandas as pd\n",
        "import seaborn as sns\n",
        "from zxcvbn import zxcvbn\n",
        "from ckl_psm import ckl_pcfg as psm\n",
        "dataset = sns.load_dataset('penguins')\n",
        "openai.api_key = \"INSERT YOUR OPENAI KEY HERE\""
      ],
      "id": "083fd987"
    },
    {
      "cell_type": "code",
      "execution_count": 2,
      "metadata": {
        "colab": {
          "base_uri": "https://localhost:8080/"
        },
        "id": "3BrzGPt7iyIV",
        "outputId": "6b3a4c20-535e-4972-afd7-43a0052dc7f2"
      },
      "outputs": [
        {
          "output_type": "stream",
          "name": "stdout",
          "text": [
            "Mounted at /content/drive\n"
          ]
        }
      ],
      "source": [
        "from google.colab import drive\n",
        "drive.mount('/content/drive')"
      ],
      "id": "3BrzGPt7iyIV"
    },
    {
      "cell_type": "code",
      "execution_count": 3,
      "metadata": {
        "colab": {
          "base_uri": "https://localhost:8080/"
        },
        "id": "jFhheRUoizDq",
        "outputId": "b515369b-f4e9-4612-8997-77f780f08399"
      },
      "outputs": [
        {
          "output_type": "stream",
          "name": "stdout",
          "text": [
            "/content/drive/MyDrive/UOIT/Research /GPT-3\n"
          ]
        }
      ],
      "source": [
        "cd /content/drive/MyDrive/UOIT/'Research '/GPT-3/"
      ],
      "id": "jFhheRUoizDq"
    },
    {
      "cell_type": "code",
      "source": [
        "NUM_SWEETWORDS = 20 \n",
        "NUM_USER = 1000\n",
        "NUM_ATTEMPT = 20 "
      ],
      "metadata": {
        "id": "ruPm-Sg8Q6zV"
      },
      "id": "ruPm-Sg8Q6zV",
      "execution_count": 4,
      "outputs": []
    },
    {
      "cell_type": "code",
      "source": [
        "# calculate cosine similarity between two strings with MPNet embedding\n",
        "model = SentenceTransformer(\"nli-mpnet-base-v2\")\n",
        "def cal_similarity(pw1, pw2):\n",
        "    pw1_embedding = model.encode(pw1, convert_to_tensor=True)\n",
        "    pw2_embedding = model.encode(pw2, convert_to_tensor=True)\n",
        "    relevance = util.pytorch_cos_sim(pw1_embedding, pw2_embedding)[0]\n",
        "    score = relevance.item()\n",
        "    return score"
      ],
      "metadata": {
        "colab": {
          "base_uri": "https://localhost:8080/",
          "height": 401,
          "referenced_widgets": [
            "fa3dd620fd4d459b90e363488fba6dd6",
            "d2393e48e93549b78a30cc5ad507cade",
            "2c20f8e9f81247e4b49acc6a9207baaa",
            "54edad76ad2d46aa88fb21e20749c46c",
            "54565d88417d48908008b52353a00132",
            "4b729a2c862d4779833b617d0dc33b49",
            "1195a3c7f594443da8b079d8fd8b1250",
            "3a41e9fa53f74dca8defbe4eeaacc395",
            "154d5fcb5fe14ac2bce9bf07b8429b0a",
            "8724c6e9cdf14b3f8e83ae84ef210f53",
            "4a7dbcc18d504705b140801c7d4f5e9e",
            "f130b78c411c439e8737a6eea96fcd3b",
            "8882f319ba3247a2bbb8d288634f6072",
            "dcc86014e80e48799df9faff09049b3e",
            "945f2630865946fc8fb1c0ece84cb448",
            "a72c4dd62b494c4aa452b1a58fae4f17",
            "8ccc7c72f7b9451998346a4ae3e7fdf5",
            "799114f327ac49219a52ddf6b605f698",
            "ccb45b576765414c83e8a1f18144d595",
            "60646ef66fe449feb5a2d313cf3fbe59",
            "11d2c00c4d4c46fd86a37fca27aa92ae",
            "2b5235ae9ede46eba8c933ae1dca33b7",
            "e4bcd815753d4d84909da1acf77c922d",
            "f39af8a0fcd34e958cad2f577d025d5c",
            "10e1751d10c34fa1914fec43d859bb20",
            "8b2349d78ed94724b67f40fb43bd16b3",
            "d4caf96ba6a848c8a1bb3bea0799c367",
            "ebf73462869c451eb73e95b723ca398c",
            "86ba6cdca6fb44308f991f0925328026",
            "6e80a307ccbd487a9f6891f92036401b",
            "92e676197006488793294196bc5c163d",
            "80d78e2c89834c79a83665785a2be919",
            "d0ffb4a995714218b314f168a3a16bb9",
            "8ddbfc57072545f8a9aae735c41ec477",
            "ea90f912fae3438ab04f443732db2ac7",
            "881a210e4d394b9f93111b43d027ac25",
            "9b886fb8e35d40f0a439d7b008f469fe",
            "3a649a94fe0a4bc6a74869d178073edd",
            "f472db86c2c642e294e55ccb65c3ce69",
            "bd678752aa3f4798a9cd36c9804a05c1",
            "1f555f0629e145d7917d3aa909050ee3",
            "6dd94efc391940b7baf8dbc8937f05d4",
            "383d1b08c08b4441a30011cbe98169e6",
            "90a0d3251b5645e48dc419fc691473b3",
            "3e7f470eec06486395bcd55d3726a8c9",
            "5deda3331ccb4033ac4914894c20ceb9",
            "80c5ec18889f4a26b7937b768562d2bb",
            "5368f91bc68d44e6b603511e92d8ee0d",
            "92c7a1da26ff461bacba1156b7f76a4a",
            "684b26d76f14487380f91551b89141a7",
            "c01b957f2f6245158c6c6f5eaec200b9",
            "32fac7f85fc64adb8e847357e3fef144",
            "4871527ffcb4487181c923dc5fc189af",
            "eae39fd0ca2c43d48ad70ac8c5c873a4",
            "c518bd9713ba4ffaaf6a47aa5a8af1d8",
            "9947e9fa208b44efa09aa892a770a0e1",
            "c3873e05828040458030bcca279e0375",
            "d6ef7d83547949bfafef2222d7472620",
            "6eee1a6aeb3141fd832da8aa206e3b65",
            "cfc3e96b248141f595d6c3e3ae742aac",
            "e62437fe0bbe4ee9a57cbb0dee4d6cd1",
            "48808c39047b45fbbf0d2aea1b16e563",
            "76898e3dc4b4446583baf7cf94b88e7a",
            "7e67e02554904626a6ed9a1ed43cef53",
            "b3995e0cee9e47c59596ab4f18c7da26",
            "3dd6da0ffef24b4d8283bd6bc1e12535",
            "aa51f2e22ab948cab668747085783a4b",
            "da4b0ef003d1413d97c261451a4119c3",
            "4edc39560f52460f80fd2de45e05cfd3",
            "7199dfe62e4944949949be49dc0d7c5a",
            "5eee46c2dfb94303abe093042965bac3",
            "b7b77dc4d4e7420d9b7ce5bdcb8a9de6",
            "b3528ff44bf34c19964063da66ebe681",
            "7e9830e2ba654da68cd67767ecc79be0",
            "d984be937704482097c4230ed5d885d8",
            "2a1dc137d2744d4d975bb238728d3c08",
            "6920694dca834c269297f24765c017dc",
            "ff4b4df53b294449b785ddd80358de0c",
            "ab5456c0e628406fa398172d43fac0b5",
            "a04cb21cef7a434eb2c67874ac58c530",
            "9edd671d09c847c094495d1749137091",
            "a9002a9207b2452a938681d93b1c08ad",
            "f8c7e1b8af7940758213cf9b898c7991",
            "9134970ee8f646cb83162193dd47ff00",
            "9e07735afab940c89eac8df0183b437e",
            "dfd80c79f65848cd9c4d2625721e3d6e",
            "870c2ebd963141dfa4d2ab16fc9df89c",
            "60b975987c9e444ab25f4fcb58ab8f7e",
            "9d705fdaf6da4d44bff4934252154a3d",
            "07c272bdb85e492298ba1e0a217a6be5",
            "0fddd504fb2e4c418d64db0eb5b9ed48",
            "b9c8dd8d85e74ff6af42abd32928ce87",
            "e1275299d8e1478f8b3f3880523b619f",
            "99af970e86ff4b9e96367e018cb9d36c",
            "911193843e9b454fbb531c28c41efbee",
            "a66bc865c03445c1b73560f7e9c69db1",
            "ccdbe33e06bc4b05b7d2b9b1ce7617e7",
            "27fb9dad34794cb985d7fe1918c6e835",
            "4a57411dcd2e4ad9b0de0ea4b0e4c04d",
            "bcbdfbd40d204dce8992410191078aa6",
            "9d79e375b86447e9bed924673f64fc89",
            "c12b805572874820a14dffaa6686ad27",
            "ce44d27a1b724f2baa4b53c5d78f5655",
            "093b08f39f74491f9457af06c9805e52",
            "354c22ae0f7444dead4155cf1d116789",
            "b6c8fc4e126049949fd49073d7c2a364",
            "262c6725b0b1489f8e6f9f241c64fdce",
            "3d27d29c676d4c00a89327dc884d982a",
            "353a32a391d545e58be0cf55a232f685",
            "5d54f99f2cf541e68710b94ff28b81c2",
            "98374eb7aa9f4c4b9a72ca3cd38e6da9",
            "ad84b8d907fa436a8f01c405b1d8ccaa",
            "6486a6477ef64028bd5d950e90249df1",
            "7a7e58d5bd1b432dbfcf2e6f4f94b941",
            "7cef3a4202d146a9b5140dc01096ab6f",
            "1bceabe2ea0e43cc9faa4f53d8c7894e",
            "691b0791f02142738c405356f0fa53c7",
            "086062e0ba8743e1a43513cf14411d2b",
            "faffc7a410624e3293a3ca26c920f4b8",
            "de4781cface444a19736a685e79c632d",
            "cf812f10deaa4f7384c2e34df2eaf53d",
            "32c6d9a35adc48fc94d8925095d6cbbb",
            "6aaaffc42ba24365b9ebaaa26b6b9643",
            "57669f63082e4e34882a32a6d3e09c5e",
            "a15d8659bd044151ac122b555f46a473",
            "8a619cfc86fc48038154e62ffbb8e6d6",
            "445c3b8d9b134759b844a5a7fb7e73b4",
            "804c47d57e5d4214bd2c302a0d6942b2",
            "f6c9120817444bb19d9936840a7fdc7d",
            "26298b84dc194062b4b864e4b7316da0",
            "ecc155a3ce064992bde6954ecc63bdf0",
            "a47086e483554a71bd2c41a28f5a36db"
          ]
        },
        "id": "oQfy_CmQQ_gd",
        "outputId": "7dcff041-140f-48cf-8a74-d0130e69184a"
      },
      "id": "oQfy_CmQQ_gd",
      "execution_count": 9,
      "outputs": [
        {
          "output_type": "display_data",
          "data": {
            "text/plain": [
              "Downloading:   0%|          | 0.00/690 [00:00<?, ?B/s]"
            ],
            "application/vnd.jupyter.widget-view+json": {
              "version_major": 2,
              "version_minor": 0,
              "model_id": "fa3dd620fd4d459b90e363488fba6dd6"
            }
          },
          "metadata": {}
        },
        {
          "output_type": "display_data",
          "data": {
            "text/plain": [
              "Downloading:   0%|          | 0.00/190 [00:00<?, ?B/s]"
            ],
            "application/vnd.jupyter.widget-view+json": {
              "version_major": 2,
              "version_minor": 0,
              "model_id": "f130b78c411c439e8737a6eea96fcd3b"
            }
          },
          "metadata": {}
        },
        {
          "output_type": "display_data",
          "data": {
            "text/plain": [
              "Downloading:   0%|          | 0.00/3.66k [00:00<?, ?B/s]"
            ],
            "application/vnd.jupyter.widget-view+json": {
              "version_major": 2,
              "version_minor": 0,
              "model_id": "e4bcd815753d4d84909da1acf77c922d"
            }
          },
          "metadata": {}
        },
        {
          "output_type": "display_data",
          "data": {
            "text/plain": [
              "Downloading:   0%|          | 0.00/587 [00:00<?, ?B/s]"
            ],
            "application/vnd.jupyter.widget-view+json": {
              "version_major": 2,
              "version_minor": 0,
              "model_id": "8ddbfc57072545f8a9aae735c41ec477"
            }
          },
          "metadata": {}
        },
        {
          "output_type": "display_data",
          "data": {
            "text/plain": [
              "Downloading:   0%|          | 0.00/122 [00:00<?, ?B/s]"
            ],
            "application/vnd.jupyter.widget-view+json": {
              "version_major": 2,
              "version_minor": 0,
              "model_id": "3e7f470eec06486395bcd55d3726a8c9"
            }
          },
          "metadata": {}
        },
        {
          "output_type": "display_data",
          "data": {
            "text/plain": [
              "Downloading:   0%|          | 0.00/438M [00:00<?, ?B/s]"
            ],
            "application/vnd.jupyter.widget-view+json": {
              "version_major": 2,
              "version_minor": 0,
              "model_id": "9947e9fa208b44efa09aa892a770a0e1"
            }
          },
          "metadata": {}
        },
        {
          "output_type": "display_data",
          "data": {
            "text/plain": [
              "Downloading:   0%|          | 0.00/52.0 [00:00<?, ?B/s]"
            ],
            "application/vnd.jupyter.widget-view+json": {
              "version_major": 2,
              "version_minor": 0,
              "model_id": "aa51f2e22ab948cab668747085783a4b"
            }
          },
          "metadata": {}
        },
        {
          "output_type": "display_data",
          "data": {
            "text/plain": [
              "Downloading:   0%|          | 0.00/239 [00:00<?, ?B/s]"
            ],
            "application/vnd.jupyter.widget-view+json": {
              "version_major": 2,
              "version_minor": 0,
              "model_id": "ff4b4df53b294449b785ddd80358de0c"
            }
          },
          "metadata": {}
        },
        {
          "output_type": "display_data",
          "data": {
            "text/plain": [
              "Downloading:   0%|          | 0.00/466k [00:00<?, ?B/s]"
            ],
            "application/vnd.jupyter.widget-view+json": {
              "version_major": 2,
              "version_minor": 0,
              "model_id": "9d705fdaf6da4d44bff4934252154a3d"
            }
          },
          "metadata": {}
        },
        {
          "output_type": "display_data",
          "data": {
            "text/plain": [
              "Downloading:   0%|          | 0.00/1.19k [00:00<?, ?B/s]"
            ],
            "application/vnd.jupyter.widget-view+json": {
              "version_major": 2,
              "version_minor": 0,
              "model_id": "bcbdfbd40d204dce8992410191078aa6"
            }
          },
          "metadata": {}
        },
        {
          "output_type": "display_data",
          "data": {
            "text/plain": [
              "Downloading:   0%|          | 0.00/232k [00:00<?, ?B/s]"
            ],
            "application/vnd.jupyter.widget-view+json": {
              "version_major": 2,
              "version_minor": 0,
              "model_id": "98374eb7aa9f4c4b9a72ca3cd38e6da9"
            }
          },
          "metadata": {}
        },
        {
          "output_type": "display_data",
          "data": {
            "text/plain": [
              "Downloading:   0%|          | 0.00/229 [00:00<?, ?B/s]"
            ],
            "application/vnd.jupyter.widget-view+json": {
              "version_major": 2,
              "version_minor": 0,
              "model_id": "32c6d9a35adc48fc94d8925095d6cbbb"
            }
          },
          "metadata": {}
        }
      ]
    },
    {
      "cell_type": "code",
      "source": [
        "def avg_scores(scores):\n",
        "  avg_scores = [0 for x in range(NUM_USER)]\n",
        "  for i in range(NUM_USER):\n",
        "    avg_score = sum(scores[i][1:])/len(scores[i][1:])\n",
        "    avg_scores[i] = avg_score\n",
        "  return avg_scores"
      ],
      "metadata": {
        "id": "bnqGAbC9WWj_"
      },
      "id": "bnqGAbC9WWj_",
      "execution_count": 10,
      "outputs": []
    },
    {
      "cell_type": "code",
      "execution_count": 13,
      "metadata": {
        "id": "_tizcot5jEbX"
      },
      "outputs": [],
      "source": [
        "ps_emails = pd.read_csv(\"data/ps_emails.csv\")"
      ],
      "id": "_tizcot5jEbX"
    },
    {
      "cell_type": "code",
      "execution_count": 14,
      "metadata": {
        "colab": {
          "base_uri": "https://localhost:8080/",
          "height": 363
        },
        "id": "I0WZZX-vjbR8",
        "outputId": "74fbf162-3aa2-462d-9c82-7d63c4d7dc7a"
      },
      "outputs": [
        {
          "output_type": "execute_result",
          "data": {
            "text/plain": [
              "                  username         email        pass      service       date  \\\n",
              "249996          w7oodi_114   hotmail.com    japalami  Collection1   1/7/2019   \n",
              "249997       x4getmenot91x   hotmail.com     ix3gina      MySpace   7/1/2008   \n",
              "249998          x4hyclqvfc  nospamfor.us    RMMFhMuP       Lastfm  3/22/2012   \n",
              "249999  yahaira_bautista11   hotmail.com     yahis07      MySpace   7/1/2008   \n",
              "250000      yahaira_criz14   hotmail.com    pekere12      MySpace   7/1/2008   \n",
              "250001       yahaira_danny   hotmail.com   yahaira1a      MySpace   7/1/2008   \n",
              "250002  yahaira_lizbeth_93   hotmail.com    yahaira-      MySpace   7/1/2008   \n",
              "250003            yahalink       mail.ru    240773YL           VK   1/1/2012   \n",
              "250004   yahali_zena786523     yahoo.com  tonysalah5      MySpace   7/1/2008   \n",
              "250005            z9101999       mail.ru      Дисант           VK   1/1/2012   \n",
              "\n",
              "        score  \n",
              "249996      2  \n",
              "249997      1  \n",
              "249998      2  \n",
              "249999      2  \n",
              "250000      2  \n",
              "250001      1  \n",
              "250002      1  \n",
              "250003      2  \n",
              "250004      3  \n",
              "250005      1  "
            ],
            "text/html": [
              "\n",
              "  <div id=\"df-93624cc0-f5c2-4b25-bfef-e7a776de0070\">\n",
              "    <div class=\"colab-df-container\">\n",
              "      <div>\n",
              "<style scoped>\n",
              "    .dataframe tbody tr th:only-of-type {\n",
              "        vertical-align: middle;\n",
              "    }\n",
              "\n",
              "    .dataframe tbody tr th {\n",
              "        vertical-align: top;\n",
              "    }\n",
              "\n",
              "    .dataframe thead th {\n",
              "        text-align: right;\n",
              "    }\n",
              "</style>\n",
              "<table border=\"1\" class=\"dataframe\">\n",
              "  <thead>\n",
              "    <tr style=\"text-align: right;\">\n",
              "      <th></th>\n",
              "      <th>username</th>\n",
              "      <th>email</th>\n",
              "      <th>pass</th>\n",
              "      <th>service</th>\n",
              "      <th>date</th>\n",
              "      <th>score</th>\n",
              "    </tr>\n",
              "  </thead>\n",
              "  <tbody>\n",
              "    <tr>\n",
              "      <th>249996</th>\n",
              "      <td>w7oodi_114</td>\n",
              "      <td>hotmail.com</td>\n",
              "      <td>japalami</td>\n",
              "      <td>Collection1</td>\n",
              "      <td>1/7/2019</td>\n",
              "      <td>2</td>\n",
              "    </tr>\n",
              "    <tr>\n",
              "      <th>249997</th>\n",
              "      <td>x4getmenot91x</td>\n",
              "      <td>hotmail.com</td>\n",
              "      <td>ix3gina</td>\n",
              "      <td>MySpace</td>\n",
              "      <td>7/1/2008</td>\n",
              "      <td>1</td>\n",
              "    </tr>\n",
              "    <tr>\n",
              "      <th>249998</th>\n",
              "      <td>x4hyclqvfc</td>\n",
              "      <td>nospamfor.us</td>\n",
              "      <td>RMMFhMuP</td>\n",
              "      <td>Lastfm</td>\n",
              "      <td>3/22/2012</td>\n",
              "      <td>2</td>\n",
              "    </tr>\n",
              "    <tr>\n",
              "      <th>249999</th>\n",
              "      <td>yahaira_bautista11</td>\n",
              "      <td>hotmail.com</td>\n",
              "      <td>yahis07</td>\n",
              "      <td>MySpace</td>\n",
              "      <td>7/1/2008</td>\n",
              "      <td>2</td>\n",
              "    </tr>\n",
              "    <tr>\n",
              "      <th>250000</th>\n",
              "      <td>yahaira_criz14</td>\n",
              "      <td>hotmail.com</td>\n",
              "      <td>pekere12</td>\n",
              "      <td>MySpace</td>\n",
              "      <td>7/1/2008</td>\n",
              "      <td>2</td>\n",
              "    </tr>\n",
              "    <tr>\n",
              "      <th>250001</th>\n",
              "      <td>yahaira_danny</td>\n",
              "      <td>hotmail.com</td>\n",
              "      <td>yahaira1a</td>\n",
              "      <td>MySpace</td>\n",
              "      <td>7/1/2008</td>\n",
              "      <td>1</td>\n",
              "    </tr>\n",
              "    <tr>\n",
              "      <th>250002</th>\n",
              "      <td>yahaira_lizbeth_93</td>\n",
              "      <td>hotmail.com</td>\n",
              "      <td>yahaira-</td>\n",
              "      <td>MySpace</td>\n",
              "      <td>7/1/2008</td>\n",
              "      <td>1</td>\n",
              "    </tr>\n",
              "    <tr>\n",
              "      <th>250003</th>\n",
              "      <td>yahalink</td>\n",
              "      <td>mail.ru</td>\n",
              "      <td>240773YL</td>\n",
              "      <td>VK</td>\n",
              "      <td>1/1/2012</td>\n",
              "      <td>2</td>\n",
              "    </tr>\n",
              "    <tr>\n",
              "      <th>250004</th>\n",
              "      <td>yahali_zena786523</td>\n",
              "      <td>yahoo.com</td>\n",
              "      <td>tonysalah5</td>\n",
              "      <td>MySpace</td>\n",
              "      <td>7/1/2008</td>\n",
              "      <td>3</td>\n",
              "    </tr>\n",
              "    <tr>\n",
              "      <th>250005</th>\n",
              "      <td>z9101999</td>\n",
              "      <td>mail.ru</td>\n",
              "      <td>Дисант</td>\n",
              "      <td>VK</td>\n",
              "      <td>1/1/2012</td>\n",
              "      <td>1</td>\n",
              "    </tr>\n",
              "  </tbody>\n",
              "</table>\n",
              "</div>\n",
              "      <button class=\"colab-df-convert\" onclick=\"convertToInteractive('df-93624cc0-f5c2-4b25-bfef-e7a776de0070')\"\n",
              "              title=\"Convert this dataframe to an interactive table.\"\n",
              "              style=\"display:none;\">\n",
              "        \n",
              "  <svg xmlns=\"http://www.w3.org/2000/svg\" height=\"24px\"viewBox=\"0 0 24 24\"\n",
              "       width=\"24px\">\n",
              "    <path d=\"M0 0h24v24H0V0z\" fill=\"none\"/>\n",
              "    <path d=\"M18.56 5.44l.94 2.06.94-2.06 2.06-.94-2.06-.94-.94-2.06-.94 2.06-2.06.94zm-11 1L8.5 8.5l.94-2.06 2.06-.94-2.06-.94L8.5 2.5l-.94 2.06-2.06.94zm10 10l.94 2.06.94-2.06 2.06-.94-2.06-.94-.94-2.06-.94 2.06-2.06.94z\"/><path d=\"M17.41 7.96l-1.37-1.37c-.4-.4-.92-.59-1.43-.59-.52 0-1.04.2-1.43.59L10.3 9.45l-7.72 7.72c-.78.78-.78 2.05 0 2.83L4 21.41c.39.39.9.59 1.41.59.51 0 1.02-.2 1.41-.59l7.78-7.78 2.81-2.81c.8-.78.8-2.07 0-2.86zM5.41 20L4 18.59l7.72-7.72 1.47 1.35L5.41 20z\"/>\n",
              "  </svg>\n",
              "      </button>\n",
              "      \n",
              "  <style>\n",
              "    .colab-df-container {\n",
              "      display:flex;\n",
              "      flex-wrap:wrap;\n",
              "      gap: 12px;\n",
              "    }\n",
              "\n",
              "    .colab-df-convert {\n",
              "      background-color: #E8F0FE;\n",
              "      border: none;\n",
              "      border-radius: 50%;\n",
              "      cursor: pointer;\n",
              "      display: none;\n",
              "      fill: #1967D2;\n",
              "      height: 32px;\n",
              "      padding: 0 0 0 0;\n",
              "      width: 32px;\n",
              "    }\n",
              "\n",
              "    .colab-df-convert:hover {\n",
              "      background-color: #E2EBFA;\n",
              "      box-shadow: 0px 1px 2px rgba(60, 64, 67, 0.3), 0px 1px 3px 1px rgba(60, 64, 67, 0.15);\n",
              "      fill: #174EA6;\n",
              "    }\n",
              "\n",
              "    [theme=dark] .colab-df-convert {\n",
              "      background-color: #3B4455;\n",
              "      fill: #D2E3FC;\n",
              "    }\n",
              "\n",
              "    [theme=dark] .colab-df-convert:hover {\n",
              "      background-color: #434B5C;\n",
              "      box-shadow: 0px 1px 3px 1px rgba(0, 0, 0, 0.15);\n",
              "      filter: drop-shadow(0px 1px 2px rgba(0, 0, 0, 0.3));\n",
              "      fill: #FFFFFF;\n",
              "    }\n",
              "  </style>\n",
              "\n",
              "      <script>\n",
              "        const buttonEl =\n",
              "          document.querySelector('#df-93624cc0-f5c2-4b25-bfef-e7a776de0070 button.colab-df-convert');\n",
              "        buttonEl.style.display =\n",
              "          google.colab.kernel.accessAllowed ? 'block' : 'none';\n",
              "\n",
              "        async function convertToInteractive(key) {\n",
              "          const element = document.querySelector('#df-93624cc0-f5c2-4b25-bfef-e7a776de0070');\n",
              "          const dataTable =\n",
              "            await google.colab.kernel.invokeFunction('convertToInteractive',\n",
              "                                                     [key], {});\n",
              "          if (!dataTable) return;\n",
              "\n",
              "          const docLinkHtml = 'Like what you see? Visit the ' +\n",
              "            '<a target=\"_blank\" href=https://colab.research.google.com/notebooks/data_table.ipynb>data table notebook</a>'\n",
              "            + ' to learn more about interactive tables.';\n",
              "          element.innerHTML = '';\n",
              "          dataTable['output_type'] = 'display_data';\n",
              "          await google.colab.output.renderOutput(dataTable, element);\n",
              "          const docLink = document.createElement('div');\n",
              "          docLink.innerHTML = docLinkHtml;\n",
              "          element.appendChild(docLink);\n",
              "        }\n",
              "      </script>\n",
              "    </div>\n",
              "  </div>\n",
              "  "
            ]
          },
          "metadata": {},
          "execution_count": 14
        }
      ],
      "source": [
        "ps_emails.tail(10)"
      ],
      "id": "I0WZZX-vjbR8"
    },
    {
      "cell_type": "code",
      "execution_count": 15,
      "metadata": {
        "colab": {
          "base_uri": "https://localhost:8080/"
        },
        "id": "MLiMqE6yj0tA",
        "outputId": "560bf0ed-05f9-493f-f680-f1d3d7c80a67"
      },
      "outputs": [
        {
          "output_type": "execute_result",
          "data": {
            "text/plain": [
              "250006"
            ]
          },
          "metadata": {},
          "execution_count": 15
        }
      ],
      "source": [
        "len(ps_emails)"
      ],
      "id": "MLiMqE6yj0tA"
    },
    {
      "cell_type": "markdown",
      "source": [
        "## Password Selection\n",
        "Selecting passwords based on two rules:\n",
        "1. Length in range of 12 to 32.\n",
        "2. The 1000 strongest passwords and the 1000 weakest passwords based on zxcvbn."
      ],
      "metadata": {
        "id": "k8W8Yw44tpoN"
      },
      "id": "k8W8Yw44tpoN"
    },
    {
      "cell_type": "code",
      "execution_count": 16,
      "metadata": {
        "colab": {
          "base_uri": "https://localhost:8080/"
        },
        "id": "1_ASQZxwj2uA",
        "outputId": "348c1dd5-1568-4750-a4f2-ec6d3884a0f5"
      },
      "outputs": [
        {
          "output_type": "execute_result",
          "data": {
            "text/plain": [
              "0"
            ]
          },
          "metadata": {},
          "execution_count": 16
        }
      ],
      "source": [
        "ps_emails.isnull().values.sum()"
      ],
      "id": "1_ASQZxwj2uA"
    },
    {
      "cell_type": "code",
      "execution_count": 18,
      "metadata": {
        "id": "ffZNmJ6RnZBK"
      },
      "outputs": [],
      "source": [
        "# only keep the passwords with length in range of 12 and 32\n",
        "mask = (ps_emails['pass'].str.len() > 12) &(ps_emails['pass'].str.len() < 32)\n",
        "ps_emails_long = ps_emails.loc[mask]"
      ],
      "id": "ffZNmJ6RnZBK"
    },
    {
      "cell_type": "code",
      "execution_count": 19,
      "metadata": {
        "colab": {
          "base_uri": "https://localhost:8080/"
        },
        "id": "VCNHBbVInziA",
        "outputId": "6c094d96-c7d7-44ac-e1ad-d800e13ac871"
      },
      "outputs": [
        {
          "output_type": "execute_result",
          "data": {
            "text/plain": [
              "28492"
            ]
          },
          "metadata": {},
          "execution_count": 19
        }
      ],
      "source": [
        "len(ps_emails_long)"
      ],
      "id": "VCNHBbVInziA"
    },
    {
      "cell_type": "code",
      "execution_count": 20,
      "metadata": {
        "colab": {
          "base_uri": "https://localhost:8080/"
        },
        "id": "o3BbaUmAmi7u",
        "outputId": "0af866c0-454a-49ce-8f70-149225a520dc"
      },
      "outputs": [
        {
          "output_type": "execute_result",
          "data": {
            "text/plain": [
              "count       80.000000\n",
              "mean       356.150000\n",
              "std       1368.719415\n",
              "min          1.000000\n",
              "25%          1.000000\n",
              "50%          3.000000\n",
              "75%         19.000000\n",
              "max      10168.000000\n",
              "dtype: float64"
            ]
          },
          "metadata": {},
          "execution_count": 20
        }
      ],
      "source": [
        "ps_emails_long.groupby(['service']).size().describe()"
      ],
      "id": "o3BbaUmAmi7u"
    },
    {
      "cell_type": "code",
      "execution_count": 21,
      "metadata": {
        "colab": {
          "base_uri": "https://localhost:8080/",
          "height": 605
        },
        "id": "SgGrn7UGoW3-",
        "outputId": "393e6fa4-ea67-4240-eac1-8d5a31e00952"
      },
      "outputs": [
        {
          "output_type": "execute_result",
          "data": {
            "text/plain": [
              "<matplotlib.axes._subplots.AxesSubplot at 0x7f30ad9bc650>"
            ]
          },
          "metadata": {},
          "execution_count": 21
        },
        {
          "output_type": "display_data",
          "data": {
            "text/plain": [
              "<Figure size 2160x720 with 1 Axes>"
            ],
            "image/png": "[encoded data removed]"
          },
          "metadata": {}
        }
      ],
      "source": [
        "sns.set(rc={'figure.figsize':(30, 10)})\n",
        "ps_emails_long.groupby(['service']).size().plot(kind = \"bar\")"
      ],
      "id": "SgGrn7UGoW3-"
    },
    {
      "cell_type": "code",
      "execution_count": 22,
      "metadata": {
        "colab": {
          "base_uri": "https://localhost:8080/"
        },
        "id": "Udn2NZFUpAm_",
        "outputId": "edf9d84d-9226-46c5-c488-d593c17277b4"
      },
      "outputs": [
        {
          "output_type": "execute_result",
          "data": {
            "text/plain": [
              "service\n",
              "ExploitIn         10168\n",
              "VK                 5384\n",
              "AntiPublic         3628\n",
              "17Media            2201\n",
              "000webhost         1597\n",
              "LinkedIn           1315\n",
              "MySpace            1231\n",
              "Neopets            1116\n",
              "Lastfm              715\n",
              "OnlinerSpambot      376\n",
              "dtype: int64"
            ]
          },
          "metadata": {},
          "execution_count": 22
        }
      ],
      "source": [
        "ps_emails_long.groupby(['service']).size().sort_values(ascending=False).head(10)"
      ],
      "id": "Udn2NZFUpAm_"
    },
    {
      "cell_type": "code",
      "execution_count": 23,
      "metadata": {
        "id": "J5G8kLjavtvb"
      },
      "outputs": [],
      "source": [
        "ps_emails_long = ps_emails_long.rename(columns={\"pass\": \"pw\"})"
      ],
      "id": "J5G8kLjavtvb"
    },
    {
      "cell_type": "code",
      "execution_count": 59,
      "metadata": {
        "id": "ViQRNpGim1cE"
      },
      "outputs": [],
      "source": [
        "ps_emails_new = ps_emails_long[['username', 'pw']]"
      ],
      "id": "ViQRNpGim1cE"
    },
    {
      "cell_type": "code",
      "execution_count": 60,
      "metadata": {
        "colab": {
          "base_uri": "https://localhost:8080/"
        },
        "id": "7J2xCRtcCnRQ",
        "outputId": "2dd31508-b446-48fa-f4cd-2ad14df49825"
      },
      "outputs": [
        {
          "output_type": "execute_result",
          "data": {
            "text/plain": [
              "28492"
            ]
          },
          "metadata": {},
          "execution_count": 60
        }
      ],
      "source": [
        "len(ps_emails_new)"
      ],
      "id": "7J2xCRtcCnRQ"
    },
    {
      "cell_type": "code",
      "source": [
        "# caculate password strength using zxcvbn for each password\n",
        "strength = []\n",
        "for row in ps_emails_new.itertuples():\n",
        "  strength.append(zxcvbn(row.pw)['score'])\n",
        "ps_emails_new['strength'] = strength"
      ],
      "metadata": {
        "id": "YC1QkU-b6hRb"
      },
      "id": "YC1QkU-b6hRb",
      "execution_count": 93,
      "outputs": []
    },
    {
      "cell_type": "code",
      "source": [
        "ps_emails_new"
      ],
      "metadata": {
        "colab": {
          "base_uri": "https://localhost:8080/",
          "height": 424
        },
        "id": "2P-0RZ-n91hd",
        "outputId": "add157e0-348f-44a3-a81f-75d371434441"
      },
      "id": "2P-0RZ-n91hd",
      "execution_count": 96,
      "outputs": [
        {
          "output_type": "execute_result",
          "data": {
            "text/plain": [
              "                           username                           pw  strength\n",
              "0                       00-00-00-00  данияр123456789101112131415         4\n",
              "2                     10--camii--07              100797patitas25         4\n",
              "3            20--w484-korchak_valja            rjhxfr321ledivivi         4\n",
              "10          40-1-bol-teste-testando         397,626,962,188,124          4\n",
              "11      40-1-letra_b-teste-testando         546,892,118,735,621          4\n",
              "...                             ...                          ...       ...\n",
              "249934                     122.4188         222,557,881,145,375          4\n",
              "249940                  3.06635E+13              gri-kristinat00         3\n",
              "249952                       b2a4d7            buga020ajbdds1126         4\n",
              "249955                   e7sadn40wf               ajbzgatnx7hmjm         4\n",
              "249981                   qahtani001         455,003,611,437,664          4\n",
              "\n",
              "[28492 rows x 3 columns]"
            ],
            "text/html": [
              "\n",
              "  <div id=\"df-9a1a5695-89dd-41e9-857d-9ae824dad87b\">\n",
              "    <div class=\"colab-df-container\">\n",
              "      <div>\n",
              "<style scoped>\n",
              "    .dataframe tbody tr th:only-of-type {\n",
              "        vertical-align: middle;\n",
              "    }\n",
              "\n",
              "    .dataframe tbody tr th {\n",
              "        vertical-align: top;\n",
              "    }\n",
              "\n",
              "    .dataframe thead th {\n",
              "        text-align: right;\n",
              "    }\n",
              "</style>\n",
              "<table border=\"1\" class=\"dataframe\">\n",
              "  <thead>\n",
              "    <tr style=\"text-align: right;\">\n",
              "      <th></th>\n",
              "      <th>username</th>\n",
              "      <th>pw</th>\n",
              "      <th>strength</th>\n",
              "    </tr>\n",
              "  </thead>\n",
              "  <tbody>\n",
              "    <tr>\n",
              "      <th>0</th>\n",
              "      <td>00-00-00-00</td>\n",
              "      <td>данияр123456789101112131415</td>\n",
              "      <td>4</td>\n",
              "    </tr>\n",
              "    <tr>\n",
              "      <th>2</th>\n",
              "      <td>10--camii--07</td>\n",
              "      <td>100797patitas25</td>\n",
              "      <td>4</td>\n",
              "    </tr>\n",
              "    <tr>\n",
              "      <th>3</th>\n",
              "      <td>20--w484-korchak_valja</td>\n",
              "      <td>rjhxfr321ledivivi</td>\n",
              "      <td>4</td>\n",
              "    </tr>\n",
              "    <tr>\n",
              "      <th>10</th>\n",
              "      <td>40-1-bol-teste-testando</td>\n",
              "      <td>397,626,962,188,124</td>\n",
              "      <td>4</td>\n",
              "    </tr>\n",
              "    <tr>\n",
              "      <th>11</th>\n",
              "      <td>40-1-letra_b-teste-testando</td>\n",
              "      <td>546,892,118,735,621</td>\n",
              "      <td>4</td>\n",
              "    </tr>\n",
              "    <tr>\n",
              "      <th>...</th>\n",
              "      <td>...</td>\n",
              "      <td>...</td>\n",
              "      <td>...</td>\n",
              "    </tr>\n",
              "    <tr>\n",
              "      <th>249934</th>\n",
              "      <td>122.4188</td>\n",
              "      <td>222,557,881,145,375</td>\n",
              "      <td>4</td>\n",
              "    </tr>\n",
              "    <tr>\n",
              "      <th>249940</th>\n",
              "      <td>3.06635E+13</td>\n",
              "      <td>gri-kristinat00</td>\n",
              "      <td>3</td>\n",
              "    </tr>\n",
              "    <tr>\n",
              "      <th>249952</th>\n",
              "      <td>b2a4d7</td>\n",
              "      <td>buga020ajbdds1126</td>\n",
              "      <td>4</td>\n",
              "    </tr>\n",
              "    <tr>\n",
              "      <th>249955</th>\n",
              "      <td>e7sadn40wf</td>\n",
              "      <td>ajbzgatnx7hmjm</td>\n",
              "      <td>4</td>\n",
              "    </tr>\n",
              "    <tr>\n",
              "      <th>249981</th>\n",
              "      <td>qahtani001</td>\n",
              "      <td>455,003,611,437,664</td>\n",
              "      <td>4</td>\n",
              "    </tr>\n",
              "  </tbody>\n",
              "</table>\n",
              "<p>28492 rows × 3 columns</p>\n",
              "</div>\n",
              "      <button class=\"colab-df-convert\" onclick=\"convertToInteractive('df-9a1a5695-89dd-41e9-857d-9ae824dad87b')\"\n",
              "              title=\"Convert this dataframe to an interactive table.\"\n",
              "              style=\"display:none;\">\n",
              "        \n",
              "  <svg xmlns=\"http://www.w3.org/2000/svg\" height=\"24px\"viewBox=\"0 0 24 24\"\n",
              "       width=\"24px\">\n",
              "    <path d=\"M0 0h24v24H0V0z\" fill=\"none\"/>\n",
              "    <path d=\"M18.56 5.44l.94 2.06.94-2.06 2.06-.94-2.06-.94-.94-2.06-.94 2.06-2.06.94zm-11 1L8.5 8.5l.94-2.06 2.06-.94-2.06-.94L8.5 2.5l-.94 2.06-2.06.94zm10 10l.94 2.06.94-2.06 2.06-.94-2.06-.94-.94-2.06-.94 2.06-2.06.94z\"/><path d=\"M17.41 7.96l-1.37-1.37c-.4-.4-.92-.59-1.43-.59-.52 0-1.04.2-1.43.59L10.3 9.45l-7.72 7.72c-.78.78-.78 2.05 0 2.83L4 21.41c.39.39.9.59 1.41.59.51 0 1.02-.2 1.41-.59l7.78-7.78 2.81-2.81c.8-.78.8-2.07 0-2.86zM5.41 20L4 18.59l7.72-7.72 1.47 1.35L5.41 20z\"/>\n",
              "  </svg>\n",
              "      </button>\n",
              "      \n",
              "  <style>\n",
              "    .colab-df-container {\n",
              "      display:flex;\n",
              "      flex-wrap:wrap;\n",
              "      gap: 12px;\n",
              "    }\n",
              "\n",
              "    .colab-df-convert {\n",
              "      background-color: #E8F0FE;\n",
              "      border: none;\n",
              "      border-radius: 50%;\n",
              "      cursor: pointer;\n",
              "      display: none;\n",
              "      fill: #1967D2;\n",
              "      height: 32px;\n",
              "      padding: 0 0 0 0;\n",
              "      width: 32px;\n",
              "    }\n",
              "\n",
              "    .colab-df-convert:hover {\n",
              "      background-color: #E2EBFA;\n",
              "      box-shadow: 0px 1px 2px rgba(60, 64, 67, 0.3), 0px 1px 3px 1px rgba(60, 64, 67, 0.15);\n",
              "      fill: #174EA6;\n",
              "    }\n",
              "\n",
              "    [theme=dark] .colab-df-convert {\n",
              "      background-color: #3B4455;\n",
              "      fill: #D2E3FC;\n",
              "    }\n",
              "\n",
              "    [theme=dark] .colab-df-convert:hover {\n",
              "      background-color: #434B5C;\n",
              "      box-shadow: 0px 1px 3px 1px rgba(0, 0, 0, 0.15);\n",
              "      filter: drop-shadow(0px 1px 2px rgba(0, 0, 0, 0.3));\n",
              "      fill: #FFFFFF;\n",
              "    }\n",
              "  </style>\n",
              "\n",
              "      <script>\n",
              "        const buttonEl =\n",
              "          document.querySelector('#df-9a1a5695-89dd-41e9-857d-9ae824dad87b button.colab-df-convert');\n",
              "        buttonEl.style.display =\n",
              "          google.colab.kernel.accessAllowed ? 'block' : 'none';\n",
              "\n",
              "        async function convertToInteractive(key) {\n",
              "          const element = document.querySelector('#df-9a1a5695-89dd-41e9-857d-9ae824dad87b');\n",
              "          const dataTable =\n",
              "            await google.colab.kernel.invokeFunction('convertToInteractive',\n",
              "                                                     [key], {});\n",
              "          if (!dataTable) return;\n",
              "\n",
              "          const docLinkHtml = 'Like what you see? Visit the ' +\n",
              "            '<a target=\"_blank\" href=https://colab.research.google.com/notebooks/data_table.ipynb>data table notebook</a>'\n",
              "            + ' to learn more about interactive tables.';\n",
              "          element.innerHTML = '';\n",
              "          dataTable['output_type'] = 'display_data';\n",
              "          await google.colab.output.renderOutput(dataTable, element);\n",
              "          const docLink = document.createElement('div');\n",
              "          docLink.innerHTML = docLinkHtml;\n",
              "          element.appendChild(docLink);\n",
              "        }\n",
              "      </script>\n",
              "    </div>\n",
              "  </div>\n",
              "  "
            ]
          },
          "metadata": {},
          "execution_count": 96
        }
      ]
    },
    {
      "cell_type": "code",
      "source": [
        "ps_emails_new.groupby(['strength']).size().sort_values(ascending=False)"
      ],
      "metadata": {
        "colab": {
          "base_uri": "https://localhost:8080/"
        },
        "id": "DrSP0MEZ94YT",
        "outputId": "13fa157b-9817-4186-ee8a-3d53d7eae777"
      },
      "id": "DrSP0MEZ94YT",
      "execution_count": 97,
      "outputs": [
        {
          "output_type": "execute_result",
          "data": {
            "text/plain": [
              "strength\n",
              "4    24661\n",
              "3     2706\n",
              "2      845\n",
              "1      277\n",
              "0        3\n",
              "dtype: int64"
            ]
          },
          "metadata": {},
          "execution_count": 97
        }
      ]
    },
    {
      "cell_type": "code",
      "source": [
        "strong_pw = ps_emails_new.sort_values(by='strength', ascending=False)[:1000]"
      ],
      "metadata": {
        "id": "OxcrHQbwEqEV"
      },
      "id": "OxcrHQbwEqEV",
      "execution_count": 100,
      "outputs": []
    },
    {
      "cell_type": "code",
      "source": [
        "weak_pw = ps_emails_new.sort_values(by='strength', ascending=True)[:1000]"
      ],
      "metadata": {
        "id": "xp1wuFvXE51J"
      },
      "id": "xp1wuFvXE51J",
      "execution_count": 101,
      "outputs": []
    },
    {
      "cell_type": "code",
      "source": [
        "strong_pw.to_csv('strong_pw_1000.csv', index = False)\n",
        "weak_pw.to_csv('weak_pw_1000.csv', index = False)"
      ],
      "metadata": {
        "id": "RZ7XlbjrFFE-"
      },
      "id": "RZ7XlbjrFFE-",
      "execution_count": 104,
      "outputs": []
    },
    {
      "cell_type": "markdown",
      "source": [
        "## Password Chunking\n",
        "Using [PwdSegment chunking algorithm](https://github.com/snow0011/CKL_PSM) proposed in \"Chunk-level Password Guessing: Towards Modeling Refined Password Composition Representations.\" A extended version of Byte-Pair-Encoding (BPE) algorithm."
      ],
      "metadata": {
        "id": "mMvzM1a2GBgK"
      },
      "id": "mMvzM1a2GBgK"
    },
    {
      "cell_type": "code",
      "source": [
        "strong_pw = pd.read_csv('strong_pw_1000.csv')\n",
        "weak_pw = pd.read_csv('weak_pw_1000.csv')"
      ],
      "metadata": {
        "id": "we_WlB_2HOdA"
      },
      "id": "we_WlB_2HOdA",
      "execution_count": 110,
      "outputs": []
    },
    {
      "cell_type": "code",
      "source": [
        "def add_chunks(df):\n",
        "  chunks = []\n",
        "  for row in df.itertuples():\n",
        "    result = psm.check_pwd(row.pw)\n",
        "    chunks.append(set(list(zip(*result['chunks']))[0]))\n",
        "  df['chunks'] = chunks\n",
        "  return df"
      ],
      "metadata": {
        "id": "dSNtTbXOHYBF"
      },
      "id": "dSNtTbXOHYBF",
      "execution_count": 135,
      "outputs": []
    },
    {
      "cell_type": "code",
      "source": [
        "strong_pw_chunks = add_chunks(strong_pw)\n",
        "weak_pw_chunks = add_chunks(weak_pw)"
      ],
      "metadata": {
        "id": "8-_V4CNoLGZ9"
      },
      "id": "8-_V4CNoLGZ9",
      "execution_count": 136,
      "outputs": []
    },
    {
      "cell_type": "code",
      "source": [
        "def add_chunk_num(df):\n",
        "  num_chunks = []\n",
        "  for row in df['chunks']:\n",
        "    num_chunks.append(len(row))\n",
        "  df['num_chunks'] = num_chunks\n",
        "  return df"
      ],
      "metadata": {
        "id": "tqbokKK-LwCS"
      },
      "id": "tqbokKK-LwCS",
      "execution_count": 148,
      "outputs": []
    },
    {
      "cell_type": "code",
      "source": [
        "strong_pw_chunks = add_chunk_num(strong_pw_chunks)\n",
        "strong_pw_chunks"
      ],
      "metadata": {
        "id": "TyFtNGPpLxbO"
      },
      "id": "TyFtNGPpLxbO",
      "execution_count": null,
      "outputs": []
    },
    {
      "cell_type": "code",
      "source": [
        "weak_pw_chunks = add_chunk_num(weak_pw_chunks)\n",
        "weak_pw_chunks"
      ],
      "metadata": {
        "id": "9_C0-lUqM2SQ"
      },
      "id": "9_C0-lUqM2SQ",
      "execution_count": null,
      "outputs": []
    },
    {
      "cell_type": "code",
      "source": [
        "# plot the number of chunks for strong passwords\n",
        "sns.set(rc={'figure.figsize':(10, 5)})\n",
        "strong_pw_chunks.groupby(['num_chunks']).size().plot(kind = \"bar\")"
      ],
      "metadata": {
        "colab": {
          "base_uri": "https://localhost:8080/",
          "height": 360
        },
        "id": "Ot9yzfvxNCKJ",
        "outputId": "eca3df66-8d15-477e-fcf2-be50d0789c8e"
      },
      "id": "Ot9yzfvxNCKJ",
      "execution_count": 154,
      "outputs": [
        {
          "output_type": "execute_result",
          "data": {
            "text/plain": [
              "<matplotlib.axes._subplots.AxesSubplot at 0x7f309221f4d0>"
            ]
          },
          "metadata": {},
          "execution_count": 154
        },
        {
          "output_type": "display_data",
          "data": {
            "text/plain": [
              "<Figure size 720x360 with 1 Axes>"
            ],
            "image/png": "[encoded data removed]"
          },
          "metadata": {}
        }
      ]
    },
    {
      "cell_type": "code",
      "source": [
        "# plot the number of chunks for weak passwords\n",
        "weak_pw_chunks.groupby(['num_chunks']).size().plot(kind = \"bar\")"
      ],
      "metadata": {
        "colab": {
          "base_uri": "https://localhost:8080/",
          "height": 353
        },
        "id": "DTD1kBipNJIS",
        "outputId": "5e6103e9-2dd7-4646-df95-515b8baf12eb"
      },
      "id": "DTD1kBipNJIS",
      "execution_count": 155,
      "outputs": [
        {
          "output_type": "execute_result",
          "data": {
            "text/plain": [
              "<matplotlib.axes._subplots.AxesSubplot at 0x7f3092168390>"
            ]
          },
          "metadata": {},
          "execution_count": 155
        },
        {
          "output_type": "display_data",
          "data": {
            "text/plain": [
              "<Figure size 720x360 with 1 Axes>"
            ],
            "image/png": "[encoded data removed]"
          },
          "metadata": {}
        }
      ]
    },
    {
      "cell_type": "code",
      "source": [
        "strong_pw_chunks.to_csv('strong_pw_chunks_1000.csv', index = False)\n",
        "weak_pw_chunks.to_csv('weak_pw_chunks_1000.csv', index = False)"
      ],
      "metadata": {
        "id": "xInsKUW1L39a"
      },
      "id": "xInsKUW1L39a",
      "execution_count": 143,
      "outputs": []
    },
    {
      "cell_type": "markdown",
      "source": [
        "## Others"
      ],
      "metadata": {
        "id": "1RXb58R3OWob"
      },
      "id": "1RXb58R3OWob"
    },
    {
      "cell_type": "code",
      "execution_count": null,
      "metadata": {
        "id": "7m6W9Pkm-2RQ"
      },
      "outputs": [],
      "source": [
        "# add a new column (score): the similarity between username and its password\n",
        "def generate_score(df):\n",
        "  ps_user = pd.DataFrame()\n",
        "  for row in df.itertuples():\n",
        "    score = cal_similarity(row.username, row.pw)\n",
        "    ps_user = ps_user.append({\"username\": row.username, \"pw\": row.pw, \"service\": row.service, \"score\": score}, ignore_index = True)\n",
        "  return ps_user\n",
        "ps_user = generate_score(ps_emails_new)"
      ],
      "id": "7m6W9Pkm-2RQ"
    },
    {
      "cell_type": "code",
      "execution_count": null,
      "metadata": {
        "colab": {
          "base_uri": "https://localhost:8080/",
          "height": 206
        },
        "id": "uMyIgvJX_ud9",
        "outputId": "d4b8757c-6a50-4972-deb4-f63198fb7ca8"
      },
      "outputs": [
        {
          "data": {
            "text/html": [
              "\n",
              "  <div id=\"df-329d9715-1a73-44d4-9622-2190908c0aaa\">\n",
              "    <div class=\"colab-df-container\">\n",
              "      <div>\n",
              "<style scoped>\n",
              "    .dataframe tbody tr th:only-of-type {\n",
              "        vertical-align: middle;\n",
              "    }\n",
              "\n",
              "    .dataframe tbody tr th {\n",
              "        vertical-align: top;\n",
              "    }\n",
              "\n",
              "    .dataframe thead th {\n",
              "        text-align: right;\n",
              "    }\n",
              "</style>\n",
              "<table border=\"1\" class=\"dataframe\">\n",
              "  <thead>\n",
              "    <tr style=\"text-align: right;\">\n",
              "      <th></th>\n",
              "      <th>username</th>\n",
              "      <th>pw</th>\n",
              "      <th>service</th>\n",
              "      <th>score</th>\n",
              "    </tr>\n",
              "  </thead>\n",
              "  <tbody>\n",
              "    <tr>\n",
              "      <th>0</th>\n",
              "      <td>00-00-00-00</td>\n",
              "      <td>данияр123456789101112131415</td>\n",
              "      <td>VK</td>\n",
              "      <td>0.319388</td>\n",
              "    </tr>\n",
              "    <tr>\n",
              "      <th>1</th>\n",
              "      <td>10--camii--07</td>\n",
              "      <td>100797patitas25</td>\n",
              "      <td>Neopets</td>\n",
              "      <td>0.401715</td>\n",
              "    </tr>\n",
              "    <tr>\n",
              "      <th>2</th>\n",
              "      <td>20--w484-korchak_valja</td>\n",
              "      <td>rjhxfr321ledivivi</td>\n",
              "      <td>ExploitIn</td>\n",
              "      <td>0.456123</td>\n",
              "    </tr>\n",
              "    <tr>\n",
              "      <th>3</th>\n",
              "      <td>40-1-bol-teste-testando</td>\n",
              "      <td>397,626,962,188,124</td>\n",
              "      <td>LinkedIn</td>\n",
              "      <td>0.251605</td>\n",
              "    </tr>\n",
              "    <tr>\n",
              "      <th>4</th>\n",
              "      <td>40-1-letra_b-teste-testando</td>\n",
              "      <td>546,892,118,735,621</td>\n",
              "      <td>LinkedIn</td>\n",
              "      <td>0.257641</td>\n",
              "    </tr>\n",
              "  </tbody>\n",
              "</table>\n",
              "</div>\n",
              "      <button class=\"colab-df-convert\" onclick=\"convertToInteractive('df-329d9715-1a73-44d4-9622-2190908c0aaa')\"\n",
              "              title=\"Convert this dataframe to an interactive table.\"\n",
              "              style=\"display:none;\">\n",
              "        \n",
              "  <svg xmlns=\"http://www.w3.org/2000/svg\" height=\"24px\"viewBox=\"0 0 24 24\"\n",
              "       width=\"24px\">\n",
              "    <path d=\"M0 0h24v24H0V0z\" fill=\"none\"/>\n",
              "    <path d=\"M18.56 5.44l.94 2.06.94-2.06 2.06-.94-2.06-.94-.94-2.06-.94 2.06-2.06.94zm-11 1L8.5 8.5l.94-2.06 2.06-.94-2.06-.94L8.5 2.5l-.94 2.06-2.06.94zm10 10l.94 2.06.94-2.06 2.06-.94-2.06-.94-.94-2.06-.94 2.06-2.06.94z\"/><path d=\"M17.41 7.96l-1.37-1.37c-.4-.4-.92-.59-1.43-.59-.52 0-1.04.2-1.43.59L10.3 9.45l-7.72 7.72c-.78.78-.78 2.05 0 2.83L4 21.41c.39.39.9.59 1.41.59.51 0 1.02-.2 1.41-.59l7.78-7.78 2.81-2.81c.8-.78.8-2.07 0-2.86zM5.41 20L4 18.59l7.72-7.72 1.47 1.35L5.41 20z\"/>\n",
              "  </svg>\n",
              "      </button>\n",
              "      \n",
              "  <style>\n",
              "    .colab-df-container {\n",
              "      display:flex;\n",
              "      flex-wrap:wrap;\n",
              "      gap: 12px;\n",
              "    }\n",
              "\n",
              "    .colab-df-convert {\n",
              "      background-color: #E8F0FE;\n",
              "      border: none;\n",
              "      border-radius: 50%;\n",
              "      cursor: pointer;\n",
              "      display: none;\n",
              "      fill: #1967D2;\n",
              "      height: 32px;\n",
              "      padding: 0 0 0 0;\n",
              "      width: 32px;\n",
              "    }\n",
              "\n",
              "    .colab-df-convert:hover {\n",
              "      background-color: #E2EBFA;\n",
              "      box-shadow: 0px 1px 2px rgba(60, 64, 67, 0.3), 0px 1px 3px 1px rgba(60, 64, 67, 0.15);\n",
              "      fill: #174EA6;\n",
              "    }\n",
              "\n",
              "    [theme=dark] .colab-df-convert {\n",
              "      background-color: #3B4455;\n",
              "      fill: #D2E3FC;\n",
              "    }\n",
              "\n",
              "    [theme=dark] .colab-df-convert:hover {\n",
              "      background-color: #434B5C;\n",
              "      box-shadow: 0px 1px 3px 1px rgba(0, 0, 0, 0.15);\n",
              "      filter: drop-shadow(0px 1px 2px rgba(0, 0, 0, 0.3));\n",
              "      fill: #FFFFFF;\n",
              "    }\n",
              "  </style>\n",
              "\n",
              "      <script>\n",
              "        const buttonEl =\n",
              "          document.querySelector('#df-329d9715-1a73-44d4-9622-2190908c0aaa button.colab-df-convert');\n",
              "        buttonEl.style.display =\n",
              "          google.colab.kernel.accessAllowed ? 'block' : 'none';\n",
              "\n",
              "        async function convertToInteractive(key) {\n",
              "          const element = document.querySelector('#df-329d9715-1a73-44d4-9622-2190908c0aaa');\n",
              "          const dataTable =\n",
              "            await google.colab.kernel.invokeFunction('convertToInteractive',\n",
              "                                                     [key], {});\n",
              "          if (!dataTable) return;\n",
              "\n",
              "          const docLinkHtml = 'Like what you see? Visit the ' +\n",
              "            '<a target=\"_blank\" href=https://colab.research.google.com/notebooks/data_table.ipynb>data table notebook</a>'\n",
              "            + ' to learn more about interactive tables.';\n",
              "          element.innerHTML = '';\n",
              "          dataTable['output_type'] = 'display_data';\n",
              "          await google.colab.output.renderOutput(dataTable, element);\n",
              "          const docLink = document.createElement('div');\n",
              "          docLink.innerHTML = docLinkHtml;\n",
              "          element.appendChild(docLink);\n",
              "        }\n",
              "      </script>\n",
              "    </div>\n",
              "  </div>\n",
              "  "
            ],
            "text/plain": [
              "                      username                           pw    service  \\\n",
              "0                  00-00-00-00  данияр123456789101112131415         VK   \n",
              "1                10--camii--07              100797patitas25    Neopets   \n",
              "2       20--w484-korchak_valja            rjhxfr321ledivivi  ExploitIn   \n",
              "3      40-1-bol-teste-testando         397,626,962,188,124    LinkedIn   \n",
              "4  40-1-letra_b-teste-testando         546,892,118,735,621    LinkedIn   \n",
              "\n",
              "      score  \n",
              "0  0.319388  \n",
              "1  0.401715  \n",
              "2  0.456123  \n",
              "3  0.251605  \n",
              "4  0.257641  "
            ]
          },
          "execution_count": 165,
          "metadata": {},
          "output_type": "execute_result"
        }
      ],
      "source": [
        "# ps_user.head()"
      ],
      "id": "uMyIgvJX_ud9"
    },
    {
      "cell_type": "code",
      "execution_count": null,
      "metadata": {
        "colab": {
          "base_uri": "https://localhost:8080/",
          "height": 424
        },
        "id": "tZebGeTxCJ75",
        "outputId": "3cb54f4d-d26a-4669-e368-9c2a1783b97b"
      },
      "outputs": [
        {
          "data": {
            "text/html": [
              "\n",
              "  <div id=\"df-4ea42145-b80b-4e47-b2a8-81fb8bd7be36\">\n",
              "    <div class=\"colab-df-container\">\n",
              "      <div>\n",
              "<style scoped>\n",
              "    .dataframe tbody tr th:only-of-type {\n",
              "        vertical-align: middle;\n",
              "    }\n",
              "\n",
              "    .dataframe tbody tr th {\n",
              "        vertical-align: top;\n",
              "    }\n",
              "\n",
              "    .dataframe thead th {\n",
              "        text-align: right;\n",
              "    }\n",
              "</style>\n",
              "<table border=\"1\" class=\"dataframe\">\n",
              "  <thead>\n",
              "    <tr style=\"text-align: right;\">\n",
              "      <th></th>\n",
              "      <th>username</th>\n",
              "      <th>pw</th>\n",
              "      <th>service</th>\n",
              "      <th>score</th>\n",
              "    </tr>\n",
              "  </thead>\n",
              "  <tbody>\n",
              "    <tr>\n",
              "      <th>23340</th>\n",
              "      <td>z6a79a_grjevzf</td>\n",
              "      <td>z6a79a_grjevzf</td>\n",
              "      <td>ExploitIn</td>\n",
              "      <td>1.000000</td>\n",
              "    </tr>\n",
              "    <tr>\n",
              "      <th>19398</th>\n",
              "      <td>h2omega-tania</td>\n",
              "      <td>h2omega-tania</td>\n",
              "      <td>ExploitIn</td>\n",
              "      <td>1.000000</td>\n",
              "    </tr>\n",
              "    <tr>\n",
              "      <th>17429</th>\n",
              "      <td>m16200301313_312_i</td>\n",
              "      <td>m16200301313_312_I</td>\n",
              "      <td>AntiPublic</td>\n",
              "      <td>1.000000</td>\n",
              "    </tr>\n",
              "    <tr>\n",
              "      <th>1474</th>\n",
              "      <td>q0vnugnw1scqs6i</td>\n",
              "      <td>q0vnugnw1scqs6i</td>\n",
              "      <td>ExploitIn</td>\n",
              "      <td>1.000000</td>\n",
              "    </tr>\n",
              "    <tr>\n",
              "      <th>4188</th>\n",
              "      <td>b0_tru0ng_cai_bang_xzlk</td>\n",
              "      <td>B0_tru0ng_cai_bang_xzlk</td>\n",
              "      <td>ExploitIn</td>\n",
              "      <td>1.000000</td>\n",
              "    </tr>\n",
              "    <tr>\n",
              "      <th>...</th>\n",
              "      <td>...</td>\n",
              "      <td>...</td>\n",
              "      <td>...</td>\n",
              "      <td>...</td>\n",
              "    </tr>\n",
              "    <tr>\n",
              "      <th>26195</th>\n",
              "      <td>iaqiodca</td>\n",
              "      <td>Я эгоистка 3000</td>\n",
              "      <td>VK</td>\n",
              "      <td>-0.003873</td>\n",
              "    </tr>\n",
              "    <tr>\n",
              "      <th>4861</th>\n",
              "      <td>3014highestave</td>\n",
              "      <td>bearsofchicago</td>\n",
              "      <td>AntiPublic</td>\n",
              "      <td>-0.006197</td>\n",
              "    </tr>\n",
              "    <tr>\n",
              "      <th>20296</th>\n",
              "      <td>k2-john</td>\n",
              "      <td>248,764,373,937,439</td>\n",
              "      <td>ExploitIn</td>\n",
              "      <td>-0.020073</td>\n",
              "    </tr>\n",
              "    <tr>\n",
              "      <th>12094</th>\n",
              "      <td>k13jack</td>\n",
              "      <td>1,466,238,524</td>\n",
              "      <td>AntiPublic</td>\n",
              "      <td>-0.025780</td>\n",
              "    </tr>\n",
              "    <tr>\n",
              "      <th>13179</th>\n",
              "      <td>k16pro</td>\n",
              "      <td>745,434,745,434</td>\n",
              "      <td>VK</td>\n",
              "      <td>-0.094664</td>\n",
              "    </tr>\n",
              "  </tbody>\n",
              "</table>\n",
              "<p>29121 rows × 4 columns</p>\n",
              "</div>\n",
              "      <button class=\"colab-df-convert\" onclick=\"convertToInteractive('df-4ea42145-b80b-4e47-b2a8-81fb8bd7be36')\"\n",
              "              title=\"Convert this dataframe to an interactive table.\"\n",
              "              style=\"display:none;\">\n",
              "        \n",
              "  <svg xmlns=\"http://www.w3.org/2000/svg\" height=\"24px\"viewBox=\"0 0 24 24\"\n",
              "       width=\"24px\">\n",
              "    <path d=\"M0 0h24v24H0V0z\" fill=\"none\"/>\n",
              "    <path d=\"M18.56 5.44l.94 2.06.94-2.06 2.06-.94-2.06-.94-.94-2.06-.94 2.06-2.06.94zm-11 1L8.5 8.5l.94-2.06 2.06-.94-2.06-.94L8.5 2.5l-.94 2.06-2.06.94zm10 10l.94 2.06.94-2.06 2.06-.94-2.06-.94-.94-2.06-.94 2.06-2.06.94z\"/><path d=\"M17.41 7.96l-1.37-1.37c-.4-.4-.92-.59-1.43-.59-.52 0-1.04.2-1.43.59L10.3 9.45l-7.72 7.72c-.78.78-.78 2.05 0 2.83L4 21.41c.39.39.9.59 1.41.59.51 0 1.02-.2 1.41-.59l7.78-7.78 2.81-2.81c.8-.78.8-2.07 0-2.86zM5.41 20L4 18.59l7.72-7.72 1.47 1.35L5.41 20z\"/>\n",
              "  </svg>\n",
              "      </button>\n",
              "      \n",
              "  <style>\n",
              "    .colab-df-container {\n",
              "      display:flex;\n",
              "      flex-wrap:wrap;\n",
              "      gap: 12px;\n",
              "    }\n",
              "\n",
              "    .colab-df-convert {\n",
              "      background-color: #E8F0FE;\n",
              "      border: none;\n",
              "      border-radius: 50%;\n",
              "      cursor: pointer;\n",
              "      display: none;\n",
              "      fill: #1967D2;\n",
              "      height: 32px;\n",
              "      padding: 0 0 0 0;\n",
              "      width: 32px;\n",
              "    }\n",
              "\n",
              "    .colab-df-convert:hover {\n",
              "      background-color: #E2EBFA;\n",
              "      box-shadow: 0px 1px 2px rgba(60, 64, 67, 0.3), 0px 1px 3px 1px rgba(60, 64, 67, 0.15);\n",
              "      fill: #174EA6;\n",
              "    }\n",
              "\n",
              "    [theme=dark] .colab-df-convert {\n",
              "      background-color: #3B4455;\n",
              "      fill: #D2E3FC;\n",
              "    }\n",
              "\n",
              "    [theme=dark] .colab-df-convert:hover {\n",
              "      background-color: #434B5C;\n",
              "      box-shadow: 0px 1px 3px 1px rgba(0, 0, 0, 0.15);\n",
              "      filter: drop-shadow(0px 1px 2px rgba(0, 0, 0, 0.3));\n",
              "      fill: #FFFFFF;\n",
              "    }\n",
              "  </style>\n",
              "\n",
              "      <script>\n",
              "        const buttonEl =\n",
              "          document.querySelector('#df-4ea42145-b80b-4e47-b2a8-81fb8bd7be36 button.colab-df-convert');\n",
              "        buttonEl.style.display =\n",
              "          google.colab.kernel.accessAllowed ? 'block' : 'none';\n",
              "\n",
              "        async function convertToInteractive(key) {\n",
              "          const element = document.querySelector('#df-4ea42145-b80b-4e47-b2a8-81fb8bd7be36');\n",
              "          const dataTable =\n",
              "            await google.colab.kernel.invokeFunction('convertToInteractive',\n",
              "                                                     [key], {});\n",
              "          if (!dataTable) return;\n",
              "\n",
              "          const docLinkHtml = 'Like what you see? Visit the ' +\n",
              "            '<a target=\"_blank\" href=https://colab.research.google.com/notebooks/data_table.ipynb>data table notebook</a>'\n",
              "            + ' to learn more about interactive tables.';\n",
              "          element.innerHTML = '';\n",
              "          dataTable['output_type'] = 'display_data';\n",
              "          await google.colab.output.renderOutput(dataTable, element);\n",
              "          const docLink = document.createElement('div');\n",
              "          docLink.innerHTML = docLinkHtml;\n",
              "          element.appendChild(docLink);\n",
              "        }\n",
              "      </script>\n",
              "    </div>\n",
              "  </div>\n",
              "  "
            ],
            "text/plain": [
              "                      username                       pw     service     score\n",
              "23340           z6a79a_grjevzf           z6a79a_grjevzf   ExploitIn  1.000000\n",
              "19398            h2omega-tania            h2omega-tania   ExploitIn  1.000000\n",
              "17429       m16200301313_312_i       m16200301313_312_I  AntiPublic  1.000000\n",
              "1474           q0vnugnw1scqs6i          q0vnugnw1scqs6i   ExploitIn  1.000000\n",
              "4188   b0_tru0ng_cai_bang_xzlk  B0_tru0ng_cai_bang_xzlk   ExploitIn  1.000000\n",
              "...                        ...                      ...         ...       ...\n",
              "26195                 iaqiodca          Я эгоистка 3000          VK -0.003873\n",
              "4861            3014highestave           bearsofchicago  AntiPublic -0.006197\n",
              "20296                  k2-john     248,764,373,937,439    ExploitIn -0.020073\n",
              "12094                  k13jack           1,466,238,524   AntiPublic -0.025780\n",
              "13179                   k16pro         745,434,745,434           VK -0.094664\n",
              "\n",
              "[29121 rows x 4 columns]"
            ]
          },
          "execution_count": 166,
          "metadata": {},
          "output_type": "execute_result"
        }
      ],
      "source": [
        "# ps_user.sort_values(by='score', ascending=False)"
      ],
      "id": "tZebGeTxCJ75"
    },
    {
      "cell_type": "code",
      "execution_count": null,
      "metadata": {
        "id": "0j-VK9bVgcLL"
      },
      "outputs": [],
      "source": [
        "# check how many usernames are the same as their passwords\n",
        "# len(ps_user[ps_user['username'] == ps_user['pw']])"
      ],
      "id": "0j-VK9bVgcLL"
    },
    {
      "cell_type": "code",
      "execution_count": null,
      "metadata": {
        "id": "9meqMBfUEIqJ"
      },
      "outputs": [],
      "source": [
        "# ps_user.to_csv('ps_user_score.csv', index = False)"
      ],
      "id": "9meqMBfUEIqJ"
    },
    {
      "cell_type": "code",
      "execution_count": null,
      "metadata": {
        "id": "Dk3-3hRH15xC"
      },
      "outputs": [],
      "source": [
        "# select the top 10000 users whose usernames are the most similar to their passwords for experimentation\n",
        "# ps_user_10000 = ps_user.sort_values(by='score', ascending=False)[:10000]"
      ],
      "id": "Dk3-3hRH15xC"
    },
    {
      "cell_type": "code",
      "execution_count": null,
      "metadata": {
        "id": "KWBJentm7k1p"
      },
      "outputs": [],
      "source": [
        "# ps_user_10000.to_csv('ps_user_10000.csv', index = False)"
      ],
      "id": "KWBJentm7k1p"
    },
    {
      "cell_type": "code",
      "execution_count": null,
      "metadata": {
        "id": "DgDVDY1j8mbo"
      },
      "outputs": [],
      "source": [
        "# ps_user_10000 = pd.read_csv('ps_user_10000.csv')"
      ],
      "id": "DgDVDY1j8mbo"
    },
    {
      "cell_type": "code",
      "source": [
        "# ps_user_1000 = ps_user_10000.sort_values(by='score', ascending=False)[:1000]"
      ],
      "metadata": {
        "id": "XiVVCjE0N7ej"
      },
      "id": "XiVVCjE0N7ej",
      "execution_count": null,
      "outputs": []
    },
    {
      "cell_type": "code",
      "source": [
        "# ps_user_1000.to_csv('ps_user_1000.csv', index = False)"
      ],
      "metadata": {
        "id": "eRYv6O0Cudm9"
      },
      "id": "eRYv6O0Cudm9",
      "execution_count": null,
      "outputs": []
    },
    {
      "cell_type": "markdown",
      "source": [
        "## Tweaking"
      ],
      "metadata": {
        "id": "WDZwnMhxuBwz"
      },
      "id": "WDZwnMhxuBwz"
    },
    {
      "cell_type": "code",
      "execution_count": null,
      "metadata": {
        "id": "8cbxwawawVKm"
      },
      "outputs": [],
      "source": [
        "# generate honeywords by tweaking\n",
        "def chafffing_by_tweak(df):\n",
        "    real_passwords = df['pw']\n",
        "    print(\"start to generate honeywords_tweak.\")\n",
        "    symbols = ['!', '#', '$', '%', '&', '\"', '(', ')', '*', '+', ',', '-', '.', '/', ':', ';', '<', '=', '>', '?',\n",
        "               '@', '[', '\\\\', ']', '^', '_', '`', '{', '|', '}', '~', \"'\"]\n",
        "    f = 0.03\n",
        "    p = 0.3\n",
        "    q = 0.05\n",
        "    matrix = [[] * NUM_SWEETWORDS for _ in range(NUM_USER)]\n",
        "    for n in range(NUM_USER):\n",
        "        real_password = real_passwords.iloc[n]\n",
        "        count = NUM_SWEETWORDS - 1\n",
        "        while count > 0:\n",
        "            temp = ''\n",
        "            for i in range(len(real_password)):\n",
        "                if real_password[i] >= \"a\" and real_password[i] <= \"z\":\n",
        "                    if random.random() <= p:\n",
        "                        temp += real_password[i].upper()\n",
        "                    else:\n",
        "                        temp += real_password[i]\n",
        "                elif real_password[i] >= \"A\" and real_password[i] <= \"Z\":\n",
        "                    if random.random() <= q:\n",
        "                        temp += real_password[i].lower()\n",
        "                    else:\n",
        "                        temp += real_password[i]\n",
        "                elif real_password[i] >= \"0\" and real_password[i] <= \"9\":\n",
        "                    temp += str(int(random.random() * 10))\n",
        "                elif real_password[i] in symbols:\n",
        "                    temp += symbols[int(random.random()*len(symbols))]\n",
        "            if temp not in matrix[n] and temp != real_password:\n",
        "                matrix[n].append(temp)\n",
        "                count -= 1\n",
        "    combined_matrix = np.c_[real_passwords, matrix]\n",
        "    pd.DataFrame(combined_matrix).to_csv('honeywords_tweaking_1000.csv', index = False)\n",
        "    # write the 2d matrix to a text file\n",
        "    return combined_matrix"
      ],
      "id": "8cbxwawawVKm"
    },
    {
      "cell_type": "code",
      "execution_count": null,
      "metadata": {
        "colab": {
          "base_uri": "https://localhost:8080/"
        },
        "id": "IFHhbH8x5Fi7",
        "outputId": "ec850d02-45ef-4a93-c93f-5276587d725d"
      },
      "outputs": [
        {
          "output_type": "stream",
          "name": "stdout",
          "text": [
            "start to generate honeywords_tweak.\n"
          ]
        }
      ],
      "source": [
        "honeywords_tweaking = chafffing_by_tweak(real_passwords)"
      ],
      "id": "IFHhbH8x5Fi7"
    },
    {
      "cell_type": "code",
      "execution_count": null,
      "metadata": {
        "id": "tJfZA3Z3dTw2",
        "colab": {
          "base_uri": "https://localhost:8080/"
        },
        "outputId": "fccc473e-864f-49ae-c63a-be0345a09acd"
      },
      "outputs": [
        {
          "output_type": "execute_result",
          "data": {
            "text/plain": [
              "1000"
            ]
          },
          "metadata": {},
          "execution_count": 176
        }
      ],
      "source": [
        "len(honeywords_tweaking)"
      ],
      "id": "tJfZA3Z3dTw2"
    },
    {
      "cell_type": "code",
      "source": [
        "honeywords_tweaking"
      ],
      "metadata": {
        "id": "LIez0AIsv4t4"
      },
      "id": "LIez0AIsv4t4",
      "execution_count": null,
      "outputs": []
    },
    {
      "cell_type": "markdown",
      "source": [
        "## Evaluate"
      ],
      "metadata": {
        "id": "GD9NJScJZ__S"
      },
      "id": "GD9NJScJZ__S"
    },
    {
      "cell_type": "code",
      "source": [
        "def cal_scores(arr):\n",
        "  scores = [[0 for x in range(NUM_SWEETWORDS)] for y in range(NUM_USER)] \n",
        "  for i in range(NUM_USER):\n",
        "    for j in range(NUM_SWEETWORDS):\n",
        "      honeyword = arr[i][j]\n",
        "      score = cal_similarity(arr[i][0], arr[i][j])\n",
        "      scores[i][j] = score\n",
        "  return scores"
      ],
      "metadata": {
        "id": "eaVWfWI8Qlig"
      },
      "id": "eaVWfWI8Qlig",
      "execution_count": null,
      "outputs": []
    },
    {
      "cell_type": "code",
      "source": [
        "NUM_USER = 1000\n",
        "scores = cal_scores(honeywords_tweaking)"
      ],
      "metadata": {
        "id": "6vKvynrobz4T"
      },
      "id": "6vKvynrobz4T",
      "execution_count": null,
      "outputs": []
    },
    {
      "cell_type": "code",
      "source": [
        "tweaking_scores  = pd.read_csv(\"data/similarity_scores/tweaking_scores_1000.csv\", header = None)"
      ],
      "metadata": {
        "id": "Evjq9_l7TjGX"
      },
      "id": "Evjq9_l7TjGX",
      "execution_count": null,
      "outputs": []
    },
    {
      "cell_type": "code",
      "source": [
        "avg_scores = avg_scores(tweaking_scores )\n",
        "avg_scores"
      ],
      "metadata": {
        "id": "ArMh_HT-zR2F"
      },
      "id": "ArMh_HT-zR2F",
      "execution_count": null,
      "outputs": []
    },
    {
      "cell_type": "code",
      "source": [
        "np.savetxt(\"tweaking_avg_scores_1000.csv\", avg_scores, delimiter =\", \", fmt ='% s')"
      ],
      "metadata": {
        "id": "y7jFw-tRzXHO"
      },
      "id": "y7jFw-tRzXHO",
      "execution_count": null,
      "outputs": []
    },
    {
      "cell_type": "code",
      "source": [
        "print(\"The average similarity score of honeywords bu tweaking is:\", sum(avg_scores)/len(avg_scores))"
      ],
      "metadata": {
        "colab": {
          "base_uri": "https://localhost:8080/"
        },
        "id": "ih3YzjFIT7an",
        "outputId": "9a0eed27-b75b-417d-f0d3-37cecfcecdcd"
      },
      "id": "ih3YzjFIT7an",
      "execution_count": null,
      "outputs": [
        {
          "output_type": "stream",
          "name": "stdout",
          "text": [
            "The average similarity score of honeywords bu tweaking is: 0.7832473251490198\n"
          ]
        }
      ]
    },
    {
      "cell_type": "markdown",
      "source": [
        "## FastText"
      ],
      "metadata": {
        "id": "8d2kLVu4zqyx"
      },
      "id": "8d2kLVu4zqyx"
    },
    {
      "cell_type": "code",
      "execution_count": null,
      "metadata": {
        "id": "nriZp2jSbPx6"
      },
      "outputs": [],
      "source": [
        "# generate honeywords by FastText\n",
        "def chaffing_by_fasttext(df):\n",
        "    real_passwords = df['pw']\n",
        "    print(\"start to generate honeywords_fasttext.\")\n",
        "    model = fasttext.load_model(\"model_trained_on_rockyou_500_epochs.bin\")\n",
        "    honeywords=[]\n",
        "    for real_password in real_passwords:\n",
        "        honeywords.append(real_password)\n",
        "        temp = model.get_nearest_neighbors(real_password,k=NUM_SWEETWORDS-1)\n",
        "        for element in temp:\n",
        "            honeywords.append(element[1])\n",
        "\n",
        "    matrix = np.array(honeywords).reshape(-1, NUM_SWEETWORDS)\n",
        "    pd.DataFrame(matrix).to_csv('honeywords_fasttext_1000.csv', index = False)\n",
        "    print(\"honeywords_fasttext generated.\")\n",
        "    return matrix"
      ],
      "id": "nriZp2jSbPx6"
    },
    {
      "cell_type": "code",
      "execution_count": null,
      "metadata": {
        "id": "klys4TbddjQU",
        "colab": {
          "base_uri": "https://localhost:8080/"
        },
        "outputId": "1df802a4-797b-4036-b013-046127a43925"
      },
      "outputs": [
        {
          "output_type": "stream",
          "name": "stdout",
          "text": [
            "start to generate honeywords_fasttext.\n"
          ]
        },
        {
          "output_type": "stream",
          "name": "stderr",
          "text": [
            "Warning : `load_model` does not return WordVectorModel or SupervisedModel any more, but a `FastText` object which is very similar.\n"
          ]
        }
      ],
      "source": [
        "honeywords_fasttext = chaffing_by_fasttext(real_passwords)"
      ],
      "id": "klys4TbddjQU"
    },
    {
      "cell_type": "code",
      "source": [
        "len(honeywords_fasttext)"
      ],
      "metadata": {
        "colab": {
          "base_uri": "https://localhost:8080/"
        },
        "id": "AhxcMEH-oa-c",
        "outputId": "26e57e4f-0be0-41c5-a183-6e1c61551c5f"
      },
      "id": "AhxcMEH-oa-c",
      "execution_count": null,
      "outputs": [
        {
          "output_type": "execute_result",
          "data": {
            "text/plain": [
              "1000"
            ]
          },
          "metadata": {},
          "execution_count": 77
        }
      ]
    },
    {
      "cell_type": "code",
      "source": [
        "honeywords_fasttext"
      ],
      "metadata": {
        "colab": {
          "base_uri": "https://localhost:8080/"
        },
        "id": "gtPv2_d3EtEm",
        "outputId": "c5fdb6cf-1389-44f4-c300-02fdb1cb1f8c"
      },
      "id": "gtPv2_d3EtEm",
      "execution_count": null,
      "outputs": [
        {
          "output_type": "execute_result",
          "data": {
            "text/plain": [
              "array([['z6a79a_grjevzf', 'evedsoid', 'xaaphute', ..., 'exb3p_li',\n",
              "        'gatszaxb', 'Mu__lAx5'],\n",
              "       ['u111511111111', 'manandber', '08151005', ..., '050212313',\n",
              "        'chan2008', 'mania205'],\n",
              "       ['h2omega-tania', 'karert_334', 'lannthpx', ..., 'dizklyna1',\n",
              "        'hambong28', 'hsslidag21'],\n",
              "       ...,\n",
              "       ['fjrw5854sjk4mqg', 'pebob1e0o', 'takakyl', ..., 'jjmiodk',\n",
              "        'sutcaheve', '_rrk_iskako'],\n",
              "       ['j38dfj27@example.com', '1dtiplune', 'tyetikime', ..., '2ssthza',\n",
              "        'lpordeve', '3fEcbl6'],\n",
              "       ['alinka80977249704', '7893704401', '512478', ..., 'kilay20',\n",
              "        'jancik91', '26847796']], dtype='<U34')"
            ]
          },
          "metadata": {},
          "execution_count": 203
        }
      ]
    },
    {
      "cell_type": "code",
      "source": [
        "fasttext_scores = cal_scores(honeywords_fasttext)"
      ],
      "metadata": {
        "id": "sgoJxXRZpp7S"
      },
      "id": "sgoJxXRZpp7S",
      "execution_count": null,
      "outputs": []
    },
    {
      "cell_type": "code",
      "source": [
        "display(fasttext_scores[0][1:])\n",
        "np.savetxt(\"fasttext_scores_1000.csv\", fasttext_scores, delimiter =\", \", fmt ='% s')"
      ],
      "metadata": {
        "colab": {
          "base_uri": "https://localhost:8080/"
        },
        "id": "F__sCotw0y_7",
        "outputId": "e7cd67f1-0a4f-4ad2-a6ff-1df0e09908e1"
      },
      "id": "F__sCotw0y_7",
      "execution_count": null,
      "outputs": [
        {
          "output_type": "display_data",
          "data": {
            "text/plain": [
              "[0.3430747985839844,\n",
              " 0.35578376054763794,\n",
              " 0.27168604731559753,\n",
              " 0.4438930153846741,\n",
              " 0.4328509569168091,\n",
              " 0.6133686304092407,\n",
              " 0.47587788105010986,\n",
              " 0.2854139804840088,\n",
              " 0.406730055809021,\n",
              " 0.33069223165512085,\n",
              " 0.5110376477241516,\n",
              " 0.33590370416641235,\n",
              " 0.4267650544643402,\n",
              " 0.5442410707473755,\n",
              " 0.5880048871040344,\n",
              " 0.43491894006729126,\n",
              " 0.4361203908920288,\n",
              " 0.4211512804031372,\n",
              " 0.34352415800094604]"
            ]
          },
          "metadata": {}
        }
      ]
    },
    {
      "cell_type": "code",
      "source": [
        "fasttext_scores  = pd.read_csv(\"data/similarity_scores/fasttext_scores_1000.csv\", header = None)"
      ],
      "metadata": {
        "id": "OskpYoXbn8a-"
      },
      "id": "OskpYoXbn8a-",
      "execution_count": null,
      "outputs": []
    },
    {
      "cell_type": "code",
      "source": [
        "fasttext_scores.head()"
      ],
      "metadata": {
        "colab": {
          "base_uri": "https://localhost:8080/",
          "height": 270
        },
        "id": "a3pvBFc0oJ1W",
        "outputId": "0bb782b4-b46b-4fcd-caad-fa4e7d6c8e03"
      },
      "id": "a3pvBFc0oJ1W",
      "execution_count": null,
      "outputs": [
        {
          "output_type": "execute_result",
          "data": {
            "text/plain": [
              "    0         1         2         3         4         5         6         7   \\\n",
              "0  1.0  0.343075  0.355784  0.271686  0.443893  0.432851  0.613369  0.475878   \n",
              "1  1.0  0.217880  0.494094  0.261260  0.418987  0.292383  0.391614  0.304608   \n",
              "2  1.0  0.358228  0.422626  0.333588  0.295029  0.224880  0.255364  0.359947   \n",
              "3  1.0  0.521001  0.400412  0.498266  0.360897  0.440559  0.337167  0.482135   \n",
              "4  1.0  0.309676  0.443596  0.204545  0.313823  0.301961  0.297178  0.414019   \n",
              "\n",
              "         8         9         10        11        12        13        14  \\\n",
              "0  0.285414  0.406730  0.330692  0.511038  0.335904  0.426765  0.544241   \n",
              "1  0.426736  0.366661  0.490206  0.378754  0.475126  0.363322  0.577306   \n",
              "2  0.406017  0.459222  0.281882  0.560930  0.164349  0.309300  0.389872   \n",
              "3  0.272490  0.360320  0.392633  0.334296  0.275087  0.459075  0.513840   \n",
              "4  0.404729  0.416569  0.358284  0.299638  0.457617  0.544448  0.489354   \n",
              "\n",
              "         15        16        17        18        19  \n",
              "0  0.588005  0.434919  0.436120  0.421151  0.343524  \n",
              "1  0.450816  0.525793  0.398193  0.228311  0.228611  \n",
              "2  0.345799  0.273811  0.410179  0.301957  0.364207  \n",
              "3  0.516891  0.429384  0.310131  0.549566  0.631949  \n",
              "4  0.328972  0.374649  0.355185  0.333629  0.168076  "
            ],
            "text/html": [
              "\n",
              "  <div id=\"df-236e364b-3474-44b3-ac29-ae7b5050c374\">\n",
              "    <div class=\"colab-df-container\">\n",
              "      <div>\n",
              "<style scoped>\n",
              "    .dataframe tbody tr th:only-of-type {\n",
              "        vertical-align: middle;\n",
              "    }\n",
              "\n",
              "    .dataframe tbody tr th {\n",
              "        vertical-align: top;\n",
              "    }\n",
              "\n",
              "    .dataframe thead th {\n",
              "        text-align: right;\n",
              "    }\n",
              "</style>\n",
              "<table border=\"1\" class=\"dataframe\">\n",
              "  <thead>\n",
              "    <tr style=\"text-align: right;\">\n",
              "      <th></th>\n",
              "      <th>0</th>\n",
              "      <th>1</th>\n",
              "      <th>2</th>\n",
              "      <th>3</th>\n",
              "      <th>4</th>\n",
              "      <th>5</th>\n",
              "      <th>6</th>\n",
              "      <th>7</th>\n",
              "      <th>8</th>\n",
              "      <th>9</th>\n",
              "      <th>10</th>\n",
              "      <th>11</th>\n",
              "      <th>12</th>\n",
              "      <th>13</th>\n",
              "      <th>14</th>\n",
              "      <th>15</th>\n",
              "      <th>16</th>\n",
              "      <th>17</th>\n",
              "      <th>18</th>\n",
              "      <th>19</th>\n",
              "    </tr>\n",
              "  </thead>\n",
              "  <tbody>\n",
              "    <tr>\n",
              "      <th>0</th>\n",
              "      <td>1.0</td>\n",
              "      <td>0.343075</td>\n",
              "      <td>0.355784</td>\n",
              "      <td>0.271686</td>\n",
              "      <td>0.443893</td>\n",
              "      <td>0.432851</td>\n",
              "      <td>0.613369</td>\n",
              "      <td>0.475878</td>\n",
              "      <td>0.285414</td>\n",
              "      <td>0.406730</td>\n",
              "      <td>0.330692</td>\n",
              "      <td>0.511038</td>\n",
              "      <td>0.335904</td>\n",
              "      <td>0.426765</td>\n",
              "      <td>0.544241</td>\n",
              "      <td>0.588005</td>\n",
              "      <td>0.434919</td>\n",
              "      <td>0.436120</td>\n",
              "      <td>0.421151</td>\n",
              "      <td>0.343524</td>\n",
              "    </tr>\n",
              "    <tr>\n",
              "      <th>1</th>\n",
              "      <td>1.0</td>\n",
              "      <td>0.217880</td>\n",
              "      <td>0.494094</td>\n",
              "      <td>0.261260</td>\n",
              "      <td>0.418987</td>\n",
              "      <td>0.292383</td>\n",
              "      <td>0.391614</td>\n",
              "      <td>0.304608</td>\n",
              "      <td>0.426736</td>\n",
              "      <td>0.366661</td>\n",
              "      <td>0.490206</td>\n",
              "      <td>0.378754</td>\n",
              "      <td>0.475126</td>\n",
              "      <td>0.363322</td>\n",
              "      <td>0.577306</td>\n",
              "      <td>0.450816</td>\n",
              "      <td>0.525793</td>\n",
              "      <td>0.398193</td>\n",
              "      <td>0.228311</td>\n",
              "      <td>0.228611</td>\n",
              "    </tr>\n",
              "    <tr>\n",
              "      <th>2</th>\n",
              "      <td>1.0</td>\n",
              "      <td>0.358228</td>\n",
              "      <td>0.422626</td>\n",
              "      <td>0.333588</td>\n",
              "      <td>0.295029</td>\n",
              "      <td>0.224880</td>\n",
              "      <td>0.255364</td>\n",
              "      <td>0.359947</td>\n",
              "      <td>0.406017</td>\n",
              "      <td>0.459222</td>\n",
              "      <td>0.281882</td>\n",
              "      <td>0.560930</td>\n",
              "      <td>0.164349</td>\n",
              "      <td>0.309300</td>\n",
              "      <td>0.389872</td>\n",
              "      <td>0.345799</td>\n",
              "      <td>0.273811</td>\n",
              "      <td>0.410179</td>\n",
              "      <td>0.301957</td>\n",
              "      <td>0.364207</td>\n",
              "    </tr>\n",
              "    <tr>\n",
              "      <th>3</th>\n",
              "      <td>1.0</td>\n",
              "      <td>0.521001</td>\n",
              "      <td>0.400412</td>\n",
              "      <td>0.498266</td>\n",
              "      <td>0.360897</td>\n",
              "      <td>0.440559</td>\n",
              "      <td>0.337167</td>\n",
              "      <td>0.482135</td>\n",
              "      <td>0.272490</td>\n",
              "      <td>0.360320</td>\n",
              "      <td>0.392633</td>\n",
              "      <td>0.334296</td>\n",
              "      <td>0.275087</td>\n",
              "      <td>0.459075</td>\n",
              "      <td>0.513840</td>\n",
              "      <td>0.516891</td>\n",
              "      <td>0.429384</td>\n",
              "      <td>0.310131</td>\n",
              "      <td>0.549566</td>\n",
              "      <td>0.631949</td>\n",
              "    </tr>\n",
              "    <tr>\n",
              "      <th>4</th>\n",
              "      <td>1.0</td>\n",
              "      <td>0.309676</td>\n",
              "      <td>0.443596</td>\n",
              "      <td>0.204545</td>\n",
              "      <td>0.313823</td>\n",
              "      <td>0.301961</td>\n",
              "      <td>0.297178</td>\n",
              "      <td>0.414019</td>\n",
              "      <td>0.404729</td>\n",
              "      <td>0.416569</td>\n",
              "      <td>0.358284</td>\n",
              "      <td>0.299638</td>\n",
              "      <td>0.457617</td>\n",
              "      <td>0.544448</td>\n",
              "      <td>0.489354</td>\n",
              "      <td>0.328972</td>\n",
              "      <td>0.374649</td>\n",
              "      <td>0.355185</td>\n",
              "      <td>0.333629</td>\n",
              "      <td>0.168076</td>\n",
              "    </tr>\n",
              "  </tbody>\n",
              "</table>\n",
              "</div>\n",
              "      <button class=\"colab-df-convert\" onclick=\"convertToInteractive('df-236e364b-3474-44b3-ac29-ae7b5050c374')\"\n",
              "              title=\"Convert this dataframe to an interactive table.\"\n",
              "              style=\"display:none;\">\n",
              "        \n",
              "  <svg xmlns=\"http://www.w3.org/2000/svg\" height=\"24px\"viewBox=\"0 0 24 24\"\n",
              "       width=\"24px\">\n",
              "    <path d=\"M0 0h24v24H0V0z\" fill=\"none\"/>\n",
              "    <path d=\"M18.56 5.44l.94 2.06.94-2.06 2.06-.94-2.06-.94-.94-2.06-.94 2.06-2.06.94zm-11 1L8.5 8.5l.94-2.06 2.06-.94-2.06-.94L8.5 2.5l-.94 2.06-2.06.94zm10 10l.94 2.06.94-2.06 2.06-.94-2.06-.94-.94-2.06-.94 2.06-2.06.94z\"/><path d=\"M17.41 7.96l-1.37-1.37c-.4-.4-.92-.59-1.43-.59-.52 0-1.04.2-1.43.59L10.3 9.45l-7.72 7.72c-.78.78-.78 2.05 0 2.83L4 21.41c.39.39.9.59 1.41.59.51 0 1.02-.2 1.41-.59l7.78-7.78 2.81-2.81c.8-.78.8-2.07 0-2.86zM5.41 20L4 18.59l7.72-7.72 1.47 1.35L5.41 20z\"/>\n",
              "  </svg>\n",
              "      </button>\n",
              "      \n",
              "  <style>\n",
              "    .colab-df-container {\n",
              "      display:flex;\n",
              "      flex-wrap:wrap;\n",
              "      gap: 12px;\n",
              "    }\n",
              "\n",
              "    .colab-df-convert {\n",
              "      background-color: #E8F0FE;\n",
              "      border: none;\n",
              "      border-radius: 50%;\n",
              "      cursor: pointer;\n",
              "      display: none;\n",
              "      fill: #1967D2;\n",
              "      height: 32px;\n",
              "      padding: 0 0 0 0;\n",
              "      width: 32px;\n",
              "    }\n",
              "\n",
              "    .colab-df-convert:hover {\n",
              "      background-color: #E2EBFA;\n",
              "      box-shadow: 0px 1px 2px rgba(60, 64, 67, 0.3), 0px 1px 3px 1px rgba(60, 64, 67, 0.15);\n",
              "      fill: #174EA6;\n",
              "    }\n",
              "\n",
              "    [theme=dark] .colab-df-convert {\n",
              "      background-color: #3B4455;\n",
              "      fill: #D2E3FC;\n",
              "    }\n",
              "\n",
              "    [theme=dark] .colab-df-convert:hover {\n",
              "      background-color: #434B5C;\n",
              "      box-shadow: 0px 1px 3px 1px rgba(0, 0, 0, 0.15);\n",
              "      filter: drop-shadow(0px 1px 2px rgba(0, 0, 0, 0.3));\n",
              "      fill: #FFFFFF;\n",
              "    }\n",
              "  </style>\n",
              "\n",
              "      <script>\n",
              "        const buttonEl =\n",
              "          document.querySelector('#df-236e364b-3474-44b3-ac29-ae7b5050c374 button.colab-df-convert');\n",
              "        buttonEl.style.display =\n",
              "          google.colab.kernel.accessAllowed ? 'block' : 'none';\n",
              "\n",
              "        async function convertToInteractive(key) {\n",
              "          const element = document.querySelector('#df-236e364b-3474-44b3-ac29-ae7b5050c374');\n",
              "          const dataTable =\n",
              "            await google.colab.kernel.invokeFunction('convertToInteractive',\n",
              "                                                     [key], {});\n",
              "          if (!dataTable) return;\n",
              "\n",
              "          const docLinkHtml = 'Like what you see? Visit the ' +\n",
              "            '<a target=\"_blank\" href=https://colab.research.google.com/notebooks/data_table.ipynb>data table notebook</a>'\n",
              "            + ' to learn more about interactive tables.';\n",
              "          element.innerHTML = '';\n",
              "          dataTable['output_type'] = 'display_data';\n",
              "          await google.colab.output.renderOutput(dataTable, element);\n",
              "          const docLink = document.createElement('div');\n",
              "          docLink.innerHTML = docLinkHtml;\n",
              "          element.appendChild(docLink);\n",
              "        }\n",
              "      </script>\n",
              "    </div>\n",
              "  </div>\n",
              "  "
            ]
          },
          "metadata": {},
          "execution_count": 38
        }
      ]
    },
    {
      "cell_type": "code",
      "source": [
        "fasttext_avg_scores = avg_scores(fasttext_scores)"
      ],
      "metadata": {
        "id": "UZqwjX6lTHmm"
      },
      "id": "UZqwjX6lTHmm",
      "execution_count": null,
      "outputs": []
    },
    {
      "cell_type": "code",
      "source": [
        "np.savetxt(\"fasttext_avg_scores_1000.csv\", fasttext_avg_scores , delimiter =\", \", fmt ='% s')"
      ],
      "metadata": {
        "id": "RpaqtlZcpjFX"
      },
      "id": "RpaqtlZcpjFX",
      "execution_count": null,
      "outputs": []
    },
    {
      "cell_type": "code",
      "source": [
        "print(\"The average similarity score of honeywords by fasttext is:\", sum(fasttext_avg_scores)/len(fasttext_avg_scores))"
      ],
      "metadata": {
        "colab": {
          "base_uri": "https://localhost:8080/"
        },
        "id": "b338GFXT1Eqi",
        "outputId": "21a1d96f-1116-42d9-b024-59ef403b9790"
      },
      "id": "b338GFXT1Eqi",
      "execution_count": null,
      "outputs": [
        {
          "output_type": "stream",
          "name": "stdout",
          "text": [
            "The average similarity score of honeywords by fasttext is: 0.38182773044337814\n"
          ]
        }
      ]
    },
    {
      "cell_type": "markdown",
      "source": [
        "## GPT-3"
      ],
      "metadata": {
        "id": "iLbiFk_T1Sfc"
      },
      "id": "iLbiFk_T1Sfc"
    },
    {
      "cell_type": "code",
      "source": [
        "def GPT3_honeywords(df):\n",
        "  real_password = df['pw']\n",
        "  response = openai.Completion.create(\n",
        "    model=\"text-davinci-002\",\n",
        "    prompt=\"Derive 19 passwords that are similar to \" + real_password + \". The length of the passwords should be more than 12.\",\n",
        "    temperature=1,\n",
        "    max_tokens=256,\n",
        "    top_p=1,\n",
        "    frequency_penalty=0,\n",
        "    presence_penalty=0\n",
        "  )\n",
        "  result = response.choices[0].text.strip().split()\n",
        "  return result"
      ],
      "metadata": {
        "id": "nJ9UmrLyW7Jx"
      },
      "id": "nJ9UmrLyW7Jx",
      "execution_count": null,
      "outputs": []
    },
    {
      "cell_type": "code",
      "source": [
        "display(real_passwords[2])\n",
        "samples = GPT3_honeywords(real_passwords[2])"
      ],
      "metadata": {
        "colab": {
          "base_uri": "https://localhost:8080/",
          "height": 36
        },
        "id": "O0-iU6fV4rgY",
        "outputId": "a56e6d58-fc32-416b-cc7b-ffefbb24f7db"
      },
      "id": "O0-iU6fV4rgY",
      "execution_count": null,
      "outputs": [
        {
          "output_type": "display_data",
          "data": {
            "text/plain": [
              "'m16200301313_312_I'"
            ],
            "application/vnd.google.colaboratory.intrinsic+json": {
              "type": "string"
            }
          },
          "metadata": {}
        }
      ]
    },
    {
      "cell_type": "code",
      "source": [
        "samples "
      ],
      "metadata": {
        "id": "S4VHjpqzozxA"
      },
      "id": "S4VHjpqzozxA",
      "execution_count": null,
      "outputs": []
    },
    {
      "cell_type": "code",
      "source": [
        "def chaffing_by_GPT3(real_passwords):\n",
        "  sweetwords = {}\n",
        "  for real_password in real_passwords:\n",
        "    sweetwords[real_password] = GPT3_honeywords(real_password)\n",
        "  return sweetwords"
      ],
      "metadata": {
        "id": "VG1WDf0he3mA"
      },
      "id": "VG1WDf0he3mA",
      "execution_count": null,
      "outputs": []
    },
    {
      "cell_type": "code",
      "source": [
        "sweetwords_GPT = chaffing_by_GPT3(real_passwords)"
      ],
      "metadata": {
        "id": "t75SKNrNiMFu"
      },
      "id": "t75SKNrNiMFu",
      "execution_count": null,
      "outputs": []
    },
    {
      "cell_type": "code",
      "source": [
        "res = []\n",
        "for key, val in sweetwords_GPT.items():\n",
        "  res.append([key] + val)"
      ],
      "metadata": {
        "id": "lP_1r7Xx5RxA"
      },
      "id": "lP_1r7Xx5RxA",
      "execution_count": null,
      "outputs": []
    },
    {
      "cell_type": "code",
      "source": [
        "len(res)"
      ],
      "metadata": {
        "colab": {
          "base_uri": "https://localhost:8080/"
        },
        "id": "s6dJTNCUsfIJ",
        "outputId": "8ff1ac85-e4f7-42b6-8427-8b667b7d2f59"
      },
      "id": "s6dJTNCUsfIJ",
      "execution_count": null,
      "outputs": [
        {
          "output_type": "execute_result",
          "data": {
            "text/plain": [
              "1000"
            ]
          },
          "metadata": {},
          "execution_count": 229
        }
      ]
    },
    {
      "cell_type": "code",
      "source": [
        "honeywords_GPT3 = res\n",
        "pd.DataFrame(honeywords_GPT3).to_csv('honeywords_GPT3_1000.csv', index = False)"
      ],
      "metadata": {
        "id": "rKNADlpfqMKy"
      },
      "id": "rKNADlpfqMKy",
      "execution_count": null,
      "outputs": []
    },
    {
      "cell_type": "code",
      "source": [
        "ls"
      ],
      "metadata": {
        "colab": {
          "base_uri": "https://localhost:8080/"
        },
        "id": "bRt5QxDQhbNi",
        "outputId": "f2552d49-29c2-4f86-f20b-876f207acd17"
      },
      "id": "bRt5QxDQhbNi",
      "execution_count": null,
      "outputs": [
        {
          "output_type": "stream",
          "name": "stdout",
          "text": [
            "'ACSAC reviews.gdoc'       model_trained_on_rockyou_500_epochs.bin\n",
            " \u001b[0m\u001b[01;34mdata\u001b[0m/                     MPNet_Cosine_similarity.ipynb\n",
            "'HGT comparison.gslides'   \u001b[01;34mpaper\u001b[0m/\n",
            " honeywords_fasttext.txt  \u001b[01;34m'User study'\u001b[0m/\n"
          ]
        }
      ]
    },
    {
      "cell_type": "code",
      "source": [
        "honeywords_GPT3  = pd.read_csv(\"data/honeywords/honeywords_GPT3_1000.csv\")"
      ],
      "metadata": {
        "id": "2smSP0-5hPMr"
      },
      "id": "2smSP0-5hPMr",
      "execution_count": null,
      "outputs": []
    },
    {
      "cell_type": "code",
      "source": [
        "honeywords_GPT3_new = pd.DataFrame(index=honeywords_GPT3.index, columns=honeywords_GPT3.columns)"
      ],
      "metadata": {
        "id": "ul_DEEkLN6_o"
      },
      "id": "ul_DEEkLN6_o",
      "execution_count": null,
      "outputs": []
    },
    {
      "cell_type": "code",
      "source": [
        "# delete values with length less than 8\n",
        "for i in range(len(honeywords_GPT3)):\n",
        "  for j in range(72):\n",
        "    if len(str(honeywords_GPT3.iloc[i][j]))>8:\n",
        "      honeywords_GPT3_new.iloc[i][j] = honeywords_GPT3.iloc[i][j]"
      ],
      "metadata": {
        "id": "bFeq4zdkDnnu"
      },
      "id": "bFeq4zdkDnnu",
      "execution_count": null,
      "outputs": []
    },
    {
      "cell_type": "code",
      "source": [
        "honeywords_GPT3_new.iloc[3][0] != 'nan'"
      ],
      "metadata": {
        "colab": {
          "base_uri": "https://localhost:8080/"
        },
        "id": "AihFse9-JKQu",
        "outputId": "81e29002-e77a-45a7-b721-258b2d3896ba"
      },
      "id": "AihFse9-JKQu",
      "execution_count": null,
      "outputs": [
        {
          "output_type": "execute_result",
          "data": {
            "text/plain": [
              "True"
            ]
          },
          "metadata": {},
          "execution_count": 13
        }
      ]
    },
    {
      "cell_type": "code",
      "source": [
        "honeywords_GPT3_new.to_csv('honeywords_GPT3_1000_8plus.', index = False)"
      ],
      "metadata": {
        "id": "CZa7_m2dhpH3"
      },
      "id": "CZa7_m2dhpH3",
      "execution_count": null,
      "outputs": []
    },
    {
      "cell_type": "code",
      "source": [
        "honeywords_GPT3_new.head()"
      ],
      "metadata": {
        "colab": {
          "base_uri": "https://localhost:8080/",
          "height": 299
        },
        "id": "lL8iHByUh_qt",
        "outputId": "b3ffbe21-07b0-4c88-8570-67e543ecdc08"
      },
      "id": "lL8iHByUh_qt",
      "execution_count": null,
      "outputs": [
        {
          "output_type": "execute_result",
          "data": {
            "text/plain": [
              "                          0                     1                        2  \\\n",
              "0            z6a79a_grjevzf                   NaN           d7b8ab_gtkfwag   \n",
              "1             u111511111111      1111111111111111        11111111111111111   \n",
              "2             h2omega-tania       H2omega-tania12         H2omega-tania123   \n",
              "3  o0o4nh_ch4ng_s4u_Mu0no0o  o0o4nh_ch4ng_s4u_Mu0  o0o4nh_ch4ng_s4u_Mu0no0   \n",
              "4          o0o_Zay_Chou_o0o         o0oZayChouo0o              0123456789_   \n",
              "\n",
              "                          3                          4  \\\n",
              "0                       NaN             f9d2cd_jvpkcbi   \n",
              "1        111111111111111111        1111111111111111111   \n",
              "2         H2omega-tania1234         H2omega-tania12345   \n",
              "3  o0o4nh_ch4ng_s4u_Mu0no0o  o0o4nh_ch4ng_s4u_Mu0no0o1   \n",
              "4          o0o_Zay_Chou_o0o                        NaN   \n",
              "\n",
              "                           5                          6  \\\n",
              "0                        NaN             g3e6ef_kxqlgdj   \n",
              "1       11111111111111111111      111111111111111111111   \n",
              "2        H2omega-tania123456       H2omega-tania1234567   \n",
              "3  o0o4nh_ch4ng_s4u_Mu0no0o2  o0o4nh_ch4ng_s4u_Mu0no0o3   \n",
              "4                        NaN                        NaN   \n",
              "\n",
              "                           7                          8  \\\n",
              "0                        NaN             h5f0g1_lzsnhfk   \n",
              "1     1111111111111111111111    11111111111111111111111   \n",
              "2      H2omega-tania12345678     H2omega-tania123456789   \n",
              "3  o0o4nh_ch4ng_s4u_Mu0no0o4  o0o4nh_ch4ng_s4u_Mu0no0o5   \n",
              "4                        NaN                        NaN   \n",
              "\n",
              "                           9  ...   62   63   64   65   66   67   68   69  \\\n",
              "0                        NaN  ...  NaN  NaN  NaN  NaN  NaN  NaN  NaN  NaN   \n",
              "1   111111111111111111111111  ...  NaN  NaN  NaN  NaN  NaN  NaN  NaN  NaN   \n",
              "2    H2omega-tania1234567890  ...  NaN  NaN  NaN  NaN  NaN  NaN  NaN  NaN   \n",
              "3  o0o4nh_ch4ng_s4u_Mu0no0o6  ...  NaN  NaN  NaN  NaN  NaN  NaN  NaN  NaN   \n",
              "4                        NaN  ...  NaN  NaN  NaN  NaN  NaN  NaN  NaN  NaN   \n",
              "\n",
              "    70   71  \n",
              "0  NaN  NaN  \n",
              "1  NaN  NaN  \n",
              "2  NaN  NaN  \n",
              "3  NaN  NaN  \n",
              "4  NaN  NaN  \n",
              "\n",
              "[5 rows x 72 columns]"
            ],
            "text/html": [
              "\n",
              "  <div id=\"df-aa8d1a16-3aaf-4ef5-9198-9e918efaa378\">\n",
              "    <div class=\"colab-df-container\">\n",
              "      <div>\n",
              "<style scoped>\n",
              "    .dataframe tbody tr th:only-of-type {\n",
              "        vertical-align: middle;\n",
              "    }\n",
              "\n",
              "    .dataframe tbody tr th {\n",
              "        vertical-align: top;\n",
              "    }\n",
              "\n",
              "    .dataframe thead th {\n",
              "        text-align: right;\n",
              "    }\n",
              "</style>\n",
              "<table border=\"1\" class=\"dataframe\">\n",
              "  <thead>\n",
              "    <tr style=\"text-align: right;\">\n",
              "      <th></th>\n",
              "      <th>0</th>\n",
              "      <th>1</th>\n",
              "      <th>2</th>\n",
              "      <th>3</th>\n",
              "      <th>4</th>\n",
              "      <th>5</th>\n",
              "      <th>6</th>\n",
              "      <th>7</th>\n",
              "      <th>8</th>\n",
              "      <th>9</th>\n",
              "      <th>...</th>\n",
              "      <th>62</th>\n",
              "      <th>63</th>\n",
              "      <th>64</th>\n",
              "      <th>65</th>\n",
              "      <th>66</th>\n",
              "      <th>67</th>\n",
              "      <th>68</th>\n",
              "      <th>69</th>\n",
              "      <th>70</th>\n",
              "      <th>71</th>\n",
              "    </tr>\n",
              "  </thead>\n",
              "  <tbody>\n",
              "    <tr>\n",
              "      <th>0</th>\n",
              "      <td>z6a79a_grjevzf</td>\n",
              "      <td>NaN</td>\n",
              "      <td>d7b8ab_gtkfwag</td>\n",
              "      <td>NaN</td>\n",
              "      <td>f9d2cd_jvpkcbi</td>\n",
              "      <td>NaN</td>\n",
              "      <td>g3e6ef_kxqlgdj</td>\n",
              "      <td>NaN</td>\n",
              "      <td>h5f0g1_lzsnhfk</td>\n",
              "      <td>NaN</td>\n",
              "      <td>...</td>\n",
              "      <td>NaN</td>\n",
              "      <td>NaN</td>\n",
              "      <td>NaN</td>\n",
              "      <td>NaN</td>\n",
              "      <td>NaN</td>\n",
              "      <td>NaN</td>\n",
              "      <td>NaN</td>\n",
              "      <td>NaN</td>\n",
              "      <td>NaN</td>\n",
              "      <td>NaN</td>\n",
              "    </tr>\n",
              "    <tr>\n",
              "      <th>1</th>\n",
              "      <td>u111511111111</td>\n",
              "      <td>1111111111111111</td>\n",
              "      <td>11111111111111111</td>\n",
              "      <td>111111111111111111</td>\n",
              "      <td>1111111111111111111</td>\n",
              "      <td>11111111111111111111</td>\n",
              "      <td>111111111111111111111</td>\n",
              "      <td>1111111111111111111111</td>\n",
              "      <td>11111111111111111111111</td>\n",
              "      <td>111111111111111111111111</td>\n",
              "      <td>...</td>\n",
              "      <td>NaN</td>\n",
              "      <td>NaN</td>\n",
              "      <td>NaN</td>\n",
              "      <td>NaN</td>\n",
              "      <td>NaN</td>\n",
              "      <td>NaN</td>\n",
              "      <td>NaN</td>\n",
              "      <td>NaN</td>\n",
              "      <td>NaN</td>\n",
              "      <td>NaN</td>\n",
              "    </tr>\n",
              "    <tr>\n",
              "      <th>2</th>\n",
              "      <td>h2omega-tania</td>\n",
              "      <td>H2omega-tania12</td>\n",
              "      <td>H2omega-tania123</td>\n",
              "      <td>H2omega-tania1234</td>\n",
              "      <td>H2omega-tania12345</td>\n",
              "      <td>H2omega-tania123456</td>\n",
              "      <td>H2omega-tania1234567</td>\n",
              "      <td>H2omega-tania12345678</td>\n",
              "      <td>H2omega-tania123456789</td>\n",
              "      <td>H2omega-tania1234567890</td>\n",
              "      <td>...</td>\n",
              "      <td>NaN</td>\n",
              "      <td>NaN</td>\n",
              "      <td>NaN</td>\n",
              "      <td>NaN</td>\n",
              "      <td>NaN</td>\n",
              "      <td>NaN</td>\n",
              "      <td>NaN</td>\n",
              "      <td>NaN</td>\n",
              "      <td>NaN</td>\n",
              "      <td>NaN</td>\n",
              "    </tr>\n",
              "    <tr>\n",
              "      <th>3</th>\n",
              "      <td>o0o4nh_ch4ng_s4u_Mu0no0o</td>\n",
              "      <td>o0o4nh_ch4ng_s4u_Mu0</td>\n",
              "      <td>o0o4nh_ch4ng_s4u_Mu0no0</td>\n",
              "      <td>o0o4nh_ch4ng_s4u_Mu0no0o</td>\n",
              "      <td>o0o4nh_ch4ng_s4u_Mu0no0o1</td>\n",
              "      <td>o0o4nh_ch4ng_s4u_Mu0no0o2</td>\n",
              "      <td>o0o4nh_ch4ng_s4u_Mu0no0o3</td>\n",
              "      <td>o0o4nh_ch4ng_s4u_Mu0no0o4</td>\n",
              "      <td>o0o4nh_ch4ng_s4u_Mu0no0o5</td>\n",
              "      <td>o0o4nh_ch4ng_s4u_Mu0no0o6</td>\n",
              "      <td>...</td>\n",
              "      <td>NaN</td>\n",
              "      <td>NaN</td>\n",
              "      <td>NaN</td>\n",
              "      <td>NaN</td>\n",
              "      <td>NaN</td>\n",
              "      <td>NaN</td>\n",
              "      <td>NaN</td>\n",
              "      <td>NaN</td>\n",
              "      <td>NaN</td>\n",
              "      <td>NaN</td>\n",
              "    </tr>\n",
              "    <tr>\n",
              "      <th>4</th>\n",
              "      <td>o0o_Zay_Chou_o0o</td>\n",
              "      <td>o0oZayChouo0o</td>\n",
              "      <td>0123456789_</td>\n",
              "      <td>o0o_Zay_Chou_o0o</td>\n",
              "      <td>NaN</td>\n",
              "      <td>NaN</td>\n",
              "      <td>NaN</td>\n",
              "      <td>NaN</td>\n",
              "      <td>NaN</td>\n",
              "      <td>NaN</td>\n",
              "      <td>...</td>\n",
              "      <td>NaN</td>\n",
              "      <td>NaN</td>\n",
              "      <td>NaN</td>\n",
              "      <td>NaN</td>\n",
              "      <td>NaN</td>\n",
              "      <td>NaN</td>\n",
              "      <td>NaN</td>\n",
              "      <td>NaN</td>\n",
              "      <td>NaN</td>\n",
              "      <td>NaN</td>\n",
              "    </tr>\n",
              "  </tbody>\n",
              "</table>\n",
              "<p>5 rows × 72 columns</p>\n",
              "</div>\n",
              "      <button class=\"colab-df-convert\" onclick=\"convertToInteractive('df-aa8d1a16-3aaf-4ef5-9198-9e918efaa378')\"\n",
              "              title=\"Convert this dataframe to an interactive table.\"\n",
              "              style=\"display:none;\">\n",
              "        \n",
              "  <svg xmlns=\"http://www.w3.org/2000/svg\" height=\"24px\"viewBox=\"0 0 24 24\"\n",
              "       width=\"24px\">\n",
              "    <path d=\"M0 0h24v24H0V0z\" fill=\"none\"/>\n",
              "    <path d=\"M18.56 5.44l.94 2.06.94-2.06 2.06-.94-2.06-.94-.94-2.06-.94 2.06-2.06.94zm-11 1L8.5 8.5l.94-2.06 2.06-.94-2.06-.94L8.5 2.5l-.94 2.06-2.06.94zm10 10l.94 2.06.94-2.06 2.06-.94-2.06-.94-.94-2.06-.94 2.06-2.06.94z\"/><path d=\"M17.41 7.96l-1.37-1.37c-.4-.4-.92-.59-1.43-.59-.52 0-1.04.2-1.43.59L10.3 9.45l-7.72 7.72c-.78.78-.78 2.05 0 2.83L4 21.41c.39.39.9.59 1.41.59.51 0 1.02-.2 1.41-.59l7.78-7.78 2.81-2.81c.8-.78.8-2.07 0-2.86zM5.41 20L4 18.59l7.72-7.72 1.47 1.35L5.41 20z\"/>\n",
              "  </svg>\n",
              "      </button>\n",
              "      \n",
              "  <style>\n",
              "    .colab-df-container {\n",
              "      display:flex;\n",
              "      flex-wrap:wrap;\n",
              "      gap: 12px;\n",
              "    }\n",
              "\n",
              "    .colab-df-convert {\n",
              "      background-color: #E8F0FE;\n",
              "      border: none;\n",
              "      border-radius: 50%;\n",
              "      cursor: pointer;\n",
              "      display: none;\n",
              "      fill: #1967D2;\n",
              "      height: 32px;\n",
              "      padding: 0 0 0 0;\n",
              "      width: 32px;\n",
              "    }\n",
              "\n",
              "    .colab-df-convert:hover {\n",
              "      background-color: #E2EBFA;\n",
              "      box-shadow: 0px 1px 2px rgba(60, 64, 67, 0.3), 0px 1px 3px 1px rgba(60, 64, 67, 0.15);\n",
              "      fill: #174EA6;\n",
              "    }\n",
              "\n",
              "    [theme=dark] .colab-df-convert {\n",
              "      background-color: #3B4455;\n",
              "      fill: #D2E3FC;\n",
              "    }\n",
              "\n",
              "    [theme=dark] .colab-df-convert:hover {\n",
              "      background-color: #434B5C;\n",
              "      box-shadow: 0px 1px 3px 1px rgba(0, 0, 0, 0.15);\n",
              "      filter: drop-shadow(0px 1px 2px rgba(0, 0, 0, 0.3));\n",
              "      fill: #FFFFFF;\n",
              "    }\n",
              "  </style>\n",
              "\n",
              "      <script>\n",
              "        const buttonEl =\n",
              "          document.querySelector('#df-aa8d1a16-3aaf-4ef5-9198-9e918efaa378 button.colab-df-convert');\n",
              "        buttonEl.style.display =\n",
              "          google.colab.kernel.accessAllowed ? 'block' : 'none';\n",
              "\n",
              "        async function convertToInteractive(key) {\n",
              "          const element = document.querySelector('#df-aa8d1a16-3aaf-4ef5-9198-9e918efaa378');\n",
              "          const dataTable =\n",
              "            await google.colab.kernel.invokeFunction('convertToInteractive',\n",
              "                                                     [key], {});\n",
              "          if (!dataTable) return;\n",
              "\n",
              "          const docLinkHtml = 'Like what you see? Visit the ' +\n",
              "            '<a target=\"_blank\" href=https://colab.research.google.com/notebooks/data_table.ipynb>data table notebook</a>'\n",
              "            + ' to learn more about interactive tables.';\n",
              "          element.innerHTML = '';\n",
              "          dataTable['output_type'] = 'display_data';\n",
              "          await google.colab.output.renderOutput(dataTable, element);\n",
              "          const docLink = document.createElement('div');\n",
              "          docLink.innerHTML = docLinkHtml;\n",
              "          element.appendChild(docLink);\n",
              "        }\n",
              "      </script>\n",
              "    </div>\n",
              "  </div>\n",
              "  "
            ]
          },
          "metadata": {},
          "execution_count": 16
        }
      ]
    },
    {
      "cell_type": "code",
      "source": [
        "def cal_scores2(df):\n",
        "  scores = [0 for x in range(NUM_USER)] \n",
        "  for i in range(NUM_USER):\n",
        "    temp = 0\n",
        "    count = 0\n",
        "    for j in range(1, NUM_SWEETWORDS):\n",
        "      honeyword = str(df.iloc[i][j]) \n",
        "      real_password = str(df.iloc[i][0])\n",
        "      if honeyword != 'nan'and honeyword != real_password:\n",
        "        score = cal_similarity(real_password, str(df.iloc[i][j]))\n",
        "        count += 1\n",
        "        temp = temp + score\n",
        "    if count != 0:\n",
        "      scores[i] = temp/count\n",
        "    else:\n",
        "      scores[i] = 1\n",
        "  return scores"
      ],
      "metadata": {
        "id": "9g1V1u1jOK4t"
      },
      "id": "9g1V1u1jOK4t",
      "execution_count": null,
      "outputs": []
    },
    {
      "cell_type": "code",
      "source": [
        "GPT3_avg_scores = cal_scores2(honeywords_GPT3_new)"
      ],
      "metadata": {
        "id": "4yws3ALXQZrb"
      },
      "id": "4yws3ALXQZrb",
      "execution_count": null,
      "outputs": []
    },
    {
      "cell_type": "code",
      "source": [
        "np.savetxt(\"GPT3_scores_1000.csv\", GPT3_avg_scores, delimiter =\", \", fmt ='% s')"
      ],
      "metadata": {
        "id": "lDNaleFpUmVZ"
      },
      "id": "lDNaleFpUmVZ",
      "execution_count": null,
      "outputs": []
    },
    {
      "cell_type": "code",
      "source": [
        "print(\"The average similarity score of honeywords by GPT3 is:\", sum(GPT3_avg_scores)/len(GPT3_avg_scores))"
      ],
      "metadata": {
        "colab": {
          "base_uri": "https://localhost:8080/"
        },
        "id": "YJ4tu42uUm15",
        "outputId": "8d59e1e0-a547-4d75-e23c-054f5a883c59"
      },
      "id": "YJ4tu42uUm15",
      "execution_count": null,
      "outputs": [
        {
          "output_type": "stream",
          "name": "stdout",
          "text": [
            "The average similarity score of honeywords by GPT3 is: 0.8970959020857113\n"
          ]
        }
      ]
    },
    {
      "cell_type": "code",
      "source": [],
      "metadata": {
        "id": "6BJQIYj8jrwQ"
      },
      "id": "6BJQIYj8jrwQ",
      "execution_count": null,
      "outputs": []
    }
  ],
  "metadata": {
    "colab": {
      "name": "HGT_targeted.ipynb",
      "provenance": [],
      "collapsed_sections": [
        "KG3AkddrJASK",
        "k8W8Yw44tpoN",
        "mMvzM1a2GBgK",
        "1RXb58R3OWob",
        "WDZwnMhxuBwz",
        "GD9NJScJZ__S",
        "8d2kLVu4zqyx",
        "iLbiFk_T1Sfc"
      ],
      "include_colab_link": true
    },
    "kernelspec": {
      "display_name": "Python 3 (ipykernel)",
      "language": "python",
      "name": "python3"
    },
    "language_info": {
      "codemirror_mode": {
        "name": "ipython",
        "version": 3
      },
      "file_extension": ".py",
      "mimetype": "text/x-python",
      "name": "python",
      "nbconvert_exporter": "python",
      "pygments_lexer": "ipython3",
      "version": "3.9.12"
    },
    "accelerator": "GPU",
    "gpuClass": "standard",
    "widgets": {
      "application/vnd.jupyter.widget-state+json": {
        "fa3dd620fd4d459b90e363488fba6dd6": {
          "model_module": "@jupyter-widgets/controls",
          "model_name": "HBoxModel",
          "model_module_version": "1.5.0",
          "state": {
            "_dom_classes": [],
            "_model_module": "@jupyter-widgets/controls",
            "_model_module_version": "1.5.0",
            "_model_name": "HBoxModel",
            "_view_count": null,
            "_view_module": "@jupyter-widgets/controls",
            "_view_module_version": "1.5.0",
            "_view_name": "HBoxView",
            "box_style": "",
            "children": [
              "IPY_MODEL_d2393e48e93549b78a30cc5ad507cade",
              "IPY_MODEL_2c20f8e9f81247e4b49acc6a9207baaa",
              "IPY_MODEL_54edad76ad2d46aa88fb21e20749c46c"
            ],
            "layout": "IPY_MODEL_54565d88417d48908008b52353a00132"
          }
        },
        "d2393e48e93549b78a30cc5ad507cade": {
          "model_module": "@jupyter-widgets/controls",
          "model_name": "HTMLModel",
          "model_module_version": "1.5.0",
          "state": {
            "_dom_classes": [],
            "_model_module": "@jupyter-widgets/controls",
            "_model_module_version": "1.5.0",
            "_model_name": "HTMLModel",
            "_view_count": null,
            "_view_module": "@jupyter-widgets/controls",
            "_view_module_version": "1.5.0",
            "_view_name": "HTMLView",
            "description": "",
            "description_tooltip": null,
            "layout": "IPY_MODEL_4b729a2c862d4779833b617d0dc33b49",
            "placeholder": "​",
            "style": "IPY_MODEL_1195a3c7f594443da8b079d8fd8b1250",
            "value": "Downloading: 100%"
          }
        },
        "2c20f8e9f81247e4b49acc6a9207baaa": {
          "model_module": "@jupyter-widgets/controls",
          "model_name": "FloatProgressModel",
          "model_module_version": "1.5.0",
          "state": {
            "_dom_classes": [],
            "_model_module": "@jupyter-widgets/controls",
            "_model_module_version": "1.5.0",
            "_model_name": "FloatProgressModel",
            "_view_count": null,
            "_view_module": "@jupyter-widgets/controls",
            "_view_module_version": "1.5.0",
            "_view_name": "ProgressView",
            "bar_style": "success",
            "description": "",
            "description_tooltip": null,
            "layout": "IPY_MODEL_3a41e9fa53f74dca8defbe4eeaacc395",
            "max": 690,
            "min": 0,
            "orientation": "horizontal",
            "style": "IPY_MODEL_154d5fcb5fe14ac2bce9bf07b8429b0a",
            "value": 690
          }
        },
        "54edad76ad2d46aa88fb21e20749c46c": {
          "model_module": "@jupyter-widgets/controls",
          "model_name": "HTMLModel",
          "model_module_version": "1.5.0",
          "state": {
            "_dom_classes": [],
            "_model_module": "@jupyter-widgets/controls",
            "_model_module_version": "1.5.0",
            "_model_name": "HTMLModel",
            "_view_count": null,
            "_view_module": "@jupyter-widgets/controls",
            "_view_module_version": "1.5.0",
            "_view_name": "HTMLView",
            "description": "",
            "description_tooltip": null,
            "layout": "IPY_MODEL_8724c6e9cdf14b3f8e83ae84ef210f53",
            "placeholder": "​",
            "style": "IPY_MODEL_4a7dbcc18d504705b140801c7d4f5e9e",
            "value": " 690/690 [00:00&lt;00:00, 21.7kB/s]"
          }
        },
        "54565d88417d48908008b52353a00132": {
          "model_module": "@jupyter-widgets/base",
          "model_name": "LayoutModel",
          "model_module_version": "1.2.0",
          "state": {
            "_model_module": "@jupyter-widgets/base",
            "_model_module_version": "1.2.0",
            "_model_name": "LayoutModel",
            "_view_count": null,
            "_view_module": "@jupyter-widgets/base",
            "_view_module_version": "1.2.0",
            "_view_name": "LayoutView",
            "align_content": null,
            "align_items": null,
            "align_self": null,
            "border": null,
            "bottom": null,
            "display": null,
            "flex": null,
            "flex_flow": null,
            "grid_area": null,
            "grid_auto_columns": null,
            "grid_auto_flow": null,
            "grid_auto_rows": null,
            "grid_column": null,
            "grid_gap": null,
            "grid_row": null,
            "grid_template_areas": null,
            "grid_template_columns": null,
            "grid_template_rows": null,
            "height": null,
            "justify_content": null,
            "justify_items": null,
            "left": null,
            "margin": null,
            "max_height": null,
            "max_width": null,
            "min_height": null,
            "min_width": null,
            "object_fit": null,
            "object_position": null,
            "order": null,
            "overflow": null,
            "overflow_x": null,
            "overflow_y": null,
            "padding": null,
            "right": null,
            "top": null,
            "visibility": null,
            "width": null
          }
        },
        "4b729a2c862d4779833b617d0dc33b49": {
          "model_module": "@jupyter-widgets/base",
          "model_name": "LayoutModel",
          "model_module_version": "1.2.0",
          "state": {
            "_model_module": "@jupyter-widgets/base",
            "_model_module_version": "1.2.0",
            "_model_name": "LayoutModel",
            "_view_count": null,
            "_view_module": "@jupyter-widgets/base",
            "_view_module_version": "1.2.0",
            "_view_name": "LayoutView",
            "align_content": null,
            "align_items": null,
            "align_self": null,
            "border": null,
            "bottom": null,
            "display": null,
            "flex": null,
            "flex_flow": null,
            "grid_area": null,
            "grid_auto_columns": null,
            "grid_auto_flow": null,
            "grid_auto_rows": null,
            "grid_column": null,
            "grid_gap": null,
            "grid_row": null,
            "grid_template_areas": null,
            "grid_template_columns": null,
            "grid_template_rows": null,
            "height": null,
            "justify_content": null,
            "justify_items": null,
            "left": null,
            "margin": null,
            "max_height": null,
            "max_width": null,
            "min_height": null,
            "min_width": null,
            "object_fit": null,
            "object_position": null,
            "order": null,
            "overflow": null,
            "overflow_x": null,
            "overflow_y": null,
            "padding": null,
            "right": null,
            "top": null,
            "visibility": null,
            "width": null
          }
        },
        "1195a3c7f594443da8b079d8fd8b1250": {
          "model_module": "@jupyter-widgets/controls",
          "model_name": "DescriptionStyleModel",
          "model_module_version": "1.5.0",
          "state": {
            "_model_module": "@jupyter-widgets/controls",
            "_model_module_version": "1.5.0",
            "_model_name": "DescriptionStyleModel",
            "_view_count": null,
            "_view_module": "@jupyter-widgets/base",
            "_view_module_version": "1.2.0",
            "_view_name": "StyleView",
            "description_width": ""
          }
        },
        "3a41e9fa53f74dca8defbe4eeaacc395": {
          "model_module": "@jupyter-widgets/base",
          "model_name": "LayoutModel",
          "model_module_version": "1.2.0",
          "state": {
            "_model_module": "@jupyter-widgets/base",
            "_model_module_version": "1.2.0",
            "_model_name": "LayoutModel",
            "_view_count": null,
            "_view_module": "@jupyter-widgets/base",
            "_view_module_version": "1.2.0",
            "_view_name": "LayoutView",
            "align_content": null,
            "align_items": null,
            "align_self": null,
            "border": null,
            "bottom": null,
            "display": null,
            "flex": null,
            "flex_flow": null,
            "grid_area": null,
            "grid_auto_columns": null,
            "grid_auto_flow": null,
            "grid_auto_rows": null,
            "grid_column": null,
            "grid_gap": null,
            "grid_row": null,
            "grid_template_areas": null,
            "grid_template_columns": null,
            "grid_template_rows": null,
            "height": null,
            "justify_content": null,
            "justify_items": null,
            "left": null,
            "margin": null,
            "max_height": null,
            "max_width": null,
            "min_height": null,
            "min_width": null,
            "object_fit": null,
            "object_position": null,
            "order": null,
            "overflow": null,
            "overflow_x": null,
            "overflow_y": null,
            "padding": null,
            "right": null,
            "top": null,
            "visibility": null,
            "width": null
          }
        },
        "154d5fcb5fe14ac2bce9bf07b8429b0a": {
          "model_module": "@jupyter-widgets/controls",
          "model_name": "ProgressStyleModel",
          "model_module_version": "1.5.0",
          "state": {
            "_model_module": "@jupyter-widgets/controls",
            "_model_module_version": "1.5.0",
            "_model_name": "ProgressStyleModel",
            "_view_count": null,
            "_view_module": "@jupyter-widgets/base",
            "_view_module_version": "1.2.0",
            "_view_name": "StyleView",
            "bar_color": null,
            "description_width": ""
          }
        },
        "8724c6e9cdf14b3f8e83ae84ef210f53": {
          "model_module": "@jupyter-widgets/base",
          "model_name": "LayoutModel",
          "model_module_version": "1.2.0",
          "state": {
            "_model_module": "@jupyter-widgets/base",
            "_model_module_version": "1.2.0",
            "_model_name": "LayoutModel",
            "_view_count": null,
            "_view_module": "@jupyter-widgets/base",
            "_view_module_version": "1.2.0",
            "_view_name": "LayoutView",
            "align_content": null,
            "align_items": null,
            "align_self": null,
            "border": null,
            "bottom": null,
            "display": null,
            "flex": null,
            "flex_flow": null,
            "grid_area": null,
            "grid_auto_columns": null,
            "grid_auto_flow": null,
            "grid_auto_rows": null,
            "grid_column": null,
            "grid_gap": null,
            "grid_row": null,
            "grid_template_areas": null,
            "grid_template_columns": null,
            "grid_template_rows": null,
            "height": null,
            "justify_content": null,
            "justify_items": null,
            "left": null,
            "margin": null,
            "max_height": null,
            "max_width": null,
            "min_height": null,
            "min_width": null,
            "object_fit": null,
            "object_position": null,
            "order": null,
            "overflow": null,
            "overflow_x": null,
            "overflow_y": null,
            "padding": null,
            "right": null,
            "top": null,
            "visibility": null,
            "width": null
          }
        },
        "4a7dbcc18d504705b140801c7d4f5e9e": {
          "model_module": "@jupyter-widgets/controls",
          "model_name": "DescriptionStyleModel",
          "model_module_version": "1.5.0",
          "state": {
            "_model_module": "@jupyter-widgets/controls",
            "_model_module_version": "1.5.0",
            "_model_name": "DescriptionStyleModel",
            "_view_count": null,
            "_view_module": "@jupyter-widgets/base",
            "_view_module_version": "1.2.0",
            "_view_name": "StyleView",
            "description_width": ""
          }
        },
        "f130b78c411c439e8737a6eea96fcd3b": {
          "model_module": "@jupyter-widgets/controls",
          "model_name": "HBoxModel",
          "model_module_version": "1.5.0",
          "state": {
            "_dom_classes": [],
            "_model_module": "@jupyter-widgets/controls",
            "_model_module_version": "1.5.0",
            "_model_name": "HBoxModel",
            "_view_count": null,
            "_view_module": "@jupyter-widgets/controls",
            "_view_module_version": "1.5.0",
            "_view_name": "HBoxView",
            "box_style": "",
            "children": [
              "IPY_MODEL_8882f319ba3247a2bbb8d288634f6072",
              "IPY_MODEL_dcc86014e80e48799df9faff09049b3e",
              "IPY_MODEL_945f2630865946fc8fb1c0ece84cb448"
            ],
            "layout": "IPY_MODEL_a72c4dd62b494c4aa452b1a58fae4f17"
          }
        },
        "8882f319ba3247a2bbb8d288634f6072": {
          "model_module": "@jupyter-widgets/controls",
          "model_name": "HTMLModel",
          "model_module_version": "1.5.0",
          "state": {
            "_dom_classes": [],
            "_model_module": "@jupyter-widgets/controls",
            "_model_module_version": "1.5.0",
            "_model_name": "HTMLModel",
            "_view_count": null,
            "_view_module": "@jupyter-widgets/controls",
            "_view_module_version": "1.5.0",
            "_view_name": "HTMLView",
            "description": "",
            "description_tooltip": null,
            "layout": "IPY_MODEL_8ccc7c72f7b9451998346a4ae3e7fdf5",
            "placeholder": "​",
            "style": "IPY_MODEL_799114f327ac49219a52ddf6b605f698",
            "value": "Downloading: 100%"
          }
        },
        "dcc86014e80e48799df9faff09049b3e": {
          "model_module": "@jupyter-widgets/controls",
          "model_name": "FloatProgressModel",
          "model_module_version": "1.5.0",
          "state": {
            "_dom_classes": [],
            "_model_module": "@jupyter-widgets/controls",
            "_model_module_version": "1.5.0",
            "_model_name": "FloatProgressModel",
            "_view_count": null,
            "_view_module": "@jupyter-widgets/controls",
            "_view_module_version": "1.5.0",
            "_view_name": "ProgressView",
            "bar_style": "success",
            "description": "",
            "description_tooltip": null,
            "layout": "IPY_MODEL_ccb45b576765414c83e8a1f18144d595",
            "max": 190,
            "min": 0,
            "orientation": "horizontal",
            "style": "IPY_MODEL_60646ef66fe449feb5a2d313cf3fbe59",
            "value": 190
          }
        },
        "945f2630865946fc8fb1c0ece84cb448": {
          "model_module": "@jupyter-widgets/controls",
          "model_name": "HTMLModel",
          "model_module_version": "1.5.0",
          "state": {
            "_dom_classes": [],
            "_model_module": "@jupyter-widgets/controls",
            "_model_module_version": "1.5.0",
            "_model_name": "HTMLModel",
            "_view_count": null,
            "_view_module": "@jupyter-widgets/controls",
            "_view_module_version": "1.5.0",
            "_view_name": "HTMLView",
            "description": "",
            "description_tooltip": null,
            "layout": "IPY_MODEL_11d2c00c4d4c46fd86a37fca27aa92ae",
            "placeholder": "​",
            "style": "IPY_MODEL_2b5235ae9ede46eba8c933ae1dca33b7",
            "value": " 190/190 [00:00&lt;00:00, 5.88kB/s]"
          }
        },
        "a72c4dd62b494c4aa452b1a58fae4f17": {
          "model_module": "@jupyter-widgets/base",
          "model_name": "LayoutModel",
          "model_module_version": "1.2.0",
          "state": {
            "_model_module": "@jupyter-widgets/base",
            "_model_module_version": "1.2.0",
            "_model_name": "LayoutModel",
            "_view_count": null,
            "_view_module": "@jupyter-widgets/base",
            "_view_module_version": "1.2.0",
            "_view_name": "LayoutView",
            "align_content": null,
            "align_items": null,
            "align_self": null,
            "border": null,
            "bottom": null,
            "display": null,
            "flex": null,
            "flex_flow": null,
            "grid_area": null,
            "grid_auto_columns": null,
            "grid_auto_flow": null,
            "grid_auto_rows": null,
            "grid_column": null,
            "grid_gap": null,
            "grid_row": null,
            "grid_template_areas": null,
            "grid_template_columns": null,
            "grid_template_rows": null,
            "height": null,
            "justify_content": null,
            "justify_items": null,
            "left": null,
            "margin": null,
            "max_height": null,
            "max_width": null,
            "min_height": null,
            "min_width": null,
            "object_fit": null,
            "object_position": null,
            "order": null,
            "overflow": null,
            "overflow_x": null,
            "overflow_y": null,
            "padding": null,
            "right": null,
            "top": null,
            "visibility": null,
            "width": null
          }
        },
        "8ccc7c72f7b9451998346a4ae3e7fdf5": {
          "model_module": "@jupyter-widgets/base",
          "model_name": "LayoutModel",
          "model_module_version": "1.2.0",
          "state": {
            "_model_module": "@jupyter-widgets/base",
            "_model_module_version": "1.2.0",
            "_model_name": "LayoutModel",
            "_view_count": null,
            "_view_module": "@jupyter-widgets/base",
            "_view_module_version": "1.2.0",
            "_view_name": "LayoutView",
            "align_content": null,
            "align_items": null,
            "align_self": null,
            "border": null,
            "bottom": null,
            "display": null,
            "flex": null,
            "flex_flow": null,
            "grid_area": null,
            "grid_auto_columns": null,
            "grid_auto_flow": null,
            "grid_auto_rows": null,
            "grid_column": null,
            "grid_gap": null,
            "grid_row": null,
            "grid_template_areas": null,
            "grid_template_columns": null,
            "grid_template_rows": null,
            "height": null,
            "justify_content": null,
            "justify_items": null,
            "left": null,
            "margin": null,
            "max_height": null,
            "max_width": null,
            "min_height": null,
            "min_width": null,
            "object_fit": null,
            "object_position": null,
            "order": null,
            "overflow": null,
            "overflow_x": null,
            "overflow_y": null,
            "padding": null,
            "right": null,
            "top": null,
            "visibility": null,
            "width": null
          }
        },
        "799114f327ac49219a52ddf6b605f698": {
          "model_module": "@jupyter-widgets/controls",
          "model_name": "DescriptionStyleModel",
          "model_module_version": "1.5.0",
          "state": {
            "_model_module": "@jupyter-widgets/controls",
            "_model_module_version": "1.5.0",
            "_model_name": "DescriptionStyleModel",
            "_view_count": null,
            "_view_module": "@jupyter-widgets/base",
            "_view_module_version": "1.2.0",
            "_view_name": "StyleView",
            "description_width": ""
          }
        },
        "ccb45b576765414c83e8a1f18144d595": {
          "model_module": "@jupyter-widgets/base",
          "model_name": "LayoutModel",
          "model_module_version": "1.2.0",
          "state": {
            "_model_module": "@jupyter-widgets/base",
            "_model_module_version": "1.2.0",
            "_model_name": "LayoutModel",
            "_view_count": null,
            "_view_module": "@jupyter-widgets/base",
            "_view_module_version": "1.2.0",
            "_view_name": "LayoutView",
            "align_content": null,
            "align_items": null,
            "align_self": null,
            "border": null,
            "bottom": null,
            "display": null,
            "flex": null,
            "flex_flow": null,
            "grid_area": null,
            "grid_auto_columns": null,
            "grid_auto_flow": null,
            "grid_auto_rows": null,
            "grid_column": null,
            "grid_gap": null,
            "grid_row": null,
            "grid_template_areas": null,
            "grid_template_columns": null,
            "grid_template_rows": null,
            "height": null,
            "justify_content": null,
            "justify_items": null,
            "left": null,
            "margin": null,
            "max_height": null,
            "max_width": null,
            "min_height": null,
            "min_width": null,
            "object_fit": null,
            "object_position": null,
            "order": null,
            "overflow": null,
            "overflow_x": null,
            "overflow_y": null,
            "padding": null,
            "right": null,
            "top": null,
            "visibility": null,
            "width": null
          }
        },
        "60646ef66fe449feb5a2d313cf3fbe59": {
          "model_module": "@jupyter-widgets/controls",
          "model_name": "ProgressStyleModel",
          "model_module_version": "1.5.0",
          "state": {
            "_model_module": "@jupyter-widgets/controls",
            "_model_module_version": "1.5.0",
            "_model_name": "ProgressStyleModel",
            "_view_count": null,
            "_view_module": "@jupyter-widgets/base",
            "_view_module_version": "1.2.0",
            "_view_name": "StyleView",
            "bar_color": null,
            "description_width": ""
          }
        },
        "11d2c00c4d4c46fd86a37fca27aa92ae": {
          "model_module": "@jupyter-widgets/base",
          "model_name": "LayoutModel",
          "model_module_version": "1.2.0",
          "state": {
            "_model_module": "@jupyter-widgets/base",
            "_model_module_version": "1.2.0",
            "_model_name": "LayoutModel",
            "_view_count": null,
            "_view_module": "@jupyter-widgets/base",
            "_view_module_version": "1.2.0",
            "_view_name": "LayoutView",
            "align_content": null,
            "align_items": null,
            "align_self": null,
            "border": null,
            "bottom": null,
            "display": null,
            "flex": null,
            "flex_flow": null,
            "grid_area": null,
            "grid_auto_columns": null,
            "grid_auto_flow": null,
            "grid_auto_rows": null,
            "grid_column": null,
            "grid_gap": null,
            "grid_row": null,
            "grid_template_areas": null,
            "grid_template_columns": null,
            "grid_template_rows": null,
            "height": null,
            "justify_content": null,
            "justify_items": null,
            "left": null,
            "margin": null,
            "max_height": null,
            "max_width": null,
            "min_height": null,
            "min_width": null,
            "object_fit": null,
            "object_position": null,
            "order": null,
            "overflow": null,
            "overflow_x": null,
            "overflow_y": null,
            "padding": null,
            "right": null,
            "top": null,
            "visibility": null,
            "width": null
          }
        },
        "2b5235ae9ede46eba8c933ae1dca33b7": {
          "model_module": "@jupyter-widgets/controls",
          "model_name": "DescriptionStyleModel",
          "model_module_version": "1.5.0",
          "state": {
            "_model_module": "@jupyter-widgets/controls",
            "_model_module_version": "1.5.0",
            "_model_name": "DescriptionStyleModel",
            "_view_count": null,
            "_view_module": "@jupyter-widgets/base",
            "_view_module_version": "1.2.0",
            "_view_name": "StyleView",
            "description_width": ""
          }
        },
        "e4bcd815753d4d84909da1acf77c922d": {
          "model_module": "@jupyter-widgets/controls",
          "model_name": "HBoxModel",
          "model_module_version": "1.5.0",
          "state": {
            "_dom_classes": [],
            "_model_module": "@jupyter-widgets/controls",
            "_model_module_version": "1.5.0",
            "_model_name": "HBoxModel",
            "_view_count": null,
            "_view_module": "@jupyter-widgets/controls",
            "_view_module_version": "1.5.0",
            "_view_name": "HBoxView",
            "box_style": "",
            "children": [
              "IPY_MODEL_f39af8a0fcd34e958cad2f577d025d5c",
              "IPY_MODEL_10e1751d10c34fa1914fec43d859bb20",
              "IPY_MODEL_8b2349d78ed94724b67f40fb43bd16b3"
            ],
            "layout": "IPY_MODEL_d4caf96ba6a848c8a1bb3bea0799c367"
          }
        },
        "f39af8a0fcd34e958cad2f577d025d5c": {
          "model_module": "@jupyter-widgets/controls",
          "model_name": "HTMLModel",
          "model_module_version": "1.5.0",
          "state": {
            "_dom_classes": [],
            "_model_module": "@jupyter-widgets/controls",
            "_model_module_version": "1.5.0",
            "_model_name": "HTMLModel",
            "_view_count": null,
            "_view_module": "@jupyter-widgets/controls",
            "_view_module_version": "1.5.0",
            "_view_name": "HTMLView",
            "description": "",
            "description_tooltip": null,
            "layout": "IPY_MODEL_ebf73462869c451eb73e95b723ca398c",
            "placeholder": "​",
            "style": "IPY_MODEL_86ba6cdca6fb44308f991f0925328026",
            "value": "Downloading: 100%"
          }
        },
        "10e1751d10c34fa1914fec43d859bb20": {
          "model_module": "@jupyter-widgets/controls",
          "model_name": "FloatProgressModel",
          "model_module_version": "1.5.0",
          "state": {
            "_dom_classes": [],
            "_model_module": "@jupyter-widgets/controls",
            "_model_module_version": "1.5.0",
            "_model_name": "FloatProgressModel",
            "_view_count": null,
            "_view_module": "@jupyter-widgets/controls",
            "_view_module_version": "1.5.0",
            "_view_name": "ProgressView",
            "bar_style": "success",
            "description": "",
            "description_tooltip": null,
            "layout": "IPY_MODEL_6e80a307ccbd487a9f6891f92036401b",
            "max": 3663,
            "min": 0,
            "orientation": "horizontal",
            "style": "IPY_MODEL_92e676197006488793294196bc5c163d",
            "value": 3663
          }
        },
        "8b2349d78ed94724b67f40fb43bd16b3": {
          "model_module": "@jupyter-widgets/controls",
          "model_name": "HTMLModel",
          "model_module_version": "1.5.0",
          "state": {
            "_dom_classes": [],
            "_model_module": "@jupyter-widgets/controls",
            "_model_module_version": "1.5.0",
            "_model_name": "HTMLModel",
            "_view_count": null,
            "_view_module": "@jupyter-widgets/controls",
            "_view_module_version": "1.5.0",
            "_view_name": "HTMLView",
            "description": "",
            "description_tooltip": null,
            "layout": "IPY_MODEL_80d78e2c89834c79a83665785a2be919",
            "placeholder": "​",
            "style": "IPY_MODEL_d0ffb4a995714218b314f168a3a16bb9",
            "value": " 3.66k/3.66k [00:00&lt;00:00, 103kB/s]"
          }
        },
        "d4caf96ba6a848c8a1bb3bea0799c367": {
          "model_module": "@jupyter-widgets/base",
          "model_name": "LayoutModel",
          "model_module_version": "1.2.0",
          "state": {
            "_model_module": "@jupyter-widgets/base",
            "_model_module_version": "1.2.0",
            "_model_name": "LayoutModel",
            "_view_count": null,
            "_view_module": "@jupyter-widgets/base",
            "_view_module_version": "1.2.0",
            "_view_name": "LayoutView",
            "align_content": null,
            "align_items": null,
            "align_self": null,
            "border": null,
            "bottom": null,
            "display": null,
            "flex": null,
            "flex_flow": null,
            "grid_area": null,
            "grid_auto_columns": null,
            "grid_auto_flow": null,
            "grid_auto_rows": null,
            "grid_column": null,
            "grid_gap": null,
            "grid_row": null,
            "grid_template_areas": null,
            "grid_template_columns": null,
            "grid_template_rows": null,
            "height": null,
            "justify_content": null,
            "justify_items": null,
            "left": null,
            "margin": null,
            "max_height": null,
            "max_width": null,
            "min_height": null,
            "min_width": null,
            "object_fit": null,
            "object_position": null,
            "order": null,
            "overflow": null,
            "overflow_x": null,
            "overflow_y": null,
            "padding": null,
            "right": null,
            "top": null,
            "visibility": null,
            "width": null
          }
        },
        "ebf73462869c451eb73e95b723ca398c": {
          "model_module": "@jupyter-widgets/base",
          "model_name": "LayoutModel",
          "model_module_version": "1.2.0",
          "state": {
            "_model_module": "@jupyter-widgets/base",
            "_model_module_version": "1.2.0",
            "_model_name": "LayoutModel",
            "_view_count": null,
            "_view_module": "@jupyter-widgets/base",
            "_view_module_version": "1.2.0",
            "_view_name": "LayoutView",
            "align_content": null,
            "align_items": null,
            "align_self": null,
            "border": null,
            "bottom": null,
            "display": null,
            "flex": null,
            "flex_flow": null,
            "grid_area": null,
            "grid_auto_columns": null,
            "grid_auto_flow": null,
            "grid_auto_rows": null,
            "grid_column": null,
            "grid_gap": null,
            "grid_row": null,
            "grid_template_areas": null,
            "grid_template_columns": null,
            "grid_template_rows": null,
            "height": null,
            "justify_content": null,
            "justify_items": null,
            "left": null,
            "margin": null,
            "max_height": null,
            "max_width": null,
            "min_height": null,
            "min_width": null,
            "object_fit": null,
            "object_position": null,
            "order": null,
            "overflow": null,
            "overflow_x": null,
            "overflow_y": null,
            "padding": null,
            "right": null,
            "top": null,
            "visibility": null,
            "width": null
          }
        },
        "86ba6cdca6fb44308f991f0925328026": {
          "model_module": "@jupyter-widgets/controls",
          "model_name": "DescriptionStyleModel",
          "model_module_version": "1.5.0",
          "state": {
            "_model_module": "@jupyter-widgets/controls",
            "_model_module_version": "1.5.0",
            "_model_name": "DescriptionStyleModel",
            "_view_count": null,
            "_view_module": "@jupyter-widgets/base",
            "_view_module_version": "1.2.0",
            "_view_name": "StyleView",
            "description_width": ""
          }
        },
        "6e80a307ccbd487a9f6891f92036401b": {
          "model_module": "@jupyter-widgets/base",
          "model_name": "LayoutModel",
          "model_module_version": "1.2.0",
          "state": {
            "_model_module": "@jupyter-widgets/base",
            "_model_module_version": "1.2.0",
            "_model_name": "LayoutModel",
            "_view_count": null,
            "_view_module": "@jupyter-widgets/base",
            "_view_module_version": "1.2.0",
            "_view_name": "LayoutView",
            "align_content": null,
            "align_items": null,
            "align_self": null,
            "border": null,
            "bottom": null,
            "display": null,
            "flex": null,
            "flex_flow": null,
            "grid_area": null,
            "grid_auto_columns": null,
            "grid_auto_flow": null,
            "grid_auto_rows": null,
            "grid_column": null,
            "grid_gap": null,
            "grid_row": null,
            "grid_template_areas": null,
            "grid_template_columns": null,
            "grid_template_rows": null,
            "height": null,
            "justify_content": null,
            "justify_items": null,
            "left": null,
            "margin": null,
            "max_height": null,
            "max_width": null,
            "min_height": null,
            "min_width": null,
            "object_fit": null,
            "object_position": null,
            "order": null,
            "overflow": null,
            "overflow_x": null,
            "overflow_y": null,
            "padding": null,
            "right": null,
            "top": null,
            "visibility": null,
            "width": null
          }
        },
        "92e676197006488793294196bc5c163d": {
          "model_module": "@jupyter-widgets/controls",
          "model_name": "ProgressStyleModel",
          "model_module_version": "1.5.0",
          "state": {
            "_model_module": "@jupyter-widgets/controls",
            "_model_module_version": "1.5.0",
            "_model_name": "ProgressStyleModel",
            "_view_count": null,
            "_view_module": "@jupyter-widgets/base",
            "_view_module_version": "1.2.0",
            "_view_name": "StyleView",
            "bar_color": null,
            "description_width": ""
          }
        },
        "80d78e2c89834c79a83665785a2be919": {
          "model_module": "@jupyter-widgets/base",
          "model_name": "LayoutModel",
          "model_module_version": "1.2.0",
          "state": {
            "_model_module": "@jupyter-widgets/base",
            "_model_module_version": "1.2.0",
            "_model_name": "LayoutModel",
            "_view_count": null,
            "_view_module": "@jupyter-widgets/base",
            "_view_module_version": "1.2.0",
            "_view_name": "LayoutView",
            "align_content": null,
            "align_items": null,
            "align_self": null,
            "border": null,
            "bottom": null,
            "display": null,
            "flex": null,
            "flex_flow": null,
            "grid_area": null,
            "grid_auto_columns": null,
            "grid_auto_flow": null,
            "grid_auto_rows": null,
            "grid_column": null,
            "grid_gap": null,
            "grid_row": null,
            "grid_template_areas": null,
            "grid_template_columns": null,
            "grid_template_rows": null,
            "height": null,
            "justify_content": null,
            "justify_items": null,
            "left": null,
            "margin": null,
            "max_height": null,
            "max_width": null,
            "min_height": null,
            "min_width": null,
            "object_fit": null,
            "object_position": null,
            "order": null,
            "overflow": null,
            "overflow_x": null,
            "overflow_y": null,
            "padding": null,
            "right": null,
            "top": null,
            "visibility": null,
            "width": null
          }
        },
        "d0ffb4a995714218b314f168a3a16bb9": {
          "model_module": "@jupyter-widgets/controls",
          "model_name": "DescriptionStyleModel",
          "model_module_version": "1.5.0",
          "state": {
            "_model_module": "@jupyter-widgets/controls",
            "_model_module_version": "1.5.0",
            "_model_name": "DescriptionStyleModel",
            "_view_count": null,
            "_view_module": "@jupyter-widgets/base",
            "_view_module_version": "1.2.0",
            "_view_name": "StyleView",
            "description_width": ""
          }
        },
        "8ddbfc57072545f8a9aae735c41ec477": {
          "model_module": "@jupyter-widgets/controls",
          "model_name": "HBoxModel",
          "model_module_version": "1.5.0",
          "state": {
            "_dom_classes": [],
            "_model_module": "@jupyter-widgets/controls",
            "_model_module_version": "1.5.0",
            "_model_name": "HBoxModel",
            "_view_count": null,
            "_view_module": "@jupyter-widgets/controls",
            "_view_module_version": "1.5.0",
            "_view_name": "HBoxView",
            "box_style": "",
            "children": [
              "IPY_MODEL_ea90f912fae3438ab04f443732db2ac7",
              "IPY_MODEL_881a210e4d394b9f93111b43d027ac25",
              "IPY_MODEL_9b886fb8e35d40f0a439d7b008f469fe"
            ],
            "layout": "IPY_MODEL_3a649a94fe0a4bc6a74869d178073edd"
          }
        },
        "ea90f912fae3438ab04f443732db2ac7": {
          "model_module": "@jupyter-widgets/controls",
          "model_name": "HTMLModel",
          "model_module_version": "1.5.0",
          "state": {
            "_dom_classes": [],
            "_model_module": "@jupyter-widgets/controls",
            "_model_module_version": "1.5.0",
            "_model_name": "HTMLModel",
            "_view_count": null,
            "_view_module": "@jupyter-widgets/controls",
            "_view_module_version": "1.5.0",
            "_view_name": "HTMLView",
            "description": "",
            "description_tooltip": null,
            "layout": "IPY_MODEL_f472db86c2c642e294e55ccb65c3ce69",
            "placeholder": "​",
            "style": "IPY_MODEL_bd678752aa3f4798a9cd36c9804a05c1",
            "value": "Downloading: 100%"
          }
        },
        "881a210e4d394b9f93111b43d027ac25": {
          "model_module": "@jupyter-widgets/controls",
          "model_name": "FloatProgressModel",
          "model_module_version": "1.5.0",
          "state": {
            "_dom_classes": [],
            "_model_module": "@jupyter-widgets/controls",
            "_model_module_version": "1.5.0",
            "_model_name": "FloatProgressModel",
            "_view_count": null,
            "_view_module": "@jupyter-widgets/controls",
            "_view_module_version": "1.5.0",
            "_view_name": "ProgressView",
            "bar_style": "success",
            "description": "",
            "description_tooltip": null,
            "layout": "IPY_MODEL_1f555f0629e145d7917d3aa909050ee3",
            "max": 587,
            "min": 0,
            "orientation": "horizontal",
            "style": "IPY_MODEL_6dd94efc391940b7baf8dbc8937f05d4",
            "value": 587
          }
        },
        "9b886fb8e35d40f0a439d7b008f469fe": {
          "model_module": "@jupyter-widgets/controls",
          "model_name": "HTMLModel",
          "model_module_version": "1.5.0",
          "state": {
            "_dom_classes": [],
            "_model_module": "@jupyter-widgets/controls",
            "_model_module_version": "1.5.0",
            "_model_name": "HTMLModel",
            "_view_count": null,
            "_view_module": "@jupyter-widgets/controls",
            "_view_module_version": "1.5.0",
            "_view_name": "HTMLView",
            "description": "",
            "description_tooltip": null,
            "layout": "IPY_MODEL_383d1b08c08b4441a30011cbe98169e6",
            "placeholder": "​",
            "style": "IPY_MODEL_90a0d3251b5645e48dc419fc691473b3",
            "value": " 587/587 [00:00&lt;00:00, 17.2kB/s]"
          }
        },
        "3a649a94fe0a4bc6a74869d178073edd": {
          "model_module": "@jupyter-widgets/base",
          "model_name": "LayoutModel",
          "model_module_version": "1.2.0",
          "state": {
            "_model_module": "@jupyter-widgets/base",
            "_model_module_version": "1.2.0",
            "_model_name": "LayoutModel",
            "_view_count": null,
            "_view_module": "@jupyter-widgets/base",
            "_view_module_version": "1.2.0",
            "_view_name": "LayoutView",
            "align_content": null,
            "align_items": null,
            "align_self": null,
            "border": null,
            "bottom": null,
            "display": null,
            "flex": null,
            "flex_flow": null,
            "grid_area": null,
            "grid_auto_columns": null,
            "grid_auto_flow": null,
            "grid_auto_rows": null,
            "grid_column": null,
            "grid_gap": null,
            "grid_row": null,
            "grid_template_areas": null,
            "grid_template_columns": null,
            "grid_template_rows": null,
            "height": null,
            "justify_content": null,
            "justify_items": null,
            "left": null,
            "margin": null,
            "max_height": null,
            "max_width": null,
            "min_height": null,
            "min_width": null,
            "object_fit": null,
            "object_position": null,
            "order": null,
            "overflow": null,
            "overflow_x": null,
            "overflow_y": null,
            "padding": null,
            "right": null,
            "top": null,
            "visibility": null,
            "width": null
          }
        },
        "f472db86c2c642e294e55ccb65c3ce69": {
          "model_module": "@jupyter-widgets/base",
          "model_name": "LayoutModel",
          "model_module_version": "1.2.0",
          "state": {
            "_model_module": "@jupyter-widgets/base",
            "_model_module_version": "1.2.0",
            "_model_name": "LayoutModel",
            "_view_count": null,
            "_view_module": "@jupyter-widgets/base",
            "_view_module_version": "1.2.0",
            "_view_name": "LayoutView",
            "align_content": null,
            "align_items": null,
            "align_self": null,
            "border": null,
            "bottom": null,
            "display": null,
            "flex": null,
            "flex_flow": null,
            "grid_area": null,
            "grid_auto_columns": null,
            "grid_auto_flow": null,
            "grid_auto_rows": null,
            "grid_column": null,
            "grid_gap": null,
            "grid_row": null,
            "grid_template_areas": null,
            "grid_template_columns": null,
            "grid_template_rows": null,
            "height": null,
            "justify_content": null,
            "justify_items": null,
            "left": null,
            "margin": null,
            "max_height": null,
            "max_width": null,
            "min_height": null,
            "min_width": null,
            "object_fit": null,
            "object_position": null,
            "order": null,
            "overflow": null,
            "overflow_x": null,
            "overflow_y": null,
            "padding": null,
            "right": null,
            "top": null,
            "visibility": null,
            "width": null
          }
        },
        "bd678752aa3f4798a9cd36c9804a05c1": {
          "model_module": "@jupyter-widgets/controls",
          "model_name": "DescriptionStyleModel",
          "model_module_version": "1.5.0",
          "state": {
            "_model_module": "@jupyter-widgets/controls",
            "_model_module_version": "1.5.0",
            "_model_name": "DescriptionStyleModel",
            "_view_count": null,
            "_view_module": "@jupyter-widgets/base",
            "_view_module_version": "1.2.0",
            "_view_name": "StyleView",
            "description_width": ""
          }
        },
        "1f555f0629e145d7917d3aa909050ee3": {
          "model_module": "@jupyter-widgets/base",
          "model_name": "LayoutModel",
          "model_module_version": "1.2.0",
          "state": {
            "_model_module": "@jupyter-widgets/base",
            "_model_module_version": "1.2.0",
            "_model_name": "LayoutModel",
            "_view_count": null,
            "_view_module": "@jupyter-widgets/base",
            "_view_module_version": "1.2.0",
            "_view_name": "LayoutView",
            "align_content": null,
            "align_items": null,
            "align_self": null,
            "border": null,
            "bottom": null,
            "display": null,
            "flex": null,
            "flex_flow": null,
            "grid_area": null,
            "grid_auto_columns": null,
            "grid_auto_flow": null,
            "grid_auto_rows": null,
            "grid_column": null,
            "grid_gap": null,
            "grid_row": null,
            "grid_template_areas": null,
            "grid_template_columns": null,
            "grid_template_rows": null,
            "height": null,
            "justify_content": null,
            "justify_items": null,
            "left": null,
            "margin": null,
            "max_height": null,
            "max_width": null,
            "min_height": null,
            "min_width": null,
            "object_fit": null,
            "object_position": null,
            "order": null,
            "overflow": null,
            "overflow_x": null,
            "overflow_y": null,
            "padding": null,
            "right": null,
            "top": null,
            "visibility": null,
            "width": null
          }
        },
        "6dd94efc391940b7baf8dbc8937f05d4": {
          "model_module": "@jupyter-widgets/controls",
          "model_name": "ProgressStyleModel",
          "model_module_version": "1.5.0",
          "state": {
            "_model_module": "@jupyter-widgets/controls",
            "_model_module_version": "1.5.0",
            "_model_name": "ProgressStyleModel",
            "_view_count": null,
            "_view_module": "@jupyter-widgets/base",
            "_view_module_version": "1.2.0",
            "_view_name": "StyleView",
            "bar_color": null,
            "description_width": ""
          }
        },
        "383d1b08c08b4441a30011cbe98169e6": {
          "model_module": "@jupyter-widgets/base",
          "model_name": "LayoutModel",
          "model_module_version": "1.2.0",
          "state": {
            "_model_module": "@jupyter-widgets/base",
            "_model_module_version": "1.2.0",
            "_model_name": "LayoutModel",
            "_view_count": null,
            "_view_module": "@jupyter-widgets/base",
            "_view_module_version": "1.2.0",
            "_view_name": "LayoutView",
            "align_content": null,
            "align_items": null,
            "align_self": null,
            "border": null,
            "bottom": null,
            "display": null,
            "flex": null,
            "flex_flow": null,
            "grid_area": null,
            "grid_auto_columns": null,
            "grid_auto_flow": null,
            "grid_auto_rows": null,
            "grid_column": null,
            "grid_gap": null,
            "grid_row": null,
            "grid_template_areas": null,
            "grid_template_columns": null,
            "grid_template_rows": null,
            "height": null,
            "justify_content": null,
            "justify_items": null,
            "left": null,
            "margin": null,
            "max_height": null,
            "max_width": null,
            "min_height": null,
            "min_width": null,
            "object_fit": null,
            "object_position": null,
            "order": null,
            "overflow": null,
            "overflow_x": null,
            "overflow_y": null,
            "padding": null,
            "right": null,
            "top": null,
            "visibility": null,
            "width": null
          }
        },
        "90a0d3251b5645e48dc419fc691473b3": {
          "model_module": "@jupyter-widgets/controls",
          "model_name": "DescriptionStyleModel",
          "model_module_version": "1.5.0",
          "state": {
            "_model_module": "@jupyter-widgets/controls",
            "_model_module_version": "1.5.0",
            "_model_name": "DescriptionStyleModel",
            "_view_count": null,
            "_view_module": "@jupyter-widgets/base",
            "_view_module_version": "1.2.0",
            "_view_name": "StyleView",
            "description_width": ""
          }
        },
        "3e7f470eec06486395bcd55d3726a8c9": {
          "model_module": "@jupyter-widgets/controls",
          "model_name": "HBoxModel",
          "model_module_version": "1.5.0",
          "state": {
            "_dom_classes": [],
            "_model_module": "@jupyter-widgets/controls",
            "_model_module_version": "1.5.0",
            "_model_name": "HBoxModel",
            "_view_count": null,
            "_view_module": "@jupyter-widgets/controls",
            "_view_module_version": "1.5.0",
            "_view_name": "HBoxView",
            "box_style": "",
            "children": [
              "IPY_MODEL_5deda3331ccb4033ac4914894c20ceb9",
              "IPY_MODEL_80c5ec18889f4a26b7937b768562d2bb",
              "IPY_MODEL_5368f91bc68d44e6b603511e92d8ee0d"
            ],
            "layout": "IPY_MODEL_92c7a1da26ff461bacba1156b7f76a4a"
          }
        },
        "5deda3331ccb4033ac4914894c20ceb9": {
          "model_module": "@jupyter-widgets/controls",
          "model_name": "HTMLModel",
          "model_module_version": "1.5.0",
          "state": {
            "_dom_classes": [],
            "_model_module": "@jupyter-widgets/controls",
            "_model_module_version": "1.5.0",
            "_model_name": "HTMLModel",
            "_view_count": null,
            "_view_module": "@jupyter-widgets/controls",
            "_view_module_version": "1.5.0",
            "_view_name": "HTMLView",
            "description": "",
            "description_tooltip": null,
            "layout": "IPY_MODEL_684b26d76f14487380f91551b89141a7",
            "placeholder": "​",
            "style": "IPY_MODEL_c01b957f2f6245158c6c6f5eaec200b9",
            "value": "Downloading: 100%"
          }
        },
        "80c5ec18889f4a26b7937b768562d2bb": {
          "model_module": "@jupyter-widgets/controls",
          "model_name": "FloatProgressModel",
          "model_module_version": "1.5.0",
          "state": {
            "_dom_classes": [],
            "_model_module": "@jupyter-widgets/controls",
            "_model_module_version": "1.5.0",
            "_model_name": "FloatProgressModel",
            "_view_count": null,
            "_view_module": "@jupyter-widgets/controls",
            "_view_module_version": "1.5.0",
            "_view_name": "ProgressView",
            "bar_style": "success",
            "description": "",
            "description_tooltip": null,
            "layout": "IPY_MODEL_32fac7f85fc64adb8e847357e3fef144",
            "max": 122,
            "min": 0,
            "orientation": "horizontal",
            "style": "IPY_MODEL_4871527ffcb4487181c923dc5fc189af",
            "value": 122
          }
        },
        "5368f91bc68d44e6b603511e92d8ee0d": {
          "model_module": "@jupyter-widgets/controls",
          "model_name": "HTMLModel",
          "model_module_version": "1.5.0",
          "state": {
            "_dom_classes": [],
            "_model_module": "@jupyter-widgets/controls",
            "_model_module_version": "1.5.0",
            "_model_name": "HTMLModel",
            "_view_count": null,
            "_view_module": "@jupyter-widgets/controls",
            "_view_module_version": "1.5.0",
            "_view_name": "HTMLView",
            "description": "",
            "description_tooltip": null,
            "layout": "IPY_MODEL_eae39fd0ca2c43d48ad70ac8c5c873a4",
            "placeholder": "​",
            "style": "IPY_MODEL_c518bd9713ba4ffaaf6a47aa5a8af1d8",
            "value": " 122/122 [00:00&lt;00:00, 984B/s]"
          }
        },
        "92c7a1da26ff461bacba1156b7f76a4a": {
          "model_module": "@jupyter-widgets/base",
          "model_name": "LayoutModel",
          "model_module_version": "1.2.0",
          "state": {
            "_model_module": "@jupyter-widgets/base",
            "_model_module_version": "1.2.0",
            "_model_name": "LayoutModel",
            "_view_count": null,
            "_view_module": "@jupyter-widgets/base",
            "_view_module_version": "1.2.0",
            "_view_name": "LayoutView",
            "align_content": null,
            "align_items": null,
            "align_self": null,
            "border": null,
            "bottom": null,
            "display": null,
            "flex": null,
            "flex_flow": null,
            "grid_area": null,
            "grid_auto_columns": null,
            "grid_auto_flow": null,
            "grid_auto_rows": null,
            "grid_column": null,
            "grid_gap": null,
            "grid_row": null,
            "grid_template_areas": null,
            "grid_template_columns": null,
            "grid_template_rows": null,
            "height": null,
            "justify_content": null,
            "justify_items": null,
            "left": null,
            "margin": null,
            "max_height": null,
            "max_width": null,
            "min_height": null,
            "min_width": null,
            "object_fit": null,
            "object_position": null,
            "order": null,
            "overflow": null,
            "overflow_x": null,
            "overflow_y": null,
            "padding": null,
            "right": null,
            "top": null,
            "visibility": null,
            "width": null
          }
        },
        "684b26d76f14487380f91551b89141a7": {
          "model_module": "@jupyter-widgets/base",
          "model_name": "LayoutModel",
          "model_module_version": "1.2.0",
          "state": {
            "_model_module": "@jupyter-widgets/base",
            "_model_module_version": "1.2.0",
            "_model_name": "LayoutModel",
            "_view_count": null,
            "_view_module": "@jupyter-widgets/base",
            "_view_module_version": "1.2.0",
            "_view_name": "LayoutView",
            "align_content": null,
            "align_items": null,
            "align_self": null,
            "border": null,
            "bottom": null,
            "display": null,
            "flex": null,
            "flex_flow": null,
            "grid_area": null,
            "grid_auto_columns": null,
            "grid_auto_flow": null,
            "grid_auto_rows": null,
            "grid_column": null,
            "grid_gap": null,
            "grid_row": null,
            "grid_template_areas": null,
            "grid_template_columns": null,
            "grid_template_rows": null,
            "height": null,
            "justify_content": null,
            "justify_items": null,
            "left": null,
            "margin": null,
            "max_height": null,
            "max_width": null,
            "min_height": null,
            "min_width": null,
            "object_fit": null,
            "object_position": null,
            "order": null,
            "overflow": null,
            "overflow_x": null,
            "overflow_y": null,
            "padding": null,
            "right": null,
            "top": null,
            "visibility": null,
            "width": null
          }
        },
        "c01b957f2f6245158c6c6f5eaec200b9": {
          "model_module": "@jupyter-widgets/controls",
          "model_name": "DescriptionStyleModel",
          "model_module_version": "1.5.0",
          "state": {
            "_model_module": "@jupyter-widgets/controls",
            "_model_module_version": "1.5.0",
            "_model_name": "DescriptionStyleModel",
            "_view_count": null,
            "_view_module": "@jupyter-widgets/base",
            "_view_module_version": "1.2.0",
            "_view_name": "StyleView",
            "description_width": ""
          }
        },
        "32fac7f85fc64adb8e847357e3fef144": {
          "model_module": "@jupyter-widgets/base",
          "model_name": "LayoutModel",
          "model_module_version": "1.2.0",
          "state": {
            "_model_module": "@jupyter-widgets/base",
            "_model_module_version": "1.2.0",
            "_model_name": "LayoutModel",
            "_view_count": null,
            "_view_module": "@jupyter-widgets/base",
            "_view_module_version": "1.2.0",
            "_view_name": "LayoutView",
            "align_content": null,
            "align_items": null,
            "align_self": null,
            "border": null,
            "bottom": null,
            "display": null,
            "flex": null,
            "flex_flow": null,
            "grid_area": null,
            "grid_auto_columns": null,
            "grid_auto_flow": null,
            "grid_auto_rows": null,
            "grid_column": null,
            "grid_gap": null,
            "grid_row": null,
            "grid_template_areas": null,
            "grid_template_columns": null,
            "grid_template_rows": null,
            "height": null,
            "justify_content": null,
            "justify_items": null,
            "left": null,
            "margin": null,
            "max_height": null,
            "max_width": null,
            "min_height": null,
            "min_width": null,
            "object_fit": null,
            "object_position": null,
            "order": null,
            "overflow": null,
            "overflow_x": null,
            "overflow_y": null,
            "padding": null,
            "right": null,
            "top": null,
            "visibility": null,
            "width": null
          }
        },
        "4871527ffcb4487181c923dc5fc189af": {
          "model_module": "@jupyter-widgets/controls",
          "model_name": "ProgressStyleModel",
          "model_module_version": "1.5.0",
          "state": {
            "_model_module": "@jupyter-widgets/controls",
            "_model_module_version": "1.5.0",
            "_model_name": "ProgressStyleModel",
            "_view_count": null,
            "_view_module": "@jupyter-widgets/base",
            "_view_module_version": "1.2.0",
            "_view_name": "StyleView",
            "bar_color": null,
            "description_width": ""
          }
        },
        "eae39fd0ca2c43d48ad70ac8c5c873a4": {
          "model_module": "@jupyter-widgets/base",
          "model_name": "LayoutModel",
          "model_module_version": "1.2.0",
          "state": {
            "_model_module": "@jupyter-widgets/base",
            "_model_module_version": "1.2.0",
            "_model_name": "LayoutModel",
            "_view_count": null,
            "_view_module": "@jupyter-widgets/base",
            "_view_module_version": "1.2.0",
            "_view_name": "LayoutView",
            "align_content": null,
            "align_items": null,
            "align_self": null,
            "border": null,
            "bottom": null,
            "display": null,
            "flex": null,
            "flex_flow": null,
            "grid_area": null,
            "grid_auto_columns": null,
            "grid_auto_flow": null,
            "grid_auto_rows": null,
            "grid_column": null,
            "grid_gap": null,
            "grid_row": null,
            "grid_template_areas": null,
            "grid_template_columns": null,
            "grid_template_rows": null,
            "height": null,
            "justify_content": null,
            "justify_items": null,
            "left": null,
            "margin": null,
            "max_height": null,
            "max_width": null,
            "min_height": null,
            "min_width": null,
            "object_fit": null,
            "object_position": null,
            "order": null,
            "overflow": null,
            "overflow_x": null,
            "overflow_y": null,
            "padding": null,
            "right": null,
            "top": null,
            "visibility": null,
            "width": null
          }
        },
        "c518bd9713ba4ffaaf6a47aa5a8af1d8": {
          "model_module": "@jupyter-widgets/controls",
          "model_name": "DescriptionStyleModel",
          "model_module_version": "1.5.0",
          "state": {
            "_model_module": "@jupyter-widgets/controls",
            "_model_module_version": "1.5.0",
            "_model_name": "DescriptionStyleModel",
            "_view_count": null,
            "_view_module": "@jupyter-widgets/base",
            "_view_module_version": "1.2.0",
            "_view_name": "StyleView",
            "description_width": ""
          }
        },
        "9947e9fa208b44efa09aa892a770a0e1": {
          "model_module": "@jupyter-widgets/controls",
          "model_name": "HBoxModel",
          "model_module_version": "1.5.0",
          "state": {
            "_dom_classes": [],
            "_model_module": "@jupyter-widgets/controls",
            "_model_module_version": "1.5.0",
            "_model_name": "HBoxModel",
            "_view_count": null,
            "_view_module": "@jupyter-widgets/controls",
            "_view_module_version": "1.5.0",
            "_view_name": "HBoxView",
            "box_style": "",
            "children": [
              "IPY_MODEL_c3873e05828040458030bcca279e0375",
              "IPY_MODEL_d6ef7d83547949bfafef2222d7472620",
              "IPY_MODEL_6eee1a6aeb3141fd832da8aa206e3b65"
            ],
            "layout": "IPY_MODEL_cfc3e96b248141f595d6c3e3ae742aac"
          }
        },
        "c3873e05828040458030bcca279e0375": {
          "model_module": "@jupyter-widgets/controls",
          "model_name": "HTMLModel",
          "model_module_version": "1.5.0",
          "state": {
            "_dom_classes": [],
            "_model_module": "@jupyter-widgets/controls",
            "_model_module_version": "1.5.0",
            "_model_name": "HTMLModel",
            "_view_count": null,
            "_view_module": "@jupyter-widgets/controls",
            "_view_module_version": "1.5.0",
            "_view_name": "HTMLView",
            "description": "",
            "description_tooltip": null,
            "layout": "IPY_MODEL_e62437fe0bbe4ee9a57cbb0dee4d6cd1",
            "placeholder": "​",
            "style": "IPY_MODEL_48808c39047b45fbbf0d2aea1b16e563",
            "value": "Downloading: 100%"
          }
        },
        "d6ef7d83547949bfafef2222d7472620": {
          "model_module": "@jupyter-widgets/controls",
          "model_name": "FloatProgressModel",
          "model_module_version": "1.5.0",
          "state": {
            "_dom_classes": [],
            "_model_module": "@jupyter-widgets/controls",
            "_model_module_version": "1.5.0",
            "_model_name": "FloatProgressModel",
            "_view_count": null,
            "_view_module": "@jupyter-widgets/controls",
            "_view_module_version": "1.5.0",
            "_view_name": "ProgressView",
            "bar_style": "success",
            "description": "",
            "description_tooltip": null,
            "layout": "IPY_MODEL_76898e3dc4b4446583baf7cf94b88e7a",
            "max": 438022897,
            "min": 0,
            "orientation": "horizontal",
            "style": "IPY_MODEL_7e67e02554904626a6ed9a1ed43cef53",
            "value": 438022897
          }
        },
        "6eee1a6aeb3141fd832da8aa206e3b65": {
          "model_module": "@jupyter-widgets/controls",
          "model_name": "HTMLModel",
          "model_module_version": "1.5.0",
          "state": {
            "_dom_classes": [],
            "_model_module": "@jupyter-widgets/controls",
            "_model_module_version": "1.5.0",
            "_model_name": "HTMLModel",
            "_view_count": null,
            "_view_module": "@jupyter-widgets/controls",
            "_view_module_version": "1.5.0",
            "_view_name": "HTMLView",
            "description": "",
            "description_tooltip": null,
            "layout": "IPY_MODEL_b3995e0cee9e47c59596ab4f18c7da26",
            "placeholder": "​",
            "style": "IPY_MODEL_3dd6da0ffef24b4d8283bd6bc1e12535",
            "value": " 438M/438M [00:20&lt;00:00, 26.8MB/s]"
          }
        },
        "cfc3e96b248141f595d6c3e3ae742aac": {
          "model_module": "@jupyter-widgets/base",
          "model_name": "LayoutModel",
          "model_module_version": "1.2.0",
          "state": {
            "_model_module": "@jupyter-widgets/base",
            "_model_module_version": "1.2.0",
            "_model_name": "LayoutModel",
            "_view_count": null,
            "_view_module": "@jupyter-widgets/base",
            "_view_module_version": "1.2.0",
            "_view_name": "LayoutView",
            "align_content": null,
            "align_items": null,
            "align_self": null,
            "border": null,
            "bottom": null,
            "display": null,
            "flex": null,
            "flex_flow": null,
            "grid_area": null,
            "grid_auto_columns": null,
            "grid_auto_flow": null,
            "grid_auto_rows": null,
            "grid_column": null,
            "grid_gap": null,
            "grid_row": null,
            "grid_template_areas": null,
            "grid_template_columns": null,
            "grid_template_rows": null,
            "height": null,
            "justify_content": null,
            "justify_items": null,
            "left": null,
            "margin": null,
            "max_height": null,
            "max_width": null,
            "min_height": null,
            "min_width": null,
            "object_fit": null,
            "object_position": null,
            "order": null,
            "overflow": null,
            "overflow_x": null,
            "overflow_y": null,
            "padding": null,
            "right": null,
            "top": null,
            "visibility": null,
            "width": null
          }
        },
        "e62437fe0bbe4ee9a57cbb0dee4d6cd1": {
          "model_module": "@jupyter-widgets/base",
          "model_name": "LayoutModel",
          "model_module_version": "1.2.0",
          "state": {
            "_model_module": "@jupyter-widgets/base",
            "_model_module_version": "1.2.0",
            "_model_name": "LayoutModel",
            "_view_count": null,
            "_view_module": "@jupyter-widgets/base",
            "_view_module_version": "1.2.0",
            "_view_name": "LayoutView",
            "align_content": null,
            "align_items": null,
            "align_self": null,
            "border": null,
            "bottom": null,
            "display": null,
            "flex": null,
            "flex_flow": null,
            "grid_area": null,
            "grid_auto_columns": null,
            "grid_auto_flow": null,
            "grid_auto_rows": null,
            "grid_column": null,
            "grid_gap": null,
            "grid_row": null,
            "grid_template_areas": null,
            "grid_template_columns": null,
            "grid_template_rows": null,
            "height": null,
            "justify_content": null,
            "justify_items": null,
            "left": null,
            "margin": null,
            "max_height": null,
            "max_width": null,
            "min_height": null,
            "min_width": null,
            "object_fit": null,
            "object_position": null,
            "order": null,
            "overflow": null,
            "overflow_x": null,
            "overflow_y": null,
            "padding": null,
            "right": null,
            "top": null,
            "visibility": null,
            "width": null
          }
        },
        "48808c39047b45fbbf0d2aea1b16e563": {
          "model_module": "@jupyter-widgets/controls",
          "model_name": "DescriptionStyleModel",
          "model_module_version": "1.5.0",
          "state": {
            "_model_module": "@jupyter-widgets/controls",
            "_model_module_version": "1.5.0",
            "_model_name": "DescriptionStyleModel",
            "_view_count": null,
            "_view_module": "@jupyter-widgets/base",
            "_view_module_version": "1.2.0",
            "_view_name": "StyleView",
            "description_width": ""
          }
        },
        "76898e3dc4b4446583baf7cf94b88e7a": {
          "model_module": "@jupyter-widgets/base",
          "model_name": "LayoutModel",
          "model_module_version": "1.2.0",
          "state": {
            "_model_module": "@jupyter-widgets/base",
            "_model_module_version": "1.2.0",
            "_model_name": "LayoutModel",
            "_view_count": null,
            "_view_module": "@jupyter-widgets/base",
            "_view_module_version": "1.2.0",
            "_view_name": "LayoutView",
            "align_content": null,
            "align_items": null,
            "align_self": null,
            "border": null,
            "bottom": null,
            "display": null,
            "flex": null,
            "flex_flow": null,
            "grid_area": null,
            "grid_auto_columns": null,
            "grid_auto_flow": null,
            "grid_auto_rows": null,
            "grid_column": null,
            "grid_gap": null,
            "grid_row": null,
            "grid_template_areas": null,
            "grid_template_columns": null,
            "grid_template_rows": null,
            "height": null,
            "justify_content": null,
            "justify_items": null,
            "left": null,
            "margin": null,
            "max_height": null,
            "max_width": null,
            "min_height": null,
            "min_width": null,
            "object_fit": null,
            "object_position": null,
            "order": null,
            "overflow": null,
            "overflow_x": null,
            "overflow_y": null,
            "padding": null,
            "right": null,
            "top": null,
            "visibility": null,
            "width": null
          }
        },
        "7e67e02554904626a6ed9a1ed43cef53": {
          "model_module": "@jupyter-widgets/controls",
          "model_name": "ProgressStyleModel",
          "model_module_version": "1.5.0",
          "state": {
            "_model_module": "@jupyter-widgets/controls",
            "_model_module_version": "1.5.0",
            "_model_name": "ProgressStyleModel",
            "_view_count": null,
            "_view_module": "@jupyter-widgets/base",
            "_view_module_version": "1.2.0",
            "_view_name": "StyleView",
            "bar_color": null,
            "description_width": ""
          }
        },
        "b3995e0cee9e47c59596ab4f18c7da26": {
          "model_module": "@jupyter-widgets/base",
          "model_name": "LayoutModel",
          "model_module_version": "1.2.0",
          "state": {
            "_model_module": "@jupyter-widgets/base",
            "_model_module_version": "1.2.0",
            "_model_name": "LayoutModel",
            "_view_count": null,
            "_view_module": "@jupyter-widgets/base",
            "_view_module_version": "1.2.0",
            "_view_name": "LayoutView",
            "align_content": null,
            "align_items": null,
            "align_self": null,
            "border": null,
            "bottom": null,
            "display": null,
            "flex": null,
            "flex_flow": null,
            "grid_area": null,
            "grid_auto_columns": null,
            "grid_auto_flow": null,
            "grid_auto_rows": null,
            "grid_column": null,
            "grid_gap": null,
            "grid_row": null,
            "grid_template_areas": null,
            "grid_template_columns": null,
            "grid_template_rows": null,
            "height": null,
            "justify_content": null,
            "justify_items": null,
            "left": null,
            "margin": null,
            "max_height": null,
            "max_width": null,
            "min_height": null,
            "min_width": null,
            "object_fit": null,
            "object_position": null,
            "order": null,
            "overflow": null,
            "overflow_x": null,
            "overflow_y": null,
            "padding": null,
            "right": null,
            "top": null,
            "visibility": null,
            "width": null
          }
        },
        "3dd6da0ffef24b4d8283bd6bc1e12535": {
          "model_module": "@jupyter-widgets/controls",
          "model_name": "DescriptionStyleModel",
          "model_module_version": "1.5.0",
          "state": {
            "_model_module": "@jupyter-widgets/controls",
            "_model_module_version": "1.5.0",
            "_model_name": "DescriptionStyleModel",
            "_view_count": null,
            "_view_module": "@jupyter-widgets/base",
            "_view_module_version": "1.2.0",
            "_view_name": "StyleView",
            "description_width": ""
          }
        },
        "aa51f2e22ab948cab668747085783a4b": {
          "model_module": "@jupyter-widgets/controls",
          "model_name": "HBoxModel",
          "model_module_version": "1.5.0",
          "state": {
            "_dom_classes": [],
            "_model_module": "@jupyter-widgets/controls",
            "_model_module_version": "1.5.0",
            "_model_name": "HBoxModel",
            "_view_count": null,
            "_view_module": "@jupyter-widgets/controls",
            "_view_module_version": "1.5.0",
            "_view_name": "HBoxView",
            "box_style": "",
            "children": [
              "IPY_MODEL_da4b0ef003d1413d97c261451a4119c3",
              "IPY_MODEL_4edc39560f52460f80fd2de45e05cfd3",
              "IPY_MODEL_7199dfe62e4944949949be49dc0d7c5a"
            ],
            "layout": "IPY_MODEL_5eee46c2dfb94303abe093042965bac3"
          }
        },
        "da4b0ef003d1413d97c261451a4119c3": {
          "model_module": "@jupyter-widgets/controls",
          "model_name": "HTMLModel",
          "model_module_version": "1.5.0",
          "state": {
            "_dom_classes": [],
            "_model_module": "@jupyter-widgets/controls",
            "_model_module_version": "1.5.0",
            "_model_name": "HTMLModel",
            "_view_count": null,
            "_view_module": "@jupyter-widgets/controls",
            "_view_module_version": "1.5.0",
            "_view_name": "HTMLView",
            "description": "",
            "description_tooltip": null,
            "layout": "IPY_MODEL_b7b77dc4d4e7420d9b7ce5bdcb8a9de6",
            "placeholder": "​",
            "style": "IPY_MODEL_b3528ff44bf34c19964063da66ebe681",
            "value": "Downloading: 100%"
          }
        },
        "4edc39560f52460f80fd2de45e05cfd3": {
          "model_module": "@jupyter-widgets/controls",
          "model_name": "FloatProgressModel",
          "model_module_version": "1.5.0",
          "state": {
            "_dom_classes": [],
            "_model_module": "@jupyter-widgets/controls",
            "_model_module_version": "1.5.0",
            "_model_name": "FloatProgressModel",
            "_view_count": null,
            "_view_module": "@jupyter-widgets/controls",
            "_view_module_version": "1.5.0",
            "_view_name": "ProgressView",
            "bar_style": "success",
            "description": "",
            "description_tooltip": null,
            "layout": "IPY_MODEL_7e9830e2ba654da68cd67767ecc79be0",
            "max": 52,
            "min": 0,
            "orientation": "horizontal",
            "style": "IPY_MODEL_d984be937704482097c4230ed5d885d8",
            "value": 52
          }
        },
        "7199dfe62e4944949949be49dc0d7c5a": {
          "model_module": "@jupyter-widgets/controls",
          "model_name": "HTMLModel",
          "model_module_version": "1.5.0",
          "state": {
            "_dom_classes": [],
            "_model_module": "@jupyter-widgets/controls",
            "_model_module_version": "1.5.0",
            "_model_name": "HTMLModel",
            "_view_count": null,
            "_view_module": "@jupyter-widgets/controls",
            "_view_module_version": "1.5.0",
            "_view_name": "HTMLView",
            "description": "",
            "description_tooltip": null,
            "layout": "IPY_MODEL_2a1dc137d2744d4d975bb238728d3c08",
            "placeholder": "​",
            "style": "IPY_MODEL_6920694dca834c269297f24765c017dc",
            "value": " 52.0/52.0 [00:00&lt;00:00, 1.08kB/s]"
          }
        },
        "5eee46c2dfb94303abe093042965bac3": {
          "model_module": "@jupyter-widgets/base",
          "model_name": "LayoutModel",
          "model_module_version": "1.2.0",
          "state": {
            "_model_module": "@jupyter-widgets/base",
            "_model_module_version": "1.2.0",
            "_model_name": "LayoutModel",
            "_view_count": null,
            "_view_module": "@jupyter-widgets/base",
            "_view_module_version": "1.2.0",
            "_view_name": "LayoutView",
            "align_content": null,
            "align_items": null,
            "align_self": null,
            "border": null,
            "bottom": null,
            "display": null,
            "flex": null,
            "flex_flow": null,
            "grid_area": null,
            "grid_auto_columns": null,
            "grid_auto_flow": null,
            "grid_auto_rows": null,
            "grid_column": null,
            "grid_gap": null,
            "grid_row": null,
            "grid_template_areas": null,
            "grid_template_columns": null,
            "grid_template_rows": null,
            "height": null,
            "justify_content": null,
            "justify_items": null,
            "left": null,
            "margin": null,
            "max_height": null,
            "max_width": null,
            "min_height": null,
            "min_width": null,
            "object_fit": null,
            "object_position": null,
            "order": null,
            "overflow": null,
            "overflow_x": null,
            "overflow_y": null,
            "padding": null,
            "right": null,
            "top": null,
            "visibility": null,
            "width": null
          }
        },
        "b7b77dc4d4e7420d9b7ce5bdcb8a9de6": {
          "model_module": "@jupyter-widgets/base",
          "model_name": "LayoutModel",
          "model_module_version": "1.2.0",
          "state": {
            "_model_module": "@jupyter-widgets/base",
            "_model_module_version": "1.2.0",
            "_model_name": "LayoutModel",
            "_view_count": null,
            "_view_module": "@jupyter-widgets/base",
            "_view_module_version": "1.2.0",
            "_view_name": "LayoutView",
            "align_content": null,
            "align_items": null,
            "align_self": null,
            "border": null,
            "bottom": null,
            "display": null,
            "flex": null,
            "flex_flow": null,
            "grid_area": null,
            "grid_auto_columns": null,
            "grid_auto_flow": null,
            "grid_auto_rows": null,
            "grid_column": null,
            "grid_gap": null,
            "grid_row": null,
            "grid_template_areas": null,
            "grid_template_columns": null,
            "grid_template_rows": null,
            "height": null,
            "justify_content": null,
            "justify_items": null,
            "left": null,
            "margin": null,
            "max_height": null,
            "max_width": null,
            "min_height": null,
            "min_width": null,
            "object_fit": null,
            "object_position": null,
            "order": null,
            "overflow": null,
            "overflow_x": null,
            "overflow_y": null,
            "padding": null,
            "right": null,
            "top": null,
            "visibility": null,
            "width": null
          }
        },
        "b3528ff44bf34c19964063da66ebe681": {
          "model_module": "@jupyter-widgets/controls",
          "model_name": "DescriptionStyleModel",
          "model_module_version": "1.5.0",
          "state": {
            "_model_module": "@jupyter-widgets/controls",
            "_model_module_version": "1.5.0",
            "_model_name": "DescriptionStyleModel",
            "_view_count": null,
            "_view_module": "@jupyter-widgets/base",
            "_view_module_version": "1.2.0",
            "_view_name": "StyleView",
            "description_width": ""
          }
        },
        "7e9830e2ba654da68cd67767ecc79be0": {
          "model_module": "@jupyter-widgets/base",
          "model_name": "LayoutModel",
          "model_module_version": "1.2.0",
          "state": {
            "_model_module": "@jupyter-widgets/base",
            "_model_module_version": "1.2.0",
            "_model_name": "LayoutModel",
            "_view_count": null,
            "_view_module": "@jupyter-widgets/base",
            "_view_module_version": "1.2.0",
            "_view_name": "LayoutView",
            "align_content": null,
            "align_items": null,
            "align_self": null,
            "border": null,
            "bottom": null,
            "display": null,
            "flex": null,
            "flex_flow": null,
            "grid_area": null,
            "grid_auto_columns": null,
            "grid_auto_flow": null,
            "grid_auto_rows": null,
            "grid_column": null,
            "grid_gap": null,
            "grid_row": null,
            "grid_template_areas": null,
            "grid_template_columns": null,
            "grid_template_rows": null,
            "height": null,
            "justify_content": null,
            "justify_items": null,
            "left": null,
            "margin": null,
            "max_height": null,
            "max_width": null,
            "min_height": null,
            "min_width": null,
            "object_fit": null,
            "object_position": null,
            "order": null,
            "overflow": null,
            "overflow_x": null,
            "overflow_y": null,
            "padding": null,
            "right": null,
            "top": null,
            "visibility": null,
            "width": null
          }
        },
        "d984be937704482097c4230ed5d885d8": {
          "model_module": "@jupyter-widgets/controls",
          "model_name": "ProgressStyleModel",
          "model_module_version": "1.5.0",
          "state": {
            "_model_module": "@jupyter-widgets/controls",
            "_model_module_version": "1.5.0",
            "_model_name": "ProgressStyleModel",
            "_view_count": null,
            "_view_module": "@jupyter-widgets/base",
            "_view_module_version": "1.2.0",
            "_view_name": "StyleView",
            "bar_color": null,
            "description_width": ""
          }
        },
        "2a1dc137d2744d4d975bb238728d3c08": {
          "model_module": "@jupyter-widgets/base",
          "model_name": "LayoutModel",
          "model_module_version": "1.2.0",
          "state": {
            "_model_module": "@jupyter-widgets/base",
            "_model_module_version": "1.2.0",
            "_model_name": "LayoutModel",
            "_view_count": null,
            "_view_module": "@jupyter-widgets/base",
            "_view_module_version": "1.2.0",
            "_view_name": "LayoutView",
            "align_content": null,
            "align_items": null,
            "align_self": null,
            "border": null,
            "bottom": null,
            "display": null,
            "flex": null,
            "flex_flow": null,
            "grid_area": null,
            "grid_auto_columns": null,
            "grid_auto_flow": null,
            "grid_auto_rows": null,
            "grid_column": null,
            "grid_gap": null,
            "grid_row": null,
            "grid_template_areas": null,
            "grid_template_columns": null,
            "grid_template_rows": null,
            "height": null,
            "justify_content": null,
            "justify_items": null,
            "left": null,
            "margin": null,
            "max_height": null,
            "max_width": null,
            "min_height": null,
            "min_width": null,
            "object_fit": null,
            "object_position": null,
            "order": null,
            "overflow": null,
            "overflow_x": null,
            "overflow_y": null,
            "padding": null,
            "right": null,
            "top": null,
            "visibility": null,
            "width": null
          }
        },
        "6920694dca834c269297f24765c017dc": {
          "model_module": "@jupyter-widgets/controls",
          "model_name": "DescriptionStyleModel",
          "model_module_version": "1.5.0",
          "state": {
            "_model_module": "@jupyter-widgets/controls",
            "_model_module_version": "1.5.0",
            "_model_name": "DescriptionStyleModel",
            "_view_count": null,
            "_view_module": "@jupyter-widgets/base",
            "_view_module_version": "1.2.0",
            "_view_name": "StyleView",
            "description_width": ""
          }
        },
        "ff4b4df53b294449b785ddd80358de0c": {
          "model_module": "@jupyter-widgets/controls",
          "model_name": "HBoxModel",
          "model_module_version": "1.5.0",
          "state": {
            "_dom_classes": [],
            "_model_module": "@jupyter-widgets/controls",
            "_model_module_version": "1.5.0",
            "_model_name": "HBoxModel",
            "_view_count": null,
            "_view_module": "@jupyter-widgets/controls",
            "_view_module_version": "1.5.0",
            "_view_name": "HBoxView",
            "box_style": "",
            "children": [
              "IPY_MODEL_ab5456c0e628406fa398172d43fac0b5",
              "IPY_MODEL_a04cb21cef7a434eb2c67874ac58c530",
              "IPY_MODEL_9edd671d09c847c094495d1749137091"
            ],
            "layout": "IPY_MODEL_a9002a9207b2452a938681d93b1c08ad"
          }
        },
        "ab5456c0e628406fa398172d43fac0b5": {
          "model_module": "@jupyter-widgets/controls",
          "model_name": "HTMLModel",
          "model_module_version": "1.5.0",
          "state": {
            "_dom_classes": [],
            "_model_module": "@jupyter-widgets/controls",
            "_model_module_version": "1.5.0",
            "_model_name": "HTMLModel",
            "_view_count": null,
            "_view_module": "@jupyter-widgets/controls",
            "_view_module_version": "1.5.0",
            "_view_name": "HTMLView",
            "description": "",
            "description_tooltip": null,
            "layout": "IPY_MODEL_f8c7e1b8af7940758213cf9b898c7991",
            "placeholder": "​",
            "style": "IPY_MODEL_9134970ee8f646cb83162193dd47ff00",
            "value": "Downloading: 100%"
          }
        },
        "a04cb21cef7a434eb2c67874ac58c530": {
          "model_module": "@jupyter-widgets/controls",
          "model_name": "FloatProgressModel",
          "model_module_version": "1.5.0",
          "state": {
            "_dom_classes": [],
            "_model_module": "@jupyter-widgets/controls",
            "_model_module_version": "1.5.0",
            "_model_name": "FloatProgressModel",
            "_view_count": null,
            "_view_module": "@jupyter-widgets/controls",
            "_view_module_version": "1.5.0",
            "_view_name": "ProgressView",
            "bar_style": "success",
            "description": "",
            "description_tooltip": null,
            "layout": "IPY_MODEL_9e07735afab940c89eac8df0183b437e",
            "max": 239,
            "min": 0,
            "orientation": "horizontal",
            "style": "IPY_MODEL_dfd80c79f65848cd9c4d2625721e3d6e",
            "value": 239
          }
        },
        "9edd671d09c847c094495d1749137091": {
          "model_module": "@jupyter-widgets/controls",
          "model_name": "HTMLModel",
          "model_module_version": "1.5.0",
          "state": {
            "_dom_classes": [],
            "_model_module": "@jupyter-widgets/controls",
            "_model_module_version": "1.5.0",
            "_model_name": "HTMLModel",
            "_view_count": null,
            "_view_module": "@jupyter-widgets/controls",
            "_view_module_version": "1.5.0",
            "_view_name": "HTMLView",
            "description": "",
            "description_tooltip": null,
            "layout": "IPY_MODEL_870c2ebd963141dfa4d2ab16fc9df89c",
            "placeholder": "​",
            "style": "IPY_MODEL_60b975987c9e444ab25f4fcb58ab8f7e",
            "value": " 239/239 [00:00&lt;00:00, 6.93kB/s]"
          }
        },
        "a9002a9207b2452a938681d93b1c08ad": {
          "model_module": "@jupyter-widgets/base",
          "model_name": "LayoutModel",
          "model_module_version": "1.2.0",
          "state": {
            "_model_module": "@jupyter-widgets/base",
            "_model_module_version": "1.2.0",
            "_model_name": "LayoutModel",
            "_view_count": null,
            "_view_module": "@jupyter-widgets/base",
            "_view_module_version": "1.2.0",
            "_view_name": "LayoutView",
            "align_content": null,
            "align_items": null,
            "align_self": null,
            "border": null,
            "bottom": null,
            "display": null,
            "flex": null,
            "flex_flow": null,
            "grid_area": null,
            "grid_auto_columns": null,
            "grid_auto_flow": null,
            "grid_auto_rows": null,
            "grid_column": null,
            "grid_gap": null,
            "grid_row": null,
            "grid_template_areas": null,
            "grid_template_columns": null,
            "grid_template_rows": null,
            "height": null,
            "justify_content": null,
            "justify_items": null,
            "left": null,
            "margin": null,
            "max_height": null,
            "max_width": null,
            "min_height": null,
            "min_width": null,
            "object_fit": null,
            "object_position": null,
            "order": null,
            "overflow": null,
            "overflow_x": null,
            "overflow_y": null,
            "padding": null,
            "right": null,
            "top": null,
            "visibility": null,
            "width": null
          }
        },
        "f8c7e1b8af7940758213cf9b898c7991": {
          "model_module": "@jupyter-widgets/base",
          "model_name": "LayoutModel",
          "model_module_version": "1.2.0",
          "state": {
            "_model_module": "@jupyter-widgets/base",
            "_model_module_version": "1.2.0",
            "_model_name": "LayoutModel",
            "_view_count": null,
            "_view_module": "@jupyter-widgets/base",
            "_view_module_version": "1.2.0",
            "_view_name": "LayoutView",
            "align_content": null,
            "align_items": null,
            "align_self": null,
            "border": null,
            "bottom": null,
            "display": null,
            "flex": null,
            "flex_flow": null,
            "grid_area": null,
            "grid_auto_columns": null,
            "grid_auto_flow": null,
            "grid_auto_rows": null,
            "grid_column": null,
            "grid_gap": null,
            "grid_row": null,
            "grid_template_areas": null,
            "grid_template_columns": null,
            "grid_template_rows": null,
            "height": null,
            "justify_content": null,
            "justify_items": null,
            "left": null,
            "margin": null,
            "max_height": null,
            "max_width": null,
            "min_height": null,
            "min_width": null,
            "object_fit": null,
            "object_position": null,
            "order": null,
            "overflow": null,
            "overflow_x": null,
            "overflow_y": null,
            "padding": null,
            "right": null,
            "top": null,
            "visibility": null,
            "width": null
          }
        },
        "9134970ee8f646cb83162193dd47ff00": {
          "model_module": "@jupyter-widgets/controls",
          "model_name": "DescriptionStyleModel",
          "model_module_version": "1.5.0",
          "state": {
            "_model_module": "@jupyter-widgets/controls",
            "_model_module_version": "1.5.0",
            "_model_name": "DescriptionStyleModel",
            "_view_count": null,
            "_view_module": "@jupyter-widgets/base",
            "_view_module_version": "1.2.0",
            "_view_name": "StyleView",
            "description_width": ""
          }
        },
        "9e07735afab940c89eac8df0183b437e": {
          "model_module": "@jupyter-widgets/base",
          "model_name": "LayoutModel",
          "model_module_version": "1.2.0",
          "state": {
            "_model_module": "@jupyter-widgets/base",
            "_model_module_version": "1.2.0",
            "_model_name": "LayoutModel",
            "_view_count": null,
            "_view_module": "@jupyter-widgets/base",
            "_view_module_version": "1.2.0",
            "_view_name": "LayoutView",
            "align_content": null,
            "align_items": null,
            "align_self": null,
            "border": null,
            "bottom": null,
            "display": null,
            "flex": null,
            "flex_flow": null,
            "grid_area": null,
            "grid_auto_columns": null,
            "grid_auto_flow": null,
            "grid_auto_rows": null,
            "grid_column": null,
            "grid_gap": null,
            "grid_row": null,
            "grid_template_areas": null,
            "grid_template_columns": null,
            "grid_template_rows": null,
            "height": null,
            "justify_content": null,
            "justify_items": null,
            "left": null,
            "margin": null,
            "max_height": null,
            "max_width": null,
            "min_height": null,
            "min_width": null,
            "object_fit": null,
            "object_position": null,
            "order": null,
            "overflow": null,
            "overflow_x": null,
            "overflow_y": null,
            "padding": null,
            "right": null,
            "top": null,
            "visibility": null,
            "width": null
          }
        },
        "dfd80c79f65848cd9c4d2625721e3d6e": {
          "model_module": "@jupyter-widgets/controls",
          "model_name": "ProgressStyleModel",
          "model_module_version": "1.5.0",
          "state": {
            "_model_module": "@jupyter-widgets/controls",
            "_model_module_version": "1.5.0",
            "_model_name": "ProgressStyleModel",
            "_view_count": null,
            "_view_module": "@jupyter-widgets/base",
            "_view_module_version": "1.2.0",
            "_view_name": "StyleView",
            "bar_color": null,
            "description_width": ""
          }
        },
        "870c2ebd963141dfa4d2ab16fc9df89c": {
          "model_module": "@jupyter-widgets/base",
          "model_name": "LayoutModel",
          "model_module_version": "1.2.0",
          "state": {
            "_model_module": "@jupyter-widgets/base",
            "_model_module_version": "1.2.0",
            "_model_name": "LayoutModel",
            "_view_count": null,
            "_view_module": "@jupyter-widgets/base",
            "_view_module_version": "1.2.0",
            "_view_name": "LayoutView",
            "align_content": null,
            "align_items": null,
            "align_self": null,
            "border": null,
            "bottom": null,
            "display": null,
            "flex": null,
            "flex_flow": null,
            "grid_area": null,
            "grid_auto_columns": null,
            "grid_auto_flow": null,
            "grid_auto_rows": null,
            "grid_column": null,
            "grid_gap": null,
            "grid_row": null,
            "grid_template_areas": null,
            "grid_template_columns": null,
            "grid_template_rows": null,
            "height": null,
            "justify_content": null,
            "justify_items": null,
            "left": null,
            "margin": null,
            "max_height": null,
            "max_width": null,
            "min_height": null,
            "min_width": null,
            "object_fit": null,
            "object_position": null,
            "order": null,
            "overflow": null,
            "overflow_x": null,
            "overflow_y": null,
            "padding": null,
            "right": null,
            "top": null,
            "visibility": null,
            "width": null
          }
        },
        "60b975987c9e444ab25f4fcb58ab8f7e": {
          "model_module": "@jupyter-widgets/controls",
          "model_name": "DescriptionStyleModel",
          "model_module_version": "1.5.0",
          "state": {
            "_model_module": "@jupyter-widgets/controls",
            "_model_module_version": "1.5.0",
            "_model_name": "DescriptionStyleModel",
            "_view_count": null,
            "_view_module": "@jupyter-widgets/base",
            "_view_module_version": "1.2.0",
            "_view_name": "StyleView",
            "description_width": ""
          }
        },
        "9d705fdaf6da4d44bff4934252154a3d": {
          "model_module": "@jupyter-widgets/controls",
          "model_name": "HBoxModel",
          "model_module_version": "1.5.0",
          "state": {
            "_dom_classes": [],
            "_model_module": "@jupyter-widgets/controls",
            "_model_module_version": "1.5.0",
            "_model_name": "HBoxModel",
            "_view_count": null,
            "_view_module": "@jupyter-widgets/controls",
            "_view_module_version": "1.5.0",
            "_view_name": "HBoxView",
            "box_style": "",
            "children": [
              "IPY_MODEL_07c272bdb85e492298ba1e0a217a6be5",
              "IPY_MODEL_0fddd504fb2e4c418d64db0eb5b9ed48",
              "IPY_MODEL_b9c8dd8d85e74ff6af42abd32928ce87"
            ],
            "layout": "IPY_MODEL_e1275299d8e1478f8b3f3880523b619f"
          }
        },
        "07c272bdb85e492298ba1e0a217a6be5": {
          "model_module": "@jupyter-widgets/controls",
          "model_name": "HTMLModel",
          "model_module_version": "1.5.0",
          "state": {
            "_dom_classes": [],
            "_model_module": "@jupyter-widgets/controls",
            "_model_module_version": "1.5.0",
            "_model_name": "HTMLModel",
            "_view_count": null,
            "_view_module": "@jupyter-widgets/controls",
            "_view_module_version": "1.5.0",
            "_view_name": "HTMLView",
            "description": "",
            "description_tooltip": null,
            "layout": "IPY_MODEL_99af970e86ff4b9e96367e018cb9d36c",
            "placeholder": "​",
            "style": "IPY_MODEL_911193843e9b454fbb531c28c41efbee",
            "value": "Downloading: 100%"
          }
        },
        "0fddd504fb2e4c418d64db0eb5b9ed48": {
          "model_module": "@jupyter-widgets/controls",
          "model_name": "FloatProgressModel",
          "model_module_version": "1.5.0",
          "state": {
            "_dom_classes": [],
            "_model_module": "@jupyter-widgets/controls",
            "_model_module_version": "1.5.0",
            "_model_name": "FloatProgressModel",
            "_view_count": null,
            "_view_module": "@jupyter-widgets/controls",
            "_view_module_version": "1.5.0",
            "_view_name": "ProgressView",
            "bar_style": "success",
            "description": "",
            "description_tooltip": null,
            "layout": "IPY_MODEL_a66bc865c03445c1b73560f7e9c69db1",
            "max": 466166,
            "min": 0,
            "orientation": "horizontal",
            "style": "IPY_MODEL_ccdbe33e06bc4b05b7d2b9b1ce7617e7",
            "value": 466166
          }
        },
        "b9c8dd8d85e74ff6af42abd32928ce87": {
          "model_module": "@jupyter-widgets/controls",
          "model_name": "HTMLModel",
          "model_module_version": "1.5.0",
          "state": {
            "_dom_classes": [],
            "_model_module": "@jupyter-widgets/controls",
            "_model_module_version": "1.5.0",
            "_model_name": "HTMLModel",
            "_view_count": null,
            "_view_module": "@jupyter-widgets/controls",
            "_view_module_version": "1.5.0",
            "_view_name": "HTMLView",
            "description": "",
            "description_tooltip": null,
            "layout": "IPY_MODEL_27fb9dad34794cb985d7fe1918c6e835",
            "placeholder": "​",
            "style": "IPY_MODEL_4a57411dcd2e4ad9b0de0ea4b0e4c04d",
            "value": " 466k/466k [00:01&lt;00:00, 562kB/s]"
          }
        },
        "e1275299d8e1478f8b3f3880523b619f": {
          "model_module": "@jupyter-widgets/base",
          "model_name": "LayoutModel",
          "model_module_version": "1.2.0",
          "state": {
            "_model_module": "@jupyter-widgets/base",
            "_model_module_version": "1.2.0",
            "_model_name": "LayoutModel",
            "_view_count": null,
            "_view_module": "@jupyter-widgets/base",
            "_view_module_version": "1.2.0",
            "_view_name": "LayoutView",
            "align_content": null,
            "align_items": null,
            "align_self": null,
            "border": null,
            "bottom": null,
            "display": null,
            "flex": null,
            "flex_flow": null,
            "grid_area": null,
            "grid_auto_columns": null,
            "grid_auto_flow": null,
            "grid_auto_rows": null,
            "grid_column": null,
            "grid_gap": null,
            "grid_row": null,
            "grid_template_areas": null,
            "grid_template_columns": null,
            "grid_template_rows": null,
            "height": null,
            "justify_content": null,
            "justify_items": null,
            "left": null,
            "margin": null,
            "max_height": null,
            "max_width": null,
            "min_height": null,
            "min_width": null,
            "object_fit": null,
            "object_position": null,
            "order": null,
            "overflow": null,
            "overflow_x": null,
            "overflow_y": null,
            "padding": null,
            "right": null,
            "top": null,
            "visibility": null,
            "width": null
          }
        },
        "99af970e86ff4b9e96367e018cb9d36c": {
          "model_module": "@jupyter-widgets/base",
          "model_name": "LayoutModel",
          "model_module_version": "1.2.0",
          "state": {
            "_model_module": "@jupyter-widgets/base",
            "_model_module_version": "1.2.0",
            "_model_name": "LayoutModel",
            "_view_count": null,
            "_view_module": "@jupyter-widgets/base",
            "_view_module_version": "1.2.0",
            "_view_name": "LayoutView",
            "align_content": null,
            "align_items": null,
            "align_self": null,
            "border": null,
            "bottom": null,
            "display": null,
            "flex": null,
            "flex_flow": null,
            "grid_area": null,
            "grid_auto_columns": null,
            "grid_auto_flow": null,
            "grid_auto_rows": null,
            "grid_column": null,
            "grid_gap": null,
            "grid_row": null,
            "grid_template_areas": null,
            "grid_template_columns": null,
            "grid_template_rows": null,
            "height": null,
            "justify_content": null,
            "justify_items": null,
            "left": null,
            "margin": null,
            "max_height": null,
            "max_width": null,
            "min_height": null,
            "min_width": null,
            "object_fit": null,
            "object_position": null,
            "order": null,
            "overflow": null,
            "overflow_x": null,
            "overflow_y": null,
            "padding": null,
            "right": null,
            "top": null,
            "visibility": null,
            "width": null
          }
        },
        "911193843e9b454fbb531c28c41efbee": {
          "model_module": "@jupyter-widgets/controls",
          "model_name": "DescriptionStyleModel",
          "model_module_version": "1.5.0",
          "state": {
            "_model_module": "@jupyter-widgets/controls",
            "_model_module_version": "1.5.0",
            "_model_name": "DescriptionStyleModel",
            "_view_count": null,
            "_view_module": "@jupyter-widgets/base",
            "_view_module_version": "1.2.0",
            "_view_name": "StyleView",
            "description_width": ""
          }
        },
        "a66bc865c03445c1b73560f7e9c69db1": {
          "model_module": "@jupyter-widgets/base",
          "model_name": "LayoutModel",
          "model_module_version": "1.2.0",
          "state": {
            "_model_module": "@jupyter-widgets/base",
            "_model_module_version": "1.2.0",
            "_model_name": "LayoutModel",
            "_view_count": null,
            "_view_module": "@jupyter-widgets/base",
            "_view_module_version": "1.2.0",
            "_view_name": "LayoutView",
            "align_content": null,
            "align_items": null,
            "align_self": null,
            "border": null,
            "bottom": null,
            "display": null,
            "flex": null,
            "flex_flow": null,
            "grid_area": null,
            "grid_auto_columns": null,
            "grid_auto_flow": null,
            "grid_auto_rows": null,
            "grid_column": null,
            "grid_gap": null,
            "grid_row": null,
            "grid_template_areas": null,
            "grid_template_columns": null,
            "grid_template_rows": null,
            "height": null,
            "justify_content": null,
            "justify_items": null,
            "left": null,
            "margin": null,
            "max_height": null,
            "max_width": null,
            "min_height": null,
            "min_width": null,
            "object_fit": null,
            "object_position": null,
            "order": null,
            "overflow": null,
            "overflow_x": null,
            "overflow_y": null,
            "padding": null,
            "right": null,
            "top": null,
            "visibility": null,
            "width": null
          }
        },
        "ccdbe33e06bc4b05b7d2b9b1ce7617e7": {
          "model_module": "@jupyter-widgets/controls",
          "model_name": "ProgressStyleModel",
          "model_module_version": "1.5.0",
          "state": {
            "_model_module": "@jupyter-widgets/controls",
            "_model_module_version": "1.5.0",
            "_model_name": "ProgressStyleModel",
            "_view_count": null,
            "_view_module": "@jupyter-widgets/base",
            "_view_module_version": "1.2.0",
            "_view_name": "StyleView",
            "bar_color": null,
            "description_width": ""
          }
        },
        "27fb9dad34794cb985d7fe1918c6e835": {
          "model_module": "@jupyter-widgets/base",
          "model_name": "LayoutModel",
          "model_module_version": "1.2.0",
          "state": {
            "_model_module": "@jupyter-widgets/base",
            "_model_module_version": "1.2.0",
            "_model_name": "LayoutModel",
            "_view_count": null,
            "_view_module": "@jupyter-widgets/base",
            "_view_module_version": "1.2.0",
            "_view_name": "LayoutView",
            "align_content": null,
            "align_items": null,
            "align_self": null,
            "border": null,
            "bottom": null,
            "display": null,
            "flex": null,
            "flex_flow": null,
            "grid_area": null,
            "grid_auto_columns": null,
            "grid_auto_flow": null,
            "grid_auto_rows": null,
            "grid_column": null,
            "grid_gap": null,
            "grid_row": null,
            "grid_template_areas": null,
            "grid_template_columns": null,
            "grid_template_rows": null,
            "height": null,
            "justify_content": null,
            "justify_items": null,
            "left": null,
            "margin": null,
            "max_height": null,
            "max_width": null,
            "min_height": null,
            "min_width": null,
            "object_fit": null,
            "object_position": null,
            "order": null,
            "overflow": null,
            "overflow_x": null,
            "overflow_y": null,
            "padding": null,
            "right": null,
            "top": null,
            "visibility": null,
            "width": null
          }
        },
        "4a57411dcd2e4ad9b0de0ea4b0e4c04d": {
          "model_module": "@jupyter-widgets/controls",
          "model_name": "DescriptionStyleModel",
          "model_module_version": "1.5.0",
          "state": {
            "_model_module": "@jupyter-widgets/controls",
            "_model_module_version": "1.5.0",
            "_model_name": "DescriptionStyleModel",
            "_view_count": null,
            "_view_module": "@jupyter-widgets/base",
            "_view_module_version": "1.2.0",
            "_view_name": "StyleView",
            "description_width": ""
          }
        },
        "bcbdfbd40d204dce8992410191078aa6": {
          "model_module": "@jupyter-widgets/controls",
          "model_name": "HBoxModel",
          "model_module_version": "1.5.0",
          "state": {
            "_dom_classes": [],
            "_model_module": "@jupyter-widgets/controls",
            "_model_module_version": "1.5.0",
            "_model_name": "HBoxModel",
            "_view_count": null,
            "_view_module": "@jupyter-widgets/controls",
            "_view_module_version": "1.5.0",
            "_view_name": "HBoxView",
            "box_style": "",
            "children": [
              "IPY_MODEL_9d79e375b86447e9bed924673f64fc89",
              "IPY_MODEL_c12b805572874820a14dffaa6686ad27",
              "IPY_MODEL_ce44d27a1b724f2baa4b53c5d78f5655"
            ],
            "layout": "IPY_MODEL_093b08f39f74491f9457af06c9805e52"
          }
        },
        "9d79e375b86447e9bed924673f64fc89": {
          "model_module": "@jupyter-widgets/controls",
          "model_name": "HTMLModel",
          "model_module_version": "1.5.0",
          "state": {
            "_dom_classes": [],
            "_model_module": "@jupyter-widgets/controls",
            "_model_module_version": "1.5.0",
            "_model_name": "HTMLModel",
            "_view_count": null,
            "_view_module": "@jupyter-widgets/controls",
            "_view_module_version": "1.5.0",
            "_view_name": "HTMLView",
            "description": "",
            "description_tooltip": null,
            "layout": "IPY_MODEL_354c22ae0f7444dead4155cf1d116789",
            "placeholder": "​",
            "style": "IPY_MODEL_b6c8fc4e126049949fd49073d7c2a364",
            "value": "Downloading: 100%"
          }
        },
        "c12b805572874820a14dffaa6686ad27": {
          "model_module": "@jupyter-widgets/controls",
          "model_name": "FloatProgressModel",
          "model_module_version": "1.5.0",
          "state": {
            "_dom_classes": [],
            "_model_module": "@jupyter-widgets/controls",
            "_model_module_version": "1.5.0",
            "_model_name": "FloatProgressModel",
            "_view_count": null,
            "_view_module": "@jupyter-widgets/controls",
            "_view_module_version": "1.5.0",
            "_view_name": "ProgressView",
            "bar_style": "success",
            "description": "",
            "description_tooltip": null,
            "layout": "IPY_MODEL_262c6725b0b1489f8e6f9f241c64fdce",
            "max": 1186,
            "min": 0,
            "orientation": "horizontal",
            "style": "IPY_MODEL_3d27d29c676d4c00a89327dc884d982a",
            "value": 1186
          }
        },
        "ce44d27a1b724f2baa4b53c5d78f5655": {
          "model_module": "@jupyter-widgets/controls",
          "model_name": "HTMLModel",
          "model_module_version": "1.5.0",
          "state": {
            "_dom_classes": [],
            "_model_module": "@jupyter-widgets/controls",
            "_model_module_version": "1.5.0",
            "_model_name": "HTMLModel",
            "_view_count": null,
            "_view_module": "@jupyter-widgets/controls",
            "_view_module_version": "1.5.0",
            "_view_name": "HTMLView",
            "description": "",
            "description_tooltip": null,
            "layout": "IPY_MODEL_353a32a391d545e58be0cf55a232f685",
            "placeholder": "​",
            "style": "IPY_MODEL_5d54f99f2cf541e68710b94ff28b81c2",
            "value": " 1.19k/1.19k [00:00&lt;00:00, 35.1kB/s]"
          }
        },
        "093b08f39f74491f9457af06c9805e52": {
          "model_module": "@jupyter-widgets/base",
          "model_name": "LayoutModel",
          "model_module_version": "1.2.0",
          "state": {
            "_model_module": "@jupyter-widgets/base",
            "_model_module_version": "1.2.0",
            "_model_name": "LayoutModel",
            "_view_count": null,
            "_view_module": "@jupyter-widgets/base",
            "_view_module_version": "1.2.0",
            "_view_name": "LayoutView",
            "align_content": null,
            "align_items": null,
            "align_self": null,
            "border": null,
            "bottom": null,
            "display": null,
            "flex": null,
            "flex_flow": null,
            "grid_area": null,
            "grid_auto_columns": null,
            "grid_auto_flow": null,
            "grid_auto_rows": null,
            "grid_column": null,
            "grid_gap": null,
            "grid_row": null,
            "grid_template_areas": null,
            "grid_template_columns": null,
            "grid_template_rows": null,
            "height": null,
            "justify_content": null,
            "justify_items": null,
            "left": null,
            "margin": null,
            "max_height": null,
            "max_width": null,
            "min_height": null,
            "min_width": null,
            "object_fit": null,
            "object_position": null,
            "order": null,
            "overflow": null,
            "overflow_x": null,
            "overflow_y": null,
            "padding": null,
            "right": null,
            "top": null,
            "visibility": null,
            "width": null
          }
        },
        "354c22ae0f7444dead4155cf1d116789": {
          "model_module": "@jupyter-widgets/base",
          "model_name": "LayoutModel",
          "model_module_version": "1.2.0",
          "state": {
            "_model_module": "@jupyter-widgets/base",
            "_model_module_version": "1.2.0",
            "_model_name": "LayoutModel",
            "_view_count": null,
            "_view_module": "@jupyter-widgets/base",
            "_view_module_version": "1.2.0",
            "_view_name": "LayoutView",
            "align_content": null,
            "align_items": null,
            "align_self": null,
            "border": null,
            "bottom": null,
            "display": null,
            "flex": null,
            "flex_flow": null,
            "grid_area": null,
            "grid_auto_columns": null,
            "grid_auto_flow": null,
            "grid_auto_rows": null,
            "grid_column": null,
            "grid_gap": null,
            "grid_row": null,
            "grid_template_areas": null,
            "grid_template_columns": null,
            "grid_template_rows": null,
            "height": null,
            "justify_content": null,
            "justify_items": null,
            "left": null,
            "margin": null,
            "max_height": null,
            "max_width": null,
            "min_height": null,
            "min_width": null,
            "object_fit": null,
            "object_position": null,
            "order": null,
            "overflow": null,
            "overflow_x": null,
            "overflow_y": null,
            "padding": null,
            "right": null,
            "top": null,
            "visibility": null,
            "width": null
          }
        },
        "b6c8fc4e126049949fd49073d7c2a364": {
          "model_module": "@jupyter-widgets/controls",
          "model_name": "DescriptionStyleModel",
          "model_module_version": "1.5.0",
          "state": {
            "_model_module": "@jupyter-widgets/controls",
            "_model_module_version": "1.5.0",
            "_model_name": "DescriptionStyleModel",
            "_view_count": null,
            "_view_module": "@jupyter-widgets/base",
            "_view_module_version": "1.2.0",
            "_view_name": "StyleView",
            "description_width": ""
          }
        },
        "262c6725b0b1489f8e6f9f241c64fdce": {
          "model_module": "@jupyter-widgets/base",
          "model_name": "LayoutModel",
          "model_module_version": "1.2.0",
          "state": {
            "_model_module": "@jupyter-widgets/base",
            "_model_module_version": "1.2.0",
            "_model_name": "LayoutModel",
            "_view_count": null,
            "_view_module": "@jupyter-widgets/base",
            "_view_module_version": "1.2.0",
            "_view_name": "LayoutView",
            "align_content": null,
            "align_items": null,
            "align_self": null,
            "border": null,
            "bottom": null,
            "display": null,
            "flex": null,
            "flex_flow": null,
            "grid_area": null,
            "grid_auto_columns": null,
            "grid_auto_flow": null,
            "grid_auto_rows": null,
            "grid_column": null,
            "grid_gap": null,
            "grid_row": null,
            "grid_template_areas": null,
            "grid_template_columns": null,
            "grid_template_rows": null,
            "height": null,
            "justify_content": null,
            "justify_items": null,
            "left": null,
            "margin": null,
            "max_height": null,
            "max_width": null,
            "min_height": null,
            "min_width": null,
            "object_fit": null,
            "object_position": null,
            "order": null,
            "overflow": null,
            "overflow_x": null,
            "overflow_y": null,
            "padding": null,
            "right": null,
            "top": null,
            "visibility": null,
            "width": null
          }
        },
        "3d27d29c676d4c00a89327dc884d982a": {
          "model_module": "@jupyter-widgets/controls",
          "model_name": "ProgressStyleModel",
          "model_module_version": "1.5.0",
          "state": {
            "_model_module": "@jupyter-widgets/controls",
            "_model_module_version": "1.5.0",
            "_model_name": "ProgressStyleModel",
            "_view_count": null,
            "_view_module": "@jupyter-widgets/base",
            "_view_module_version": "1.2.0",
            "_view_name": "StyleView",
            "bar_color": null,
            "description_width": ""
          }
        },
        "353a32a391d545e58be0cf55a232f685": {
          "model_module": "@jupyter-widgets/base",
          "model_name": "LayoutModel",
          "model_module_version": "1.2.0",
          "state": {
            "_model_module": "@jupyter-widgets/base",
            "_model_module_version": "1.2.0",
            "_model_name": "LayoutModel",
            "_view_count": null,
            "_view_module": "@jupyter-widgets/base",
            "_view_module_version": "1.2.0",
            "_view_name": "LayoutView",
            "align_content": null,
            "align_items": null,
            "align_self": null,
            "border": null,
            "bottom": null,
            "display": null,
            "flex": null,
            "flex_flow": null,
            "grid_area": null,
            "grid_auto_columns": null,
            "grid_auto_flow": null,
            "grid_auto_rows": null,
            "grid_column": null,
            "grid_gap": null,
            "grid_row": null,
            "grid_template_areas": null,
            "grid_template_columns": null,
            "grid_template_rows": null,
            "height": null,
            "justify_content": null,
            "justify_items": null,
            "left": null,
            "margin": null,
            "max_height": null,
            "max_width": null,
            "min_height": null,
            "min_width": null,
            "object_fit": null,
            "object_position": null,
            "order": null,
            "overflow": null,
            "overflow_x": null,
            "overflow_y": null,
            "padding": null,
            "right": null,
            "top": null,
            "visibility": null,
            "width": null
          }
        },
        "5d54f99f2cf541e68710b94ff28b81c2": {
          "model_module": "@jupyter-widgets/controls",
          "model_name": "DescriptionStyleModel",
          "model_module_version": "1.5.0",
          "state": {
            "_model_module": "@jupyter-widgets/controls",
            "_model_module_version": "1.5.0",
            "_model_name": "DescriptionStyleModel",
            "_view_count": null,
            "_view_module": "@jupyter-widgets/base",
            "_view_module_version": "1.2.0",
            "_view_name": "StyleView",
            "description_width": ""
          }
        },
        "98374eb7aa9f4c4b9a72ca3cd38e6da9": {
          "model_module": "@jupyter-widgets/controls",
          "model_name": "HBoxModel",
          "model_module_version": "1.5.0",
          "state": {
            "_dom_classes": [],
            "_model_module": "@jupyter-widgets/controls",
            "_model_module_version": "1.5.0",
            "_model_name": "HBoxModel",
            "_view_count": null,
            "_view_module": "@jupyter-widgets/controls",
            "_view_module_version": "1.5.0",
            "_view_name": "HBoxView",
            "box_style": "",
            "children": [
              "IPY_MODEL_ad84b8d907fa436a8f01c405b1d8ccaa",
              "IPY_MODEL_6486a6477ef64028bd5d950e90249df1",
              "IPY_MODEL_7a7e58d5bd1b432dbfcf2e6f4f94b941"
            ],
            "layout": "IPY_MODEL_7cef3a4202d146a9b5140dc01096ab6f"
          }
        },
        "ad84b8d907fa436a8f01c405b1d8ccaa": {
          "model_module": "@jupyter-widgets/controls",
          "model_name": "HTMLModel",
          "model_module_version": "1.5.0",
          "state": {
            "_dom_classes": [],
            "_model_module": "@jupyter-widgets/controls",
            "_model_module_version": "1.5.0",
            "_model_name": "HTMLModel",
            "_view_count": null,
            "_view_module": "@jupyter-widgets/controls",
            "_view_module_version": "1.5.0",
            "_view_name": "HTMLView",
            "description": "",
            "description_tooltip": null,
            "layout": "IPY_MODEL_1bceabe2ea0e43cc9faa4f53d8c7894e",
            "placeholder": "​",
            "style": "IPY_MODEL_691b0791f02142738c405356f0fa53c7",
            "value": "Downloading: 100%"
          }
        },
        "6486a6477ef64028bd5d950e90249df1": {
          "model_module": "@jupyter-widgets/controls",
          "model_name": "FloatProgressModel",
          "model_module_version": "1.5.0",
          "state": {
            "_dom_classes": [],
            "_model_module": "@jupyter-widgets/controls",
            "_model_module_version": "1.5.0",
            "_model_name": "FloatProgressModel",
            "_view_count": null,
            "_view_module": "@jupyter-widgets/controls",
            "_view_module_version": "1.5.0",
            "_view_name": "ProgressView",
            "bar_style": "success",
            "description": "",
            "description_tooltip": null,
            "layout": "IPY_MODEL_086062e0ba8743e1a43513cf14411d2b",
            "max": 231536,
            "min": 0,
            "orientation": "horizontal",
            "style": "IPY_MODEL_faffc7a410624e3293a3ca26c920f4b8",
            "value": 231536
          }
        },
        "7a7e58d5bd1b432dbfcf2e6f4f94b941": {
          "model_module": "@jupyter-widgets/controls",
          "model_name": "HTMLModel",
          "model_module_version": "1.5.0",
          "state": {
            "_dom_classes": [],
            "_model_module": "@jupyter-widgets/controls",
            "_model_module_version": "1.5.0",
            "_model_name": "HTMLModel",
            "_view_count": null,
            "_view_module": "@jupyter-widgets/controls",
            "_view_module_version": "1.5.0",
            "_view_name": "HTMLView",
            "description": "",
            "description_tooltip": null,
            "layout": "IPY_MODEL_de4781cface444a19736a685e79c632d",
            "placeholder": "​",
            "style": "IPY_MODEL_cf812f10deaa4f7384c2e34df2eaf53d",
            "value": " 232k/232k [00:00&lt;00:00, 247kB/s]"
          }
        },
        "7cef3a4202d146a9b5140dc01096ab6f": {
          "model_module": "@jupyter-widgets/base",
          "model_name": "LayoutModel",
          "model_module_version": "1.2.0",
          "state": {
            "_model_module": "@jupyter-widgets/base",
            "_model_module_version": "1.2.0",
            "_model_name": "LayoutModel",
            "_view_count": null,
            "_view_module": "@jupyter-widgets/base",
            "_view_module_version": "1.2.0",
            "_view_name": "LayoutView",
            "align_content": null,
            "align_items": null,
            "align_self": null,
            "border": null,
            "bottom": null,
            "display": null,
            "flex": null,
            "flex_flow": null,
            "grid_area": null,
            "grid_auto_columns": null,
            "grid_auto_flow": null,
            "grid_auto_rows": null,
            "grid_column": null,
            "grid_gap": null,
            "grid_row": null,
            "grid_template_areas": null,
            "grid_template_columns": null,
            "grid_template_rows": null,
            "height": null,
            "justify_content": null,
            "justify_items": null,
            "left": null,
            "margin": null,
            "max_height": null,
            "max_width": null,
            "min_height": null,
            "min_width": null,
            "object_fit": null,
            "object_position": null,
            "order": null,
            "overflow": null,
            "overflow_x": null,
            "overflow_y": null,
            "padding": null,
            "right": null,
            "top": null,
            "visibility": null,
            "width": null
          }
        },
        "1bceabe2ea0e43cc9faa4f53d8c7894e": {
          "model_module": "@jupyter-widgets/base",
          "model_name": "LayoutModel",
          "model_module_version": "1.2.0",
          "state": {
            "_model_module": "@jupyter-widgets/base",
            "_model_module_version": "1.2.0",
            "_model_name": "LayoutModel",
            "_view_count": null,
            "_view_module": "@jupyter-widgets/base",
            "_view_module_version": "1.2.0",
            "_view_name": "LayoutView",
            "align_content": null,
            "align_items": null,
            "align_self": null,
            "border": null,
            "bottom": null,
            "display": null,
            "flex": null,
            "flex_flow": null,
            "grid_area": null,
            "grid_auto_columns": null,
            "grid_auto_flow": null,
            "grid_auto_rows": null,
            "grid_column": null,
            "grid_gap": null,
            "grid_row": null,
            "grid_template_areas": null,
            "grid_template_columns": null,
            "grid_template_rows": null,
            "height": null,
            "justify_content": null,
            "justify_items": null,
            "left": null,
            "margin": null,
            "max_height": null,
            "max_width": null,
            "min_height": null,
            "min_width": null,
            "object_fit": null,
            "object_position": null,
            "order": null,
            "overflow": null,
            "overflow_x": null,
            "overflow_y": null,
            "padding": null,
            "right": null,
            "top": null,
            "visibility": null,
            "width": null
          }
        },
        "691b0791f02142738c405356f0fa53c7": {
          "model_module": "@jupyter-widgets/controls",
          "model_name": "DescriptionStyleModel",
          "model_module_version": "1.5.0",
          "state": {
            "_model_module": "@jupyter-widgets/controls",
            "_model_module_version": "1.5.0",
            "_model_name": "DescriptionStyleModel",
            "_view_count": null,
            "_view_module": "@jupyter-widgets/base",
            "_view_module_version": "1.2.0",
            "_view_name": "StyleView",
            "description_width": ""
          }
        },
        "086062e0ba8743e1a43513cf14411d2b": {
          "model_module": "@jupyter-widgets/base",
          "model_name": "LayoutModel",
          "model_module_version": "1.2.0",
          "state": {
            "_model_module": "@jupyter-widgets/base",
            "_model_module_version": "1.2.0",
            "_model_name": "LayoutModel",
            "_view_count": null,
            "_view_module": "@jupyter-widgets/base",
            "_view_module_version": "1.2.0",
            "_view_name": "LayoutView",
            "align_content": null,
            "align_items": null,
            "align_self": null,
            "border": null,
            "bottom": null,
            "display": null,
            "flex": null,
            "flex_flow": null,
            "grid_area": null,
            "grid_auto_columns": null,
            "grid_auto_flow": null,
            "grid_auto_rows": null,
            "grid_column": null,
            "grid_gap": null,
            "grid_row": null,
            "grid_template_areas": null,
            "grid_template_columns": null,
            "grid_template_rows": null,
            "height": null,
            "justify_content": null,
            "justify_items": null,
            "left": null,
            "margin": null,
            "max_height": null,
            "max_width": null,
            "min_height": null,
            "min_width": null,
            "object_fit": null,
            "object_position": null,
            "order": null,
            "overflow": null,
            "overflow_x": null,
            "overflow_y": null,
            "padding": null,
            "right": null,
            "top": null,
            "visibility": null,
            "width": null
          }
        },
        "faffc7a410624e3293a3ca26c920f4b8": {
          "model_module": "@jupyter-widgets/controls",
          "model_name": "ProgressStyleModel",
          "model_module_version": "1.5.0",
          "state": {
            "_model_module": "@jupyter-widgets/controls",
            "_model_module_version": "1.5.0",
            "_model_name": "ProgressStyleModel",
            "_view_count": null,
            "_view_module": "@jupyter-widgets/base",
            "_view_module_version": "1.2.0",
            "_view_name": "StyleView",
            "bar_color": null,
            "description_width": ""
          }
        },
        "de4781cface444a19736a685e79c632d": {
          "model_module": "@jupyter-widgets/base",
          "model_name": "LayoutModel",
          "model_module_version": "1.2.0",
          "state": {
            "_model_module": "@jupyter-widgets/base",
            "_model_module_version": "1.2.0",
            "_model_name": "LayoutModel",
            "_view_count": null,
            "_view_module": "@jupyter-widgets/base",
            "_view_module_version": "1.2.0",
            "_view_name": "LayoutView",
            "align_content": null,
            "align_items": null,
            "align_self": null,
            "border": null,
            "bottom": null,
            "display": null,
            "flex": null,
            "flex_flow": null,
            "grid_area": null,
            "grid_auto_columns": null,
            "grid_auto_flow": null,
            "grid_auto_rows": null,
            "grid_column": null,
            "grid_gap": null,
            "grid_row": null,
            "grid_template_areas": null,
            "grid_template_columns": null,
            "grid_template_rows": null,
            "height": null,
            "justify_content": null,
            "justify_items": null,
            "left": null,
            "margin": null,
            "max_height": null,
            "max_width": null,
            "min_height": null,
            "min_width": null,
            "object_fit": null,
            "object_position": null,
            "order": null,
            "overflow": null,
            "overflow_x": null,
            "overflow_y": null,
            "padding": null,
            "right": null,
            "top": null,
            "visibility": null,
            "width": null
          }
        },
        "cf812f10deaa4f7384c2e34df2eaf53d": {
          "model_module": "@jupyter-widgets/controls",
          "model_name": "DescriptionStyleModel",
          "model_module_version": "1.5.0",
          "state": {
            "_model_module": "@jupyter-widgets/controls",
            "_model_module_version": "1.5.0",
            "_model_name": "DescriptionStyleModel",
            "_view_count": null,
            "_view_module": "@jupyter-widgets/base",
            "_view_module_version": "1.2.0",
            "_view_name": "StyleView",
            "description_width": ""
          }
        },
        "32c6d9a35adc48fc94d8925095d6cbbb": {
          "model_module": "@jupyter-widgets/controls",
          "model_name": "HBoxModel",
          "model_module_version": "1.5.0",
          "state": {
            "_dom_classes": [],
            "_model_module": "@jupyter-widgets/controls",
            "_model_module_version": "1.5.0",
            "_model_name": "HBoxModel",
            "_view_count": null,
            "_view_module": "@jupyter-widgets/controls",
            "_view_module_version": "1.5.0",
            "_view_name": "HBoxView",
            "box_style": "",
            "children": [
              "IPY_MODEL_6aaaffc42ba24365b9ebaaa26b6b9643",
              "IPY_MODEL_57669f63082e4e34882a32a6d3e09c5e",
              "IPY_MODEL_a15d8659bd044151ac122b555f46a473"
            ],
            "layout": "IPY_MODEL_8a619cfc86fc48038154e62ffbb8e6d6"
          }
        },
        "6aaaffc42ba24365b9ebaaa26b6b9643": {
          "model_module": "@jupyter-widgets/controls",
          "model_name": "HTMLModel",
          "model_module_version": "1.5.0",
          "state": {
            "_dom_classes": [],
            "_model_module": "@jupyter-widgets/controls",
            "_model_module_version": "1.5.0",
            "_model_name": "HTMLModel",
            "_view_count": null,
            "_view_module": "@jupyter-widgets/controls",
            "_view_module_version": "1.5.0",
            "_view_name": "HTMLView",
            "description": "",
            "description_tooltip": null,
            "layout": "IPY_MODEL_445c3b8d9b134759b844a5a7fb7e73b4",
            "placeholder": "​",
            "style": "IPY_MODEL_804c47d57e5d4214bd2c302a0d6942b2",
            "value": "Downloading: 100%"
          }
        },
        "57669f63082e4e34882a32a6d3e09c5e": {
          "model_module": "@jupyter-widgets/controls",
          "model_name": "FloatProgressModel",
          "model_module_version": "1.5.0",
          "state": {
            "_dom_classes": [],
            "_model_module": "@jupyter-widgets/controls",
            "_model_module_version": "1.5.0",
            "_model_name": "FloatProgressModel",
            "_view_count": null,
            "_view_module": "@jupyter-widgets/controls",
            "_view_module_version": "1.5.0",
            "_view_name": "ProgressView",
            "bar_style": "success",
            "description": "",
            "description_tooltip": null,
            "layout": "IPY_MODEL_f6c9120817444bb19d9936840a7fdc7d",
            "max": 229,
            "min": 0,
            "orientation": "horizontal",
            "style": "IPY_MODEL_26298b84dc194062b4b864e4b7316da0",
            "value": 229
          }
        },
        "a15d8659bd044151ac122b555f46a473": {
          "model_module": "@jupyter-widgets/controls",
          "model_name": "HTMLModel",
          "model_module_version": "1.5.0",
          "state": {
            "_dom_classes": [],
            "_model_module": "@jupyter-widgets/controls",
            "_model_module_version": "1.5.0",
            "_model_name": "HTMLModel",
            "_view_count": null,
            "_view_module": "@jupyter-widgets/controls",
            "_view_module_version": "1.5.0",
            "_view_name": "HTMLView",
            "description": "",
            "description_tooltip": null,
            "layout": "IPY_MODEL_ecc155a3ce064992bde6954ecc63bdf0",
            "placeholder": "​",
            "style": "IPY_MODEL_a47086e483554a71bd2c41a28f5a36db",
            "value": " 229/229 [00:00&lt;00:00, 7.18kB/s]"
          }
        },
        "8a619cfc86fc48038154e62ffbb8e6d6": {
          "model_module": "@jupyter-widgets/base",
          "model_name": "LayoutModel",
          "model_module_version": "1.2.0",
          "state": {
            "_model_module": "@jupyter-widgets/base",
            "_model_module_version": "1.2.0",
            "_model_name": "LayoutModel",
            "_view_count": null,
            "_view_module": "@jupyter-widgets/base",
            "_view_module_version": "1.2.0",
            "_view_name": "LayoutView",
            "align_content": null,
            "align_items": null,
            "align_self": null,
            "border": null,
            "bottom": null,
            "display": null,
            "flex": null,
            "flex_flow": null,
            "grid_area": null,
            "grid_auto_columns": null,
            "grid_auto_flow": null,
            "grid_auto_rows": null,
            "grid_column": null,
            "grid_gap": null,
            "grid_row": null,
            "grid_template_areas": null,
            "grid_template_columns": null,
            "grid_template_rows": null,
            "height": null,
            "justify_content": null,
            "justify_items": null,
            "left": null,
            "margin": null,
            "max_height": null,
            "max_width": null,
            "min_height": null,
            "min_width": null,
            "object_fit": null,
            "object_position": null,
            "order": null,
            "overflow": null,
            "overflow_x": null,
            "overflow_y": null,
            "padding": null,
            "right": null,
            "top": null,
            "visibility": null,
            "width": null
          }
        },
        "445c3b8d9b134759b844a5a7fb7e73b4": {
          "model_module": "@jupyter-widgets/base",
          "model_name": "LayoutModel",
          "model_module_version": "1.2.0",
          "state": {
            "_model_module": "@jupyter-widgets/base",
            "_model_module_version": "1.2.0",
            "_model_name": "LayoutModel",
            "_view_count": null,
            "_view_module": "@jupyter-widgets/base",
            "_view_module_version": "1.2.0",
            "_view_name": "LayoutView",
            "align_content": null,
            "align_items": null,
            "align_self": null,
            "border": null,
            "bottom": null,
            "display": null,
            "flex": null,
            "flex_flow": null,
            "grid_area": null,
            "grid_auto_columns": null,
            "grid_auto_flow": null,
            "grid_auto_rows": null,
            "grid_column": null,
            "grid_gap": null,
            "grid_row": null,
            "grid_template_areas": null,
            "grid_template_columns": null,
            "grid_template_rows": null,
            "height": null,
            "justify_content": null,
            "justify_items": null,
            "left": null,
            "margin": null,
            "max_height": null,
            "max_width": null,
            "min_height": null,
            "min_width": null,
            "object_fit": null,
            "object_position": null,
            "order": null,
            "overflow": null,
            "overflow_x": null,
            "overflow_y": null,
            "padding": null,
            "right": null,
            "top": null,
            "visibility": null,
            "width": null
          }
        },
        "804c47d57e5d4214bd2c302a0d6942b2": {
          "model_module": "@jupyter-widgets/controls",
          "model_name": "DescriptionStyleModel",
          "model_module_version": "1.5.0",
          "state": {
            "_model_module": "@jupyter-widgets/controls",
            "_model_module_version": "1.5.0",
            "_model_name": "DescriptionStyleModel",
            "_view_count": null,
            "_view_module": "@jupyter-widgets/base",
            "_view_module_version": "1.2.0",
            "_view_name": "StyleView",
            "description_width": ""
          }
        },
        "f6c9120817444bb19d9936840a7fdc7d": {
          "model_module": "@jupyter-widgets/base",
          "model_name": "LayoutModel",
          "model_module_version": "1.2.0",
          "state": {
            "_model_module": "@jupyter-widgets/base",
            "_model_module_version": "1.2.0",
            "_model_name": "LayoutModel",
            "_view_count": null,
            "_view_module": "@jupyter-widgets/base",
            "_view_module_version": "1.2.0",
            "_view_name": "LayoutView",
            "align_content": null,
            "align_items": null,
            "align_self": null,
            "border": null,
            "bottom": null,
            "display": null,
            "flex": null,
            "flex_flow": null,
            "grid_area": null,
            "grid_auto_columns": null,
            "grid_auto_flow": null,
            "grid_auto_rows": null,
            "grid_column": null,
            "grid_gap": null,
            "grid_row": null,
            "grid_template_areas": null,
            "grid_template_columns": null,
            "grid_template_rows": null,
            "height": null,
            "justify_content": null,
            "justify_items": null,
            "left": null,
            "margin": null,
            "max_height": null,
            "max_width": null,
            "min_height": null,
            "min_width": null,
            "object_fit": null,
            "object_position": null,
            "order": null,
            "overflow": null,
            "overflow_x": null,
            "overflow_y": null,
            "padding": null,
            "right": null,
            "top": null,
            "visibility": null,
            "width": null
          }
        },
        "26298b84dc194062b4b864e4b7316da0": {
          "model_module": "@jupyter-widgets/controls",
          "model_name": "ProgressStyleModel",
          "model_module_version": "1.5.0",
          "state": {
            "_model_module": "@jupyter-widgets/controls",
            "_model_module_version": "1.5.0",
            "_model_name": "ProgressStyleModel",
            "_view_count": null,
            "_view_module": "@jupyter-widgets/base",
            "_view_module_version": "1.2.0",
            "_view_name": "StyleView",
            "bar_color": null,
            "description_width": ""
          }
        },
        "ecc155a3ce064992bde6954ecc63bdf0": {
          "model_module": "@jupyter-widgets/base",
          "model_name": "LayoutModel",
          "model_module_version": "1.2.0",
          "state": {
            "_model_module": "@jupyter-widgets/base",
            "_model_module_version": "1.2.0",
            "_model_name": "LayoutModel",
            "_view_count": null,
            "_view_module": "@jupyter-widgets/base",
            "_view_module_version": "1.2.0",
            "_view_name": "LayoutView",
            "align_content": null,
            "align_items": null,
            "align_self": null,
            "border": null,
            "bottom": null,
            "display": null,
            "flex": null,
            "flex_flow": null,
            "grid_area": null,
            "grid_auto_columns": null,
            "grid_auto_flow": null,
            "grid_auto_rows": null,
            "grid_column": null,
            "grid_gap": null,
            "grid_row": null,
            "grid_template_areas": null,
            "grid_template_columns": null,
            "grid_template_rows": null,
            "height": null,
            "justify_content": null,
            "justify_items": null,
            "left": null,
            "margin": null,
            "max_height": null,
            "max_width": null,
            "min_height": null,
            "min_width": null,
            "object_fit": null,
            "object_position": null,
            "order": null,
            "overflow": null,
            "overflow_x": null,
            "overflow_y": null,
            "padding": null,
            "right": null,
            "top": null,
            "visibility": null,
            "width": null
          }
        },
        "a47086e483554a71bd2c41a28f5a36db": {
          "model_module": "@jupyter-widgets/controls",
          "model_name": "DescriptionStyleModel",
          "model_module_version": "1.5.0",
          "state": {
            "_model_module": "@jupyter-widgets/controls",
            "_model_module_version": "1.5.0",
            "_model_name": "DescriptionStyleModel",
            "_view_count": null,
            "_view_module": "@jupyter-widgets/base",
            "_view_module_version": "1.2.0",
            "_view_name": "StyleView",
            "description_width": ""
          }
        }
      }
    }
  },
  "nbformat": 4,
  "nbformat_minor": 5
}